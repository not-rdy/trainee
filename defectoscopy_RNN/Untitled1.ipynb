{
 "cells": [
  {
   "cell_type": "code",
   "execution_count": 2,
   "metadata": {},
   "outputs": [],
   "source": [
    "import os\n",
    "import pickle\n",
    "import numpy as np\n",
    "import pandas as pd\n",
    "\n",
    "train_y = []\n",
    "test_y = []\n",
    "\n",
    "ids_train = [int(x) for x in np.linspace(start=0, stop=902, num=18, endpoint=True)]\n",
    "ids_test = [int(x) for x in np.linspace(start=0, stop=50, num=18, endpoint=True)]\n",
    "\n",
    "for idx_left_train, idx_right_train, idx_left_test, idx_right_test in zip(ids_train[:-1], ids_train[1:], ids_test[:-1],\n",
    "                                                                          ids_test[1:]):\n",
    "\n",
    "    os.chdir('C:/Users/rustem.kamilyanov/defectoscopy2')\n",
    "    with open(f'train_y_{idx_left_train}_{idx_right_train}', 'rb') as y:\n",
    "        train_y.append(pickle.load(y))\n",
    "\n",
    "    os.chdir('C:/Users/rustem.kamilyanov/defectoscopy2')\n",
    "    with open(f'test_y_{idx_left_test}_{idx_right_test}', 'rb') as y:\n",
    "        test_y.append(pickle.load(y))\n",
    "\n"
   ]
  },
  {
   "cell_type": "code",
   "execution_count": 3,
   "metadata": {},
   "outputs": [],
   "source": [
    "train_y = [y.item() for x in train_y for y in x]\n",
    "test_y = [y.item() for x in test_y for y in x]"
   ]
  },
  {
   "cell_type": "code",
   "execution_count": 7,
   "metadata": {},
   "outputs": [
    {
     "data": {
      "text/plain": [
       "0    5383\n",
       "1     411\n",
       "4      67\n",
       "3       4\n",
       "2       3\n",
       "dtype: int64"
      ]
     },
     "execution_count": 7,
     "metadata": {},
     "output_type": "execute_result"
    }
   ],
   "source": [
    "pd.Series(train_y).value_counts()"
   ]
  },
  {
   "cell_type": "code",
   "execution_count": 8,
   "metadata": {
    "scrolled": true
   },
   "outputs": [
    {
     "data": {
      "text/plain": [
       "0    1037\n",
       "1      62\n",
       "2      20\n",
       "4      17\n",
       "3      11\n",
       "dtype: int64"
      ]
     },
     "execution_count": 8,
     "metadata": {},
     "output_type": "execute_result"
    }
   ],
   "source": [
    "pd.Series(test_y).value_counts()"
   ]
  }
 ],
 "metadata": {
  "kernelspec": {
   "display_name": "Python 3",
   "language": "python",
   "name": "python3"
  },
  "language_info": {
   "codemirror_mode": {
    "name": "ipython",
    "version": 3
   },
   "file_extension": ".py",
   "mimetype": "text/x-python",
   "name": "python",
   "nbconvert_exporter": "python",
   "pygments_lexer": "ipython3",
   "version": "3.8.8"
  }
 },
 "nbformat": 4,
 "nbformat_minor": 2
}
