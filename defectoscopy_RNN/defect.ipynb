{
 "cells": [
  {
   "cell_type": "code",
   "execution_count": 1,
   "metadata": {},
   "outputs": [],
   "source": [
    "import os\n",
    "import numpy as np\n",
    "import pandas as pd\n",
    "from scipy.sparse import load_npz\n",
    "from matplotlib import pyplot as plt\n",
    "plt.style.use('dark_background')"
   ]
  },
  {
   "cell_type": "markdown",
   "metadata": {},
   "source": [
    "### train"
   ]
  },
  {
   "cell_type": "code",
   "execution_count": 2,
   "metadata": {},
   "outputs": [],
   "source": [
    "train_signal_path = 'C:/Users/rustem.kamilyanov/defectoscopy2/train/signal'\n",
    "train_markup_path = 'C:/Users/rustem.kamilyanov/defectoscopy2/train/markup'\n",
    "\n",
    "train_names = os.listdir(train_signal_path)"
   ]
  },
  {
   "cell_type": "code",
   "execution_count": 3,
   "metadata": {},
   "outputs": [],
   "source": [
    "s = []\n",
    "l = []\n",
    "\n",
    "# train signals/labels\n",
    "for name in train_names:\n",
    "    temp_s = load_npz(train_signal_path + '/' + name).toarray()\n",
    "    s.append(temp_s)\n",
    "    \n",
    "    temp_l = load_npz(train_markup_path + '/' + name).toarray()\n",
    "    l.append(temp_l)\n",
    "    \n",
    "signals_train = np.concatenate([s[i] for i in range(len(s))])\n",
    "labels_train = np.concatenate([l[i].reshape(-1) for i in range(len(l))])\n",
    "\n",
    "\n",
    "idx = np.random.choice(int(signals_train.shape[0]), int(5e+3), replace=False)\n",
    "signals_train = signals_train[idx, :]\n",
    "\n",
    "labels_train = labels_train.reshape(-1, 1)[idx, :]\n",
    "labels_train = labels_train.reshape(-1)"
   ]
  },
  {
   "cell_type": "code",
   "execution_count": null,
   "metadata": {},
   "outputs": [],
   "source": [
    "plt.bar(x=pd.Series(labels_train).value_counts(normalize=True).index, \n",
    "        height=pd.Series(labels_train).value_counts(normalize=True));"
   ]
  },
  {
   "cell_type": "code",
   "execution_count": null,
   "metadata": {},
   "outputs": [],
   "source": [
    "pd.Series(labels_train).value_counts()"
   ]
  },
  {
   "cell_type": "markdown",
   "metadata": {},
   "source": [
    "### SMOTE Resample"
   ]
  },
  {
   "cell_type": "code",
   "execution_count": 4,
   "metadata": {},
   "outputs": [],
   "source": [
    "from imblearn.over_sampling import SMOTE\n",
    "from sklearn.preprocessing import MinMaxScaler\n",
    "\n",
    "scaler = MinMaxScaler(feature_range=(-1, 1))\n",
    "signals_train_scale = scaler.fit_transform(signals_train)\n",
    "\n",
    "k = 5\n",
    "sm = SMOTE(random_state=14, \n",
    "           k_neighbors=k, \n",
    "           sampling_strategy='not majority',\n",
    "           n_jobs=-1)\n",
    "signals_train_scale, labels_train = sm.fit_resample(signals_train_scale, labels_train)"
   ]
  },
  {
   "cell_type": "code",
   "execution_count": 7,
   "metadata": {},
   "outputs": [
    {
     "data": {
      "text/plain": [
       "<BarContainer object of 5 artists>"
      ]
     },
     "execution_count": 7,
     "metadata": {},
     "output_type": "execute_result"
    },
    {
     "data": {
      "image/png": "[encoded data removed]",
      "text/plain": [
       "<Figure size 432x288 with 1 Axes>"
      ]
     },
     "metadata": {
      "needs_background": "dark"
     },
     "output_type": "display_data"
    }
   ],
   "source": [
    "plt.bar(x=pd.Series(labels_train).value_counts(normalize=True).index, \n",
    "        height=pd.Series(labels_train).value_counts(normalize=True))"
   ]
  },
  {
   "cell_type": "code",
   "execution_count": 8,
   "metadata": {},
   "outputs": [
    {
     "data": {
      "text/plain": [
       "5.0    4337\n",
       "2.0    4337\n",
       "6.0    4337\n",
       "3.0    4337\n",
       "0.0    4337\n",
       "dtype: int64"
      ]
     },
     "execution_count": 8,
     "metadata": {},
     "output_type": "execute_result"
    }
   ],
   "source": [
    "pd.Series(labels_train).value_counts()"
   ]
  },
  {
   "cell_type": "markdown",
   "metadata": {},
   "source": [
    "### test"
   ]
  },
  {
   "cell_type": "code",
   "execution_count": 5,
   "metadata": {},
   "outputs": [],
   "source": [
    "test_signal_path = 'C:/Users/rustem.kamilyanov/defectoscopy2/test/signal'\n",
    "test_markup_path = 'C:/Users/rustem.kamilyanov/defectoscopy2/test/markup'\n",
    "\n",
    "test_names = os.listdir(test_signal_path)"
   ]
  },
  {
   "cell_type": "code",
   "execution_count": 6,
   "metadata": {},
   "outputs": [],
   "source": [
    "s = []\n",
    "l = []\n",
    "\n",
    "# test signals/labels\n",
    "for name in test_names:\n",
    "    temp_s = load_npz(test_signal_path + '/' + name).toarray()\n",
    "    s.append(temp_s)\n",
    "    \n",
    "    temp_l = load_npz(test_markup_path + '/' + name).toarray()\n",
    "    l.append(temp_l)\n",
    "    \n",
    "signals_test = np.concatenate([s[i] for i in range(len(s))])\n",
    "labels_test = np.concatenate([l[i].reshape(-1) for i in range(len(l))])\n",
    "\n",
    "idx = np.random.choice(int(signals_test.shape[0]), 1500, replace=False)\n",
    "signals_test = signals_test[idx, :]\n",
    "labels_test = labels_test.reshape(-1, 1)[idx, :]\n",
    "labels_test = labels_test.reshape(-1)"
   ]
  },
  {
   "cell_type": "code",
   "execution_count": 11,
   "metadata": {},
   "outputs": [
    {
     "data": {
      "image/png": "[encoded data removed]",
      "text/plain": [
       "<Figure size 432x288 with 1 Axes>"
      ]
     },
     "metadata": {
      "needs_background": "dark"
     },
     "output_type": "display_data"
    }
   ],
   "source": [
    "plt.bar(x=pd.Series(labels_test).value_counts(normalize=True).index, \n",
    "        height=pd.Series(labels_test).value_counts(normalize=True));"
   ]
  },
  {
   "cell_type": "markdown",
   "metadata": {},
   "source": [
    "### LSTM"
   ]
  },
  {
   "cell_type": "code",
   "execution_count": 7,
   "metadata": {},
   "outputs": [],
   "source": [
    "import torch\n",
    "import torch.nn as nn\n",
    "import torch.optim as optim\n",
    "from torch.utils.data import DataLoader\n",
    "\n",
    "from tqdm import tqdm"
   ]
  },
  {
   "cell_type": "markdown",
   "metadata": {},
   "source": [
    "##### DataLoader"
   ]
  },
  {
   "cell_type": "code",
   "execution_count": 8,
   "metadata": {},
   "outputs": [],
   "source": [
    "from torch.utils.data import Dataset\n",
    "\n",
    "class edDataset(Dataset):\n",
    "    def __init__(self, sample, labels) -> None:\n",
    "        super(edDataset, self).__init__\n",
    "        \n",
    "        self.sam = torch.tensor(sample, dtype=torch.float)\n",
    "        self.lab = torch.tensor(labels, dtype=torch.long)\n",
    "        \n",
    "    def __len__(self):\n",
    "        return len(self.sam)\n",
    "    \n",
    "    def __getitem__(self, idx):\n",
    "        return self.sam[idx], self.lab[idx]"
   ]
  },
  {
   "cell_type": "code",
   "execution_count": 9,
   "metadata": {},
   "outputs": [],
   "source": [
    "from torch.utils.data import DataLoader\n",
    "    \n",
    "class dlDataset(object):\n",
    "    \n",
    "    def __init__(self, signals_train, labels_train, \n",
    "                 signals_test, labels_test, batch_size, input_size) -> None:\n",
    "        \n",
    "        self.signals_train = signals_train\n",
    "        self.labels_train = labels_train\n",
    "        self.signals_test = signals_test\n",
    "        self.labels_test = labels_test\n",
    "        \n",
    "        self.batch_size = batch_size\n",
    "        self.input_size = input_size\n",
    "    \n",
    "    def get_train(self):\n",
    "        dataset = edDataset(self.signals_train, self.labels_train)\n",
    "        return DataLoader(dataset, batch_size=self.batch_size, shuffle=True)\n",
    "    \n",
    "    def get_test(self):\n",
    "        dataset = edDataset(self.signals_test, self.labels_test)\n",
    "        return DataLoader(dataset, batch_size=self.batch_size, shuffle=False)"
   ]
  },
  {
   "cell_type": "markdown",
   "metadata": {},
   "source": [
    "##### Metric"
   ]
  },
  {
   "cell_type": "code",
   "execution_count": 10,
   "metadata": {},
   "outputs": [],
   "source": [
    "@torch.no_grad()\n",
    "def metric(model, test_loader):\n",
    "    # качество распознования классов\n",
    "    class_recognition = {'0': [], \n",
    "                        '1': None, '2': [], '3': [],\n",
    "                        '4': None, '5': [], '6': []}\n",
    "\n",
    "    for x, y in test_loader:\n",
    "        raw_predict = model(x.to(device))\n",
    "        class_probs = nn.Softmax(dim=0)(raw_predict)\n",
    "        \n",
    "        predict_classes = [clss.argmax().item() for clss in class_probs]\n",
    "        true_classes = y.tolist()\n",
    "        \n",
    "        for predict_class, true_class in zip(predict_classes, true_classes):\n",
    "            if predict_class == true_class:\n",
    "                class_recognition[str(true_class)].append(1)\n",
    "            else:\n",
    "                if predict_class != true_class:\n",
    "                    class_recognition[str(true_class)].append(0)\n",
    "        \n",
    "    out = {'0': round(sum(class_recognition['0'])/len(class_recognition['0']), 2),\n",
    "           '1': None, \n",
    "           '2': round(sum(class_recognition['2'])/len(class_recognition['2']), 2), \n",
    "           '3': round(sum(class_recognition['3'])/len(class_recognition['3']), 2),\n",
    "           '4': None, \n",
    "           '5': round(sum(class_recognition['5'])/len(class_recognition['5']), 2), \n",
    "           '6': round(sum(class_recognition['6'])/len(class_recognition['6']), 2)}\n",
    "    return out"
   ]
  },
  {
   "cell_type": "markdown",
   "metadata": {},
   "source": [
    "##### Pipeline"
   ]
  },
  {
   "cell_type": "code",
   "execution_count": 11,
   "metadata": {},
   "outputs": [],
   "source": [
    "from IPython.display import clear_output\n",
    "\n",
    "def train_pipeline(model, optimizer, loss_func, dataloader, num_epochs, \n",
    "                   num_layers, bidirectional):\n",
    "    loss_history_epoch = []\n",
    "    \n",
    "    metric_history_epoch = []\n",
    "    a_class = []\n",
    "    b_class = []\n",
    "    c_class = []\n",
    "    d_class = []\n",
    "    e_class = []\n",
    "    f_class = []\n",
    "    g_class = []\n",
    "\n",
    "    test_loader = dataloader.get_test()\n",
    "\n",
    "    for idx_epoch in range(num_epochs):\n",
    "        model.train()\n",
    "        train_loader = dataloader.get_train()\n",
    "\n",
    "        loss_history_batch = []\n",
    "\n",
    "        for x, y in tqdm(train_loader, desc=f'[Epoch #{idx_epoch}]',\n",
    "                                           total=len(train_loader)):\n",
    "            optimizer.zero_grad()\n",
    "\n",
    "            if bidirectional:\n",
    "                model.hidden_cell = (torch.zeros(num_layers*2, 1, model.hidden_layer_size),\n",
    "                                     torch.zeros(num_layers*2, 1, model.hidden_layer_size))\n",
    "            else:\n",
    "                model.hidden_cell = (torch.zeros(num_layers, 1, model.hidden_layer_size),\n",
    "                                     torch.zeros(num_layers, 1, model.hidden_layer_size))\n",
    "\n",
    "            \n",
    "            y_hat = model(x.to(device))\n",
    "\n",
    "            loss = loss_func(y_hat, y.to(device))\n",
    "            loss.backward()\n",
    "            optimizer.step()\n",
    "\n",
    "            loss_history_batch.append(loss.item())\n",
    "        \n",
    "        # Eval\n",
    "        model.eval()\n",
    "        metric_out = metric(model=model, test_loader=test_loader)\n",
    "        a = metric_out['0']\n",
    "        b = metric_out['1']\n",
    "        c = metric_out['2']\n",
    "        d = metric_out['3']\n",
    "        e = metric_out['4']\n",
    "        f = metric_out['5']\n",
    "        g = metric_out['6']\n",
    "        \n",
    "        a_class.append(a)\n",
    "        b_class.append(b)\n",
    "        c_class.append(c)\n",
    "        d_class.append(d)\n",
    "        e_class.append(e)\n",
    "        f_class.append(f)\n",
    "        g_class.append(g)\n",
    "        \n",
    "        loss_history_epoch.append(sum(loss_history_batch)/len(loss_history_batch))\n",
    "        metric_history_epoch.append(metric_out)\n",
    "        \n",
    "        if idx_epoch%1==0:\n",
    "            #print(f'[Epoch #{idx_epoch}], \\\n",
    "            #LOSS: {loss_history_epoch[idx_epoch]:.3f}, \\\n",
    "            #Class Recognition: {a, b, c, d, e, f, g}')\n",
    "            \n",
    "            clear_output(wait=True)\n",
    "            plt.figure(figsize=(15,8))\n",
    "            plt.plot(loss_history_epoch, label='LOSS', c='red')\n",
    "            plt.plot(a_class, label='Class: 0')\n",
    "            plt.plot(b_class)\n",
    "            plt.plot(c_class, label='Class: 2')\n",
    "            plt.plot(d_class, label='Class: 3')\n",
    "            plt.plot(e_class)\n",
    "            plt.plot(f_class, label='Class: 5')\n",
    "            plt.plot(g_class, label='Class: 6')\n",
    "            plt.title(f'LOSS: {loss_history_epoch[idx_epoch]:.3f} \\n \\n\\\n",
    "            class_0: {a}, \\\n",
    "            class_1: {b}, \\\n",
    "            class_2: {c}, \\\n",
    "            class_3: {d}, \\\n",
    "            class_4: {e}, \\\n",
    "            class_5: {f}, \\\n",
    "            class_6: {g} \\n  ')\n",
    "            plt.legend()\n",
    "            plt.show()\n",
    "\n",
    "    return loss_history_epoch, metric_history_epoch"
   ]
  },
  {
   "cell_type": "markdown",
   "metadata": {},
   "source": [
    "##### Model"
   ]
  },
  {
   "cell_type": "code",
   "execution_count": 12,
   "metadata": {},
   "outputs": [],
   "source": [
    "class LSTM(nn.Module):\n",
    "    def __init__(self, num_layers, bidirectional, dropout, input_size, hidden_layer_size=100, output_size=4):\n",
    "        super().__init__()\n",
    "        self.hidden_layer_size = hidden_layer_size\n",
    "        \n",
    "        if bidirectional:\n",
    "            self.hidden_cell = (torch.zeros(num_layers*2, 1, hidden_layer_size),\n",
    "                                torch.zeros(num_layers*2, 1, hidden_layer_size))\n",
    "            self.lstm_list = nn.LSTM(input_size=input_size, hidden_size=hidden_layer_size, \n",
    "                                     num_layers=num_layers, bidirectional=bidirectional, \n",
    "                                     dropout=dropout, )\n",
    "            self.linear = nn.Linear(hidden_layer_size*2, output_size)\n",
    "        else:\n",
    "            self.hidden_cell = (torch.zeros(num_layers, 1, hidden_layer_size),\n",
    "                                torch.zeros(num_layers, 1, hidden_layer_size))\n",
    "            self.lstm_list = nn.LSTM(input_size=input_size, hidden_size=hidden_layer_size, \n",
    "                                     num_layers=num_layers, bidirectional=bidirectional, \n",
    "                                     dropout=dropout)\n",
    "            self.linear = nn.Linear(hidden_layer_size, output_size)\n",
    "\n",
    "        \n",
    "    def forward(self, train_seq):\n",
    "        lstm_out, self.hidden_cell = self.lstm_list(train_seq.view(len(train_seq), 1, -1), \n",
    "                                                    self.hidden_cell)\n",
    "        \n",
    "        predictions = self.linear(lstm_out.view(len(train_seq), -1))\n",
    "        return predictions"
   ]
  },
  {
   "cell_type": "markdown",
   "metadata": {},
   "source": [
    "##### Params"
   ]
  },
  {
   "cell_type": "code",
   "execution_count": 15,
   "metadata": {},
   "outputs": [],
   "source": [
    "x, y = next(iter(dataloader.get_train()))"
   ]
  },
  {
   "cell_type": "code",
   "execution_count": 13,
   "metadata": {},
   "outputs": [
    {
     "name": "stderr",
     "output_type": "stream",
     "text": [
      "[Epoch #0]:   6%|████▎                                                              | 138/2135 [00:09<02:20, 14.19it/s]\n"
     ]
    },
    {
     "ename": "KeyboardInterrupt",
     "evalue": "",
     "output_type": "error",
     "traceback": [
      "\u001b[1;31m---------------------------------------------------------------------------\u001b[0m",
      "\u001b[1;31mKeyboardInterrupt\u001b[0m                         Traceback (most recent call last)",
      "\u001b[1;32m<ipython-input-13-070848551419>\u001b[0m in \u001b[0;36m<module>\u001b[1;34m\u001b[0m\n\u001b[0;32m     32\u001b[0m                                                           \u001b[0mnum_epochs\u001b[0m\u001b[1;33m=\u001b[0m\u001b[0mnum_epochs\u001b[0m\u001b[1;33m,\u001b[0m\u001b[1;33m\u001b[0m\u001b[1;33m\u001b[0m\u001b[0m\n\u001b[0;32m     33\u001b[0m                                                           \u001b[0mnum_layers\u001b[0m\u001b[1;33m=\u001b[0m\u001b[0mn_layers\u001b[0m\u001b[1;33m,\u001b[0m\u001b[1;33m\u001b[0m\u001b[1;33m\u001b[0m\u001b[0m\n\u001b[1;32m---> 34\u001b[1;33m                                                           bidirectional=bidirectional)\n\u001b[0m",
      "\u001b[1;32m<ipython-input-11-b065a76c6b9d>\u001b[0m in \u001b[0;36mtrain_pipeline\u001b[1;34m(model, optimizer, loss_func, dataloader, num_epochs, num_layers, bidirectional)\u001b[0m\n\u001b[0;32m     34\u001b[0m \u001b[1;33m\u001b[0m\u001b[0m\n\u001b[0;32m     35\u001b[0m \u001b[1;33m\u001b[0m\u001b[0m\n\u001b[1;32m---> 36\u001b[1;33m             \u001b[0my_hat\u001b[0m \u001b[1;33m=\u001b[0m \u001b[0mmodel\u001b[0m\u001b[1;33m(\u001b[0m\u001b[0mx\u001b[0m\u001b[1;33m.\u001b[0m\u001b[0mto\u001b[0m\u001b[1;33m(\u001b[0m\u001b[0mdevice\u001b[0m\u001b[1;33m)\u001b[0m\u001b[1;33m)\u001b[0m\u001b[1;33m\u001b[0m\u001b[1;33m\u001b[0m\u001b[0m\n\u001b[0m\u001b[0;32m     37\u001b[0m \u001b[1;33m\u001b[0m\u001b[0m\n\u001b[0;32m     38\u001b[0m             \u001b[0mloss\u001b[0m \u001b[1;33m=\u001b[0m \u001b[0mloss_func\u001b[0m\u001b[1;33m(\u001b[0m\u001b[0my_hat\u001b[0m\u001b[1;33m,\u001b[0m \u001b[0my\u001b[0m\u001b[1;33m.\u001b[0m\u001b[0mto\u001b[0m\u001b[1;33m(\u001b[0m\u001b[0mdevice\u001b[0m\u001b[1;33m)\u001b[0m\u001b[1;33m)\u001b[0m\u001b[1;33m\u001b[0m\u001b[1;33m\u001b[0m\u001b[0m\n",
      "\u001b[1;32mC:\\Progs\\Anaconda3\\lib\\site-packages\\torch\\nn\\modules\\module.py\u001b[0m in \u001b[0;36m__call__\u001b[1;34m(self, *input, **kwargs)\u001b[0m\n\u001b[0;32m    491\u001b[0m             \u001b[0mresult\u001b[0m \u001b[1;33m=\u001b[0m \u001b[0mself\u001b[0m\u001b[1;33m.\u001b[0m\u001b[0m_slow_forward\u001b[0m\u001b[1;33m(\u001b[0m\u001b[1;33m*\u001b[0m\u001b[0minput\u001b[0m\u001b[1;33m,\u001b[0m \u001b[1;33m**\u001b[0m\u001b[0mkwargs\u001b[0m\u001b[1;33m)\u001b[0m\u001b[1;33m\u001b[0m\u001b[1;33m\u001b[0m\u001b[0m\n\u001b[0;32m    492\u001b[0m         \u001b[1;32melse\u001b[0m\u001b[1;33m:\u001b[0m\u001b[1;33m\u001b[0m\u001b[1;33m\u001b[0m\u001b[0m\n\u001b[1;32m--> 493\u001b[1;33m             \u001b[0mresult\u001b[0m \u001b[1;33m=\u001b[0m \u001b[0mself\u001b[0m\u001b[1;33m.\u001b[0m\u001b[0mforward\u001b[0m\u001b[1;33m(\u001b[0m\u001b[1;33m*\u001b[0m\u001b[0minput\u001b[0m\u001b[1;33m,\u001b[0m \u001b[1;33m**\u001b[0m\u001b[0mkwargs\u001b[0m\u001b[1;33m)\u001b[0m\u001b[1;33m\u001b[0m\u001b[1;33m\u001b[0m\u001b[0m\n\u001b[0m\u001b[0;32m    494\u001b[0m         \u001b[1;32mfor\u001b[0m \u001b[0mhook\u001b[0m \u001b[1;32min\u001b[0m \u001b[0mself\u001b[0m\u001b[1;33m.\u001b[0m\u001b[0m_forward_hooks\u001b[0m\u001b[1;33m.\u001b[0m\u001b[0mvalues\u001b[0m\u001b[1;33m(\u001b[0m\u001b[1;33m)\u001b[0m\u001b[1;33m:\u001b[0m\u001b[1;33m\u001b[0m\u001b[1;33m\u001b[0m\u001b[0m\n\u001b[0;32m    495\u001b[0m             \u001b[0mhook_result\u001b[0m \u001b[1;33m=\u001b[0m \u001b[0mhook\u001b[0m\u001b[1;33m(\u001b[0m\u001b[0mself\u001b[0m\u001b[1;33m,\u001b[0m \u001b[0minput\u001b[0m\u001b[1;33m,\u001b[0m \u001b[0mresult\u001b[0m\u001b[1;33m)\u001b[0m\u001b[1;33m\u001b[0m\u001b[1;33m\u001b[0m\u001b[0m\n",
      "\u001b[1;32m<ipython-input-12-fdb5201535b6>\u001b[0m in \u001b[0;36mforward\u001b[1;34m(self, train_seq)\u001b[0m\n\u001b[0;32m     22\u001b[0m     \u001b[1;32mdef\u001b[0m \u001b[0mforward\u001b[0m\u001b[1;33m(\u001b[0m\u001b[0mself\u001b[0m\u001b[1;33m,\u001b[0m \u001b[0mtrain_seq\u001b[0m\u001b[1;33m)\u001b[0m\u001b[1;33m:\u001b[0m\u001b[1;33m\u001b[0m\u001b[1;33m\u001b[0m\u001b[0m\n\u001b[0;32m     23\u001b[0m         lstm_out, self.hidden_cell = self.lstm_list(train_seq.view(len(train_seq), 1, -1), \n\u001b[1;32m---> 24\u001b[1;33m                                                     self.hidden_cell)\n\u001b[0m\u001b[0;32m     25\u001b[0m \u001b[1;33m\u001b[0m\u001b[0m\n\u001b[0;32m     26\u001b[0m         \u001b[0mpredictions\u001b[0m \u001b[1;33m=\u001b[0m \u001b[0mself\u001b[0m\u001b[1;33m.\u001b[0m\u001b[0mlinear\u001b[0m\u001b[1;33m(\u001b[0m\u001b[0mlstm_out\u001b[0m\u001b[1;33m.\u001b[0m\u001b[0mview\u001b[0m\u001b[1;33m(\u001b[0m\u001b[0mlen\u001b[0m\u001b[1;33m(\u001b[0m\u001b[0mtrain_seq\u001b[0m\u001b[1;33m)\u001b[0m\u001b[1;33m,\u001b[0m \u001b[1;33m-\u001b[0m\u001b[1;36m1\u001b[0m\u001b[1;33m)\u001b[0m\u001b[1;33m)\u001b[0m\u001b[1;33m\u001b[0m\u001b[1;33m\u001b[0m\u001b[0m\n",
      "\u001b[1;32mC:\\Progs\\Anaconda3\\lib\\site-packages\\torch\\nn\\modules\\module.py\u001b[0m in \u001b[0;36m__call__\u001b[1;34m(self, *input, **kwargs)\u001b[0m\n\u001b[0;32m    491\u001b[0m             \u001b[0mresult\u001b[0m \u001b[1;33m=\u001b[0m \u001b[0mself\u001b[0m\u001b[1;33m.\u001b[0m\u001b[0m_slow_forward\u001b[0m\u001b[1;33m(\u001b[0m\u001b[1;33m*\u001b[0m\u001b[0minput\u001b[0m\u001b[1;33m,\u001b[0m \u001b[1;33m**\u001b[0m\u001b[0mkwargs\u001b[0m\u001b[1;33m)\u001b[0m\u001b[1;33m\u001b[0m\u001b[1;33m\u001b[0m\u001b[0m\n\u001b[0;32m    492\u001b[0m         \u001b[1;32melse\u001b[0m\u001b[1;33m:\u001b[0m\u001b[1;33m\u001b[0m\u001b[1;33m\u001b[0m\u001b[0m\n\u001b[1;32m--> 493\u001b[1;33m             \u001b[0mresult\u001b[0m \u001b[1;33m=\u001b[0m \u001b[0mself\u001b[0m\u001b[1;33m.\u001b[0m\u001b[0mforward\u001b[0m\u001b[1;33m(\u001b[0m\u001b[1;33m*\u001b[0m\u001b[0minput\u001b[0m\u001b[1;33m,\u001b[0m \u001b[1;33m**\u001b[0m\u001b[0mkwargs\u001b[0m\u001b[1;33m)\u001b[0m\u001b[1;33m\u001b[0m\u001b[1;33m\u001b[0m\u001b[0m\n\u001b[0m\u001b[0;32m    494\u001b[0m         \u001b[1;32mfor\u001b[0m \u001b[0mhook\u001b[0m \u001b[1;32min\u001b[0m \u001b[0mself\u001b[0m\u001b[1;33m.\u001b[0m\u001b[0m_forward_hooks\u001b[0m\u001b[1;33m.\u001b[0m\u001b[0mvalues\u001b[0m\u001b[1;33m(\u001b[0m\u001b[1;33m)\u001b[0m\u001b[1;33m:\u001b[0m\u001b[1;33m\u001b[0m\u001b[1;33m\u001b[0m\u001b[0m\n\u001b[0;32m    495\u001b[0m             \u001b[0mhook_result\u001b[0m \u001b[1;33m=\u001b[0m \u001b[0mhook\u001b[0m\u001b[1;33m(\u001b[0m\u001b[0mself\u001b[0m\u001b[1;33m,\u001b[0m \u001b[0minput\u001b[0m\u001b[1;33m,\u001b[0m \u001b[0mresult\u001b[0m\u001b[1;33m)\u001b[0m\u001b[1;33m\u001b[0m\u001b[1;33m\u001b[0m\u001b[0m\n",
      "\u001b[1;32mC:\\Progs\\Anaconda3\\lib\\site-packages\\torch\\nn\\modules\\rnn.py\u001b[0m in \u001b[0;36mforward\u001b[1;34m(self, input, hx)\u001b[0m\n\u001b[0;32m    557\u001b[0m             \u001b[1;32mreturn\u001b[0m \u001b[0mself\u001b[0m\u001b[1;33m.\u001b[0m\u001b[0mforward_packed\u001b[0m\u001b[1;33m(\u001b[0m\u001b[0minput\u001b[0m\u001b[1;33m,\u001b[0m \u001b[0mhx\u001b[0m\u001b[1;33m)\u001b[0m\u001b[1;33m\u001b[0m\u001b[1;33m\u001b[0m\u001b[0m\n\u001b[0;32m    558\u001b[0m         \u001b[1;32melse\u001b[0m\u001b[1;33m:\u001b[0m\u001b[1;33m\u001b[0m\u001b[1;33m\u001b[0m\u001b[0m\n\u001b[1;32m--> 559\u001b[1;33m             \u001b[1;32mreturn\u001b[0m \u001b[0mself\u001b[0m\u001b[1;33m.\u001b[0m\u001b[0mforward_tensor\u001b[0m\u001b[1;33m(\u001b[0m\u001b[0minput\u001b[0m\u001b[1;33m,\u001b[0m \u001b[0mhx\u001b[0m\u001b[1;33m)\u001b[0m\u001b[1;33m\u001b[0m\u001b[1;33m\u001b[0m\u001b[0m\n\u001b[0m\u001b[0;32m    560\u001b[0m \u001b[1;33m\u001b[0m\u001b[0m\n\u001b[0;32m    561\u001b[0m \u001b[1;33m\u001b[0m\u001b[0m\n",
      "\u001b[1;32mC:\\Progs\\Anaconda3\\lib\\site-packages\\torch\\nn\\modules\\rnn.py\u001b[0m in \u001b[0;36mforward_tensor\u001b[1;34m(self, input, hx)\u001b[0m\n\u001b[0;32m    537\u001b[0m         \u001b[0munsorted_indices\u001b[0m \u001b[1;33m=\u001b[0m \u001b[1;32mNone\u001b[0m\u001b[1;33m\u001b[0m\u001b[1;33m\u001b[0m\u001b[0m\n\u001b[0;32m    538\u001b[0m \u001b[1;33m\u001b[0m\u001b[0m\n\u001b[1;32m--> 539\u001b[1;33m         \u001b[0moutput\u001b[0m\u001b[1;33m,\u001b[0m \u001b[0mhidden\u001b[0m \u001b[1;33m=\u001b[0m \u001b[0mself\u001b[0m\u001b[1;33m.\u001b[0m\u001b[0mforward_impl\u001b[0m\u001b[1;33m(\u001b[0m\u001b[0minput\u001b[0m\u001b[1;33m,\u001b[0m \u001b[0mhx\u001b[0m\u001b[1;33m,\u001b[0m \u001b[0mbatch_sizes\u001b[0m\u001b[1;33m,\u001b[0m \u001b[0mmax_batch_size\u001b[0m\u001b[1;33m,\u001b[0m \u001b[0msorted_indices\u001b[0m\u001b[1;33m)\u001b[0m\u001b[1;33m\u001b[0m\u001b[1;33m\u001b[0m\u001b[0m\n\u001b[0m\u001b[0;32m    540\u001b[0m \u001b[1;33m\u001b[0m\u001b[0m\n\u001b[0;32m    541\u001b[0m         \u001b[1;32mreturn\u001b[0m \u001b[0moutput\u001b[0m\u001b[1;33m,\u001b[0m \u001b[0mself\u001b[0m\u001b[1;33m.\u001b[0m\u001b[0mpermute_hidden\u001b[0m\u001b[1;33m(\u001b[0m\u001b[0mhidden\u001b[0m\u001b[1;33m,\u001b[0m \u001b[0munsorted_indices\u001b[0m\u001b[1;33m)\u001b[0m\u001b[1;33m\u001b[0m\u001b[1;33m\u001b[0m\u001b[0m\n",
      "\u001b[1;32mC:\\Progs\\Anaconda3\\lib\\site-packages\\torch\\nn\\modules\\rnn.py\u001b[0m in \u001b[0;36mforward_impl\u001b[1;34m(self, input, hx, batch_sizes, max_batch_size, sorted_indices)\u001b[0m\n\u001b[0;32m    520\u001b[0m         \u001b[1;32mif\u001b[0m \u001b[0mbatch_sizes\u001b[0m \u001b[1;32mis\u001b[0m \u001b[1;32mNone\u001b[0m\u001b[1;33m:\u001b[0m\u001b[1;33m\u001b[0m\u001b[1;33m\u001b[0m\u001b[0m\n\u001b[0;32m    521\u001b[0m             result = _VF.lstm(input, hx, self._get_flat_weights(), self.bias, self.num_layers,\n\u001b[1;32m--> 522\u001b[1;33m                               self.dropout, self.training, self.bidirectional, self.batch_first)\n\u001b[0m\u001b[0;32m    523\u001b[0m         \u001b[1;32melse\u001b[0m\u001b[1;33m:\u001b[0m\u001b[1;33m\u001b[0m\u001b[1;33m\u001b[0m\u001b[0m\n\u001b[0;32m    524\u001b[0m             result = _VF.lstm(input, batch_sizes, hx, self._get_flat_weights(), self.bias,\n",
      "\u001b[1;31mKeyboardInterrupt\u001b[0m: "
     ]
    }
   ],
   "source": [
    "# params\n",
    "\n",
    "device = torch.device(\"cuda:0\" if torch.cuda.is_available() else \"cpu\")\n",
    "\n",
    "batch_size = 10\n",
    "lr = 2e-4\n",
    "num_epochs = 20\n",
    "n_layers = 2\n",
    "input_size_dot = 1284\n",
    "hidden_layer_size = 100\n",
    "output_size_dot = 7\n",
    "bidirectional = True\n",
    "dropout= 0.3\n",
    "\n",
    "signals_test_scale = scaler.fit_transform(signals_test)\n",
    "\n",
    "dataloader = dlDataset(batch_size=batch_size, input_size=input_size_dot,\n",
    "                       labels_test=labels_test, labels_train=labels_train, \n",
    "                       signals_test=signals_test_scale, signals_train=signals_train_scale)\n",
    "\n",
    "model_dot = LSTM(num_layers=n_layers, input_size=input_size_dot, \n",
    "             hidden_layer_size=hidden_layer_size, output_size=output_size_dot, \n",
    "             bidirectional=bidirectional, dropout=dropout)\n",
    "\n",
    "optimizer = optim.Adam(model_dot.parameters(), lr=lr)\n",
    "loss_func = nn.CrossEntropyLoss()\n",
    "\n",
    "loss_history_epoch, metric_history_epoch = train_pipeline(model=model_dot,\n",
    "                                                          optimizer=optimizer,\n",
    "                                                          loss_func=loss_func,\n",
    "                                                          dataloader=dataloader,\n",
    "                                                          num_epochs=num_epochs,\n",
    "                                                          num_layers=n_layers,\n",
    "                                                          bidirectional=bidirectional)"
   ]
  }
 ],
 "metadata": {
  "kernelspec": {
   "display_name": "Python 3",
   "language": "python",
   "name": "python3"
  },
  "language_info": {
   "codemirror_mode": {
    "name": "ipython",
    "version": 3
   },
   "file_extension": ".py",
   "mimetype": "text/x-python",
   "name": "python",
   "nbconvert_exporter": "python",
   "pygments_lexer": "ipython3",
   "version": "3.6.7"
  }
 },
 "nbformat": 4,
 "nbformat_minor": 2
}
