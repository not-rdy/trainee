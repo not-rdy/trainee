{
 "cells": [
  {
   "cell_type": "code",
   "execution_count": 5,
   "metadata": {
    "executionInfo": {
     "elapsed": 404,
     "status": "ok",
     "timestamp": 1629973418241,
     "user": {
      "displayName": "Рустем Камильянов",
      "photoUrl": "",
      "userId": "10196996601711118977"
     },
     "user_tz": -300
    },
    "id": "HNShpXXpCMJc"
   },
   "outputs": [],
   "source": [
    "import os\n",
    "import random\n",
    "import tqdm\n",
    "import torch\n",
    "from torch import nn\n",
    "from torch.nn import functional as F\n",
    "from torch.utils.data import TensorDataset, DataLoader\n",
    "import pandas as pd\n",
    "import numpy as np\n",
    "import matplotlib.pyplot as plt\n",
    "from implicit.als import AlternatingLeastSquares\n",
    "from scipy.sparse import csr_matrix\n",
    "from scipy.spatial import distance\n",
    "from sklearn.cluster import KMeans\n",
    "from sklearn.model_selection import ParameterGrid, train_test_split\n",
    "from sklearn.manifold import TSNE\n",
    "from sklearn.metrics import silhouette_score\n",
    "import pickle\n",
    "from pandas.core.common import SettingWithCopyWarning\n",
    "import warnings\n",
    "warnings.simplefilter(action=\"ignore\", category=SettingWithCopyWarning)\n",
    "np.set_printoptions(suppress=True)\n",
    "os.chdir('C:/Users/rustem.kamilyanov/trainee/reports/2/rec_models/report2')\n",
    "#os.chdir('/home/rustem/trainee/reports/2/rec_models/report2/')"
   ]
  },
  {
   "cell_type": "markdown",
   "metadata": {
    "id": "F0J-2GDuu5bO"
   },
   "source": [
    "### Данные пользователей"
   ]
  },
  {
   "cell_type": "code",
   "execution_count": 6,
   "metadata": {
    "colab": {
     "base_uri": "https://localhost:8080/",
     "height": 206
    },
    "executionInfo": {
     "elapsed": 429,
     "status": "ok",
     "timestamp": 1629958927771,
     "user": {
      "displayName": "Рустем Камильянов",
      "photoUrl": "",
      "userId": "10196996601711118977"
     },
     "user_tz": -300
    },
    "id": "LKHEDfcSttsS",
    "outputId": "2978f748-533e-419a-a7ea-a5b4543c9106"
   },
   "outputs": [
    {
     "data": {
      "text/html": [
       "<div>\n",
       "<style scoped>\n",
       "    .dataframe tbody tr th:only-of-type {\n",
       "        vertical-align: middle;\n",
       "    }\n",
       "\n",
       "    .dataframe tbody tr th {\n",
       "        vertical-align: top;\n",
       "    }\n",
       "\n",
       "    .dataframe thead th {\n",
       "        text-align: right;\n",
       "    }\n",
       "</style>\n",
       "<table border=\"1\" class=\"dataframe\">\n",
       "  <thead>\n",
       "    <tr style=\"text-align: right;\">\n",
       "      <th></th>\n",
       "      <th>age</th>\n",
       "      <th>sex</th>\n",
       "      <th>price</th>\n",
       "      <th>time</th>\n",
       "      <th>classes</th>\n",
       "      <th>disability</th>\n",
       "      <th>preferential</th>\n",
       "      <th>job</th>\n",
       "      <th>city</th>\n",
       "      <th>marit_status</th>\n",
       "      <th>education</th>\n",
       "      <th>childs</th>\n",
       "      <th>networks</th>\n",
       "    </tr>\n",
       "  </thead>\n",
       "  <tbody>\n",
       "    <tr>\n",
       "      <th>0</th>\n",
       "      <td>30</td>\n",
       "      <td>М</td>\n",
       "      <td>31039.0</td>\n",
       "      <td>104.0</td>\n",
       "      <td>купе</td>\n",
       "      <td>Нет</td>\n",
       "      <td>Нет</td>\n",
       "      <td>NaN</td>\n",
       "      <td>г. Москва</td>\n",
       "      <td>в браке</td>\n",
       "      <td>NaN</td>\n",
       "      <td>Нет</td>\n",
       "      <td>vk</td>\n",
       "    </tr>\n",
       "    <tr>\n",
       "      <th>1</th>\n",
       "      <td>35</td>\n",
       "      <td>Ж</td>\n",
       "      <td>16694.0</td>\n",
       "      <td>58.0</td>\n",
       "      <td>купе</td>\n",
       "      <td>Нет</td>\n",
       "      <td>Нет</td>\n",
       "      <td>Работники сферы индивидуальных услуг</td>\n",
       "      <td>г. Златоуст</td>\n",
       "      <td>NaN</td>\n",
       "      <td>высшее</td>\n",
       "      <td>1</td>\n",
       "      <td>vk</td>\n",
       "    </tr>\n",
       "    <tr>\n",
       "      <th>2</th>\n",
       "      <td>76</td>\n",
       "      <td>Ж</td>\n",
       "      <td>21263.0</td>\n",
       "      <td>84.0</td>\n",
       "      <td>плацкарт</td>\n",
       "      <td>Нет</td>\n",
       "      <td>Нет</td>\n",
       "      <td>NaN</td>\n",
       "      <td>г. Тула</td>\n",
       "      <td>NaN</td>\n",
       "      <td>NaN</td>\n",
       "      <td>2</td>\n",
       "      <td>Нет</td>\n",
       "    </tr>\n",
       "    <tr>\n",
       "      <th>3</th>\n",
       "      <td>71</td>\n",
       "      <td>М</td>\n",
       "      <td>16374.0</td>\n",
       "      <td>55.0</td>\n",
       "      <td>купе</td>\n",
       "      <td>Нет</td>\n",
       "      <td>Нет</td>\n",
       "      <td>NaN</td>\n",
       "      <td>г. Стерлитамак</td>\n",
       "      <td>в браке</td>\n",
       "      <td>среднее профессиональное</td>\n",
       "      <td>NaN</td>\n",
       "      <td>одноклассники</td>\n",
       "    </tr>\n",
       "    <tr>\n",
       "      <th>4</th>\n",
       "      <td>48</td>\n",
       "      <td>Ж</td>\n",
       "      <td>23127.0</td>\n",
       "      <td>88.0</td>\n",
       "      <td>плацкарт</td>\n",
       "      <td>Нет</td>\n",
       "      <td>Нет</td>\n",
       "      <td>Водители и операторы подвижного оборудования</td>\n",
       "      <td>г. Электросталь</td>\n",
       "      <td>в браке</td>\n",
       "      <td>NaN</td>\n",
       "      <td>Нет</td>\n",
       "      <td>Нет</td>\n",
       "    </tr>\n",
       "  </tbody>\n",
       "</table>\n",
       "</div>"
      ],
      "text/plain": [
       "   age sex    price   time   classes disability preferential  \\\n",
       "0   30   М  31039.0  104.0      купе        Нет          Нет   \n",
       "1   35   Ж  16694.0   58.0      купе        Нет          Нет   \n",
       "2   76   Ж  21263.0   84.0  плацкарт        Нет          Нет   \n",
       "3   71   М  16374.0   55.0      купе        Нет          Нет   \n",
       "4   48   Ж  23127.0   88.0  плацкарт        Нет          Нет   \n",
       "\n",
       "                                            job             city marit_status  \\\n",
       "0                                           NaN        г. Москва      в браке   \n",
       "1          Работники сферы индивидуальных услуг      г. Златоуст          NaN   \n",
       "2                                           NaN          г. Тула          NaN   \n",
       "3                                           NaN   г. Стерлитамак      в браке   \n",
       "4  Водители и операторы подвижного оборудования  г. Электросталь      в браке   \n",
       "\n",
       "                  education childs       networks  \n",
       "0                       NaN    Нет             vk  \n",
       "1                    высшее      1             vk  \n",
       "2                       NaN      2            Нет  \n",
       "3  среднее профессиональное    NaN  одноклассники  \n",
       "4                       NaN    Нет            Нет  "
      ]
     },
     "execution_count": 6,
     "metadata": {},
     "output_type": "execute_result"
    }
   ],
   "source": [
    "df = pd.read_csv('features.csv')\n",
    "df1 = df.drop(['Unnamed: 0', 'smoking', 'name'], axis=1)\n",
    "df1.head()"
   ]
  },
  {
   "cell_type": "code",
   "execution_count": 7,
   "metadata": {
    "executionInfo": {
     "elapsed": 21,
     "status": "ok",
     "timestamp": 1629958927773,
     "user": {
      "displayName": "Рустем Камильянов",
      "photoUrl": "",
      "userId": "10196996601711118977"
     },
     "user_tz": -300
    },
    "id": "31OJ9oduuzuI"
   },
   "outputs": [],
   "source": [
    "# dummies\n",
    "df1 = pd.get_dummies(df1, columns=['sex', 'classes', 'disability', 'preferential', 'job',\n",
    "                            'city', 'marit_status', 'education', 'childs', 'networks'], drop_first = True)\n",
    "\n",
    "# (Xi - mean) / std\n",
    "def norm2(array):\n",
    "    return pd.Series( map( lambda x: (x-array.mean())/array.std(), array ))\n",
    "\n",
    "# стандартизируем (price, age, time)\n",
    "df1_norm2 = df1.copy()\n",
    "for col in df1_norm2.columns[0:3]:\n",
    "    df1_norm2[col] = norm2(df1_norm2[col])\n"
   ]
  },
  {
   "cell_type": "markdown",
   "metadata": {
    "id": "CWdssGUx3Lv7"
   },
   "source": [
    "### Кластеризация kMeans + t-SNE"
   ]
  },
  {
   "cell_type": "code",
   "execution_count": 29,
   "metadata": {
    "colab": {
     "base_uri": "https://localhost:8080/",
     "height": 575
    },
    "executionInfo": {
     "elapsed": 23823,
     "status": "ok",
     "timestamp": 1629958951577,
     "user": {
      "displayName": "Рустем Камильянов",
      "photoUrl": "",
      "userId": "10196996601711118977"
     },
     "user_tz": -300
    },
    "id": "EicuIvC33Nov",
    "outputId": "a90d678c-d06c-404e-c26f-81323ff1781d",
    "scrolled": true
   },
   "outputs": [
    {
     "name": "stderr",
     "output_type": "stream",
     "text": [
      "C:\\Users\\rustem.kamilyanov\\Anaconda3\\lib\\site-packages\\sklearn\\manifold\\_t_sne.py:691: FutureWarning: 'square_distances' has been introduced in 0.24 to help phase out legacy squaring behavior. The 'legacy' setting will be removed in 1.1 (renaming of 0.26), and the default setting will be changed to True. In 1.3, 'square_distances' will be removed altogether, and distances will be squared by default. Set 'square_distances'=True to silence this warning.\n",
      "  warnings.warn(\n",
      "C:\\Users\\rustem.kamilyanov\\Anaconda3\\lib\\site-packages\\sklearn\\cluster\\_kmeans.py:792: FutureWarning: 'n_jobs' was deprecated in version 0.23 and will be removed in 1.0 (renaming of 0.25).\n",
      "  warnings.warn(\"'n_jobs' was deprecated in version 0.23 and will be\"\n"
     ]
    },
    {
     "data": {
      "image/png": "[encoded data removed]",
      "text/plain": [
       "<Figure size 1440x720 with 1 Axes>"
      ]
     },
     "metadata": {
      "needs_background": "light"
     },
     "output_type": "display_data"
    }
   ],
   "source": [
    "# 3d\n",
    "metric = 'chebyshev'\n",
    "learning_rate = 50\n",
    "\n",
    "m = TSNE(n_components=3, \n",
    "         learning_rate=learning_rate, \n",
    "         metric=metric,\n",
    "         random_state=14)\n",
    "df1_norm2_tsne = m.fit_transform(df1_norm2)\n",
    "df1_norm2_tsne = pd.DataFrame(df1_norm2_tsne)\n",
    "\n",
    "# метки на t-SNE пространстве\n",
    "n=3\n",
    "\n",
    "m = KMeans(n_clusters=n, random_state=14,\n",
    "           n_jobs =-1, max_iter=10000, n_init=100)\n",
    "m.fit(df1_norm2)\n",
    "\n",
    "df1_norm2_tsne['cluster'] = m.labels_\n",
    "fig = plt.figure(figsize=(20, 10))\n",
    "ax = fig.add_subplot(111, projection='3d')\n",
    "ax.scatter(df1_norm2_tsne.iloc[:, 1],\n",
    "           df1_norm2_tsne.iloc[:, 0],\n",
    "           df1_norm2_tsne.iloc[:, 2],\n",
    "           s=5,\n",
    "           c=df1_norm2_tsne['cluster'])\n",
    "label = 'Визуализация синтетических данных в трехмерном пространстве'\n",
    "plt.title(label)\n",
    "\n",
    "# метки\n",
    "df1['clust'] = m.labels_"
   ]
  },
  {
   "cell_type": "markdown",
   "metadata": {
    "id": "YJ8S7jaM4Pc7"
   },
   "source": [
    "### Интерпретация"
   ]
  },
  {
   "cell_type": "code",
   "execution_count": 31,
   "metadata": {
    "executionInfo": {
     "elapsed": 361,
     "status": "ok",
     "timestamp": 1629958951919,
     "user": {
      "displayName": "Рустем Камильянов",
      "photoUrl": "",
      "userId": "10196996601711118977"
     },
     "user_tz": -300
    },
    "id": "wAma7vTH4sxH"
   },
   "outputs": [],
   "source": [
    "# средние значения по кластерам\n",
    "df1_group=pd.read_csv('df1_group.csv')\n",
    "df1_group = df1_group.set_index('clust')\n",
    "for a in range(0, 3):\n",
    "    for i in range(3, len(df1_group.columns)):\n",
    "        if a == 0:\n",
    "            df1_group.iloc[a, i] = df1_group.iloc[a, i]/316\n",
    "        if a == 1:\n",
    "            df1_group.iloc[a, i] = df1_group.iloc[a, i]/402\n",
    "        if a == 2:\n",
    "            df1_group.iloc[a, i] = df1_group.iloc[a, i]/282"
   ]
  },
  {
   "cell_type": "code",
   "execution_count": 32,
   "metadata": {
    "cellView": "form",
    "id": "NW2ZZj4X5VXL"
   },
   "outputs": [
    {
     "data": {
      "image/png": "[encoded data removed]",
      "text/plain": [
       "<Figure size 1440x936 with 6 Axes>"
      ]
     },
     "metadata": {
      "needs_background": "light"
     },
     "output_type": "display_data"
    }
   ],
   "source": [
    "#@title\n",
    "fig, ax = plt.subplots(figsize=(20,13))\n",
    "r = 3\n",
    "c = 3\n",
    "# ВОЗРАСТ\n",
    "my_dict = {'clust0':df1['age'][df1['clust']==0], \n",
    "           'clust1':df1['age'][df1['clust']==1], \n",
    "           'clust2':df1['age'][df1['clust']==2]}\n",
    "\n",
    "width = 0.7\n",
    "green_diamond = dict(markerfacecolor='g', marker='D')\n",
    "\n",
    "ax = plt.subplot(r, c, 1)\n",
    "ax.boxplot(my_dict.values(), widths=width, flierprops=green_diamond)\n",
    "ax.set_ylabel('age')\n",
    "ax.set_xticklabels(my_dict.keys())\n",
    "ax.set_title('Возраст')\n",
    "fig.tight_layout()\n",
    "\n",
    "# ЦЕНА БИЛЕТА\n",
    "my_dict = {'clust0':df1['price'][df1['clust']==0], \n",
    "           'clust1':df1['price'][df1['clust']==1], \n",
    "           'clust2':df1['price'][df1['clust']==2]}\n",
    "\n",
    "width = 0.7\n",
    "green_diamond = dict(markerfacecolor='g', marker='D')\n",
    "\n",
    "ax = plt.subplot(r, c, 2)\n",
    "ax.boxplot(my_dict.values(), widths=width, flierprops=green_diamond)\n",
    "ax.set_ylabel('price')\n",
    "ax.set_xticklabels(my_dict.keys())\n",
    "ax.set_title('Стоимость билета')\n",
    "fig.tight_layout()\n",
    "\n",
    "# ВРЕМЯ В ПУТИ\n",
    "my_dict = {'clust0':df1['time'][df1['clust']==0], \n",
    "           'clust1':df1['time'][df1['clust']==1], \n",
    "           'clust2':df1['time'][df1['clust']==2]}\n",
    "\n",
    "width = 0.7\n",
    "green_diamond = dict(markerfacecolor='g', marker='D')\n",
    "\n",
    "ax = plt.subplot(r, c, 3)\n",
    "ax.boxplot(my_dict.values(), widths=width, flierprops=green_diamond)\n",
    "ax.set_ylabel('time')\n",
    "ax.set_xticklabels(my_dict.keys())\n",
    "ax.set_title('Время в пути')\n",
    "fig.tight_layout()\n",
    "\n",
    "# РАСПРЕДЕЛЕНИЕ МУЖЧИН И ЖЕНЩИН ПО КЛАСТЕРАМ\n",
    "labels = ['clust0', 'clust1', 'clust2']\n",
    "women = [df1_group.loc[0, 'sex_Ж'],\n",
    "         df1_group.loc[1, 'sex_Ж'],\n",
    "         df1_group.loc[2, 'sex_Ж']]\n",
    "men = [df1_group.loc[0, 'sex_М'],\n",
    "       df1_group.loc[1, 'sex_М'],\n",
    "       df1_group.loc[2, 'sex_М']]\n",
    "\n",
    "x = np.arange(len(labels))\n",
    "width = 0.35\n",
    "\n",
    "\n",
    "ax = plt.subplot(r, c, 4)\n",
    "ax.bar(x - width/2, women, width, label='women')\n",
    "ax.bar(x + width/2, men, width, label='men')\n",
    "ax.set_ylabel('Count')\n",
    "ax.set_xticks(x)\n",
    "ax.set_xticklabels(labels)\n",
    "ax.set_title('Распределение мужчин и женщин по кластерам')\n",
    "ax.set_ylim(0, 1)\n",
    "plt.legend()\n",
    "fig.tight_layout()\n",
    "\n",
    "# РАСПРЕДЕЛЕНИЕ ПО КЛАССАМ\n",
    "labels = ['clust0', 'clust1', 'clust2']\n",
    "sv = [df1_group.iloc[0, 6],\n",
    "      df1_group.iloc[1, 6],\n",
    "      df1_group.iloc[2, 6]]\n",
    "\n",
    "cupe = [df1_group.iloc[0, 7],\n",
    "        df1_group.iloc[1, 7],\n",
    "        df1_group.iloc[2, 7]]\n",
    "\n",
    "luxe = [df1_group.iloc[0, 8],\n",
    "        df1_group.iloc[1, 8],\n",
    "        df1_group.iloc[2, 8]]\n",
    "\n",
    "plackart = [df1_group.iloc[0, 9],\n",
    "            df1_group.iloc[1, 9],\n",
    "            df1_group.iloc[2, 9]] \n",
    "        \n",
    "x = np.arange(len(labels))\n",
    "width = 0.2\n",
    "\n",
    "\n",
    "ax = plt.subplot(r, c, 5)\n",
    "ax.bar(x - width*1.5, sv, width, label='СВ')\n",
    "ax.bar(x - width/2, cupe, width, label='купe')\n",
    "ax.bar(x + width/2, luxe, width, label='люкс')\n",
    "ax.bar(x + width*1.5, plackart, width, label='плацкарт')\n",
    "ax.set_ylabel('Count')\n",
    "ax.set_xticks(x)\n",
    "ax.set_xticklabels(labels)\n",
    "ax.set_title('Класс обслуживания')\n",
    "ax.set_ylim(0, 1)\n",
    "plt.legend()\n",
    "fig.tight_layout()\n",
    "\n",
    "# ИНВАЛИДНОСТЬ\n",
    "labels = ['clust0', 'clust1', 'clust2']\n",
    "yes = [df1_group.iloc[0, 11],\n",
    "       df1_group.iloc[1, 11],\n",
    "       df1_group.iloc[2, 11]]\n",
    "\n",
    "no = [df1_group.iloc[0, 12],\n",
    "      df1_group.iloc[1, 12],\n",
    "      df1_group.iloc[2, 12]]\n",
    "\n",
    "x = np.arange(len(labels))\n",
    "width = 0.35\n",
    "\n",
    "\n",
    "ax = plt.subplot(r, c, 6)\n",
    "ax.bar(x - width/2, yes, width, label='Да')\n",
    "ax.bar(x + width/2, no, width, label='Нет')\n",
    "ax.set_ylabel('Count')\n",
    "ax.set_xticks(x)\n",
    "ax.set_xticklabels(labels)\n",
    "ax.set_title('Наличие инвалидности')\n",
    "ax.set_ylim(0, 1)\n",
    "plt.legend()\n",
    "fig.tight_layout()\n",
    "\n",
    "# ЛЬГОТНАЯ КАТЕГОРИЯ\n",
    "labels = ['clust0', 'clust1', 'clust2']\n",
    "yes = [df1_group.iloc[0, 14],\n",
    "       df1_group.iloc[1, 14],\n",
    "       df1_group.iloc[2, 14]]\n",
    "\n",
    "no = [df1_group.iloc[0, 15],\n",
    "      df1_group.iloc[1, 15],\n",
    "      df1_group.iloc[2, 15]]\n",
    "\n",
    "x = np.arange(len(labels))\n",
    "width = 0.35\n",
    "\n",
    "\n",
    "#ax = plt.subplot(r, c, 7)\n",
    "#ax.bar(x - width/2, yes, width, label='Да')\n",
    "#ax.bar(x + width/2, no, width, label='Нет')\n",
    "#ax.set_ylabel('Count')\n",
    "#ax.set_xticks(x)\n",
    "#ax.set_xticklabels(labels)\n",
    "#ax.set_title('Льготная категория')\n",
    "#ax.set_ylim(0, 1)\n",
    "#plt.legend()\n",
    "#fig.tight_layout()"
   ]
  },
  {
   "cell_type": "code",
   "execution_count": 7,
   "metadata": {
    "cellView": "form",
    "id": "DT5UX2lz5g2e"
   },
   "outputs": [
    {
     "name": "stderr",
     "output_type": "stream",
     "text": [
      "No handles with labels found to put in legend.\n",
      "No handles with labels found to put in legend.\n",
      "No handles with labels found to put in legend.\n"
     ]
    },
    {
     "data": {
      "image/png": "[encoded data removed]",
      "text/plain": [
       "<Figure size 1440x360 with 3 Axes>"
      ]
     },
     "metadata": {
      "needs_background": "light"
     },
     "output_type": "display_data"
    }
   ],
   "source": [
    "#@title\n",
    "fig2, ax = plt.subplots(figsize=(20,5))\n",
    "r = 1\n",
    "c = 3\n",
    "# ПРОФЕССИЯ\n",
    "labels = ['clust0', 'clust1', 'clust2']\n",
    "\n",
    "top = [df1_group.T.iloc[17:44, 0].sort_values(ascending=False)[0],\n",
    "       df1_group.T.iloc[17:44, 0].sort_values(ascending=False)[1],\n",
    "       df1_group.T.iloc[17:44, 0].sort_values(ascending=False)[2],\n",
    "       df1_group.T.iloc[17:44, 0].sort_values(ascending=False)[3],\n",
    "       df1_group.T.iloc[17:44, 1].sort_values(ascending=False)[0],\n",
    "       df1_group.T.iloc[17:44, 1].sort_values(ascending=False)[1],\n",
    "       df1_group.T.iloc[17:44, 1].sort_values(ascending=False)[2],\n",
    "       df1_group.T.iloc[17:44, 1].sort_values(ascending=False)[3],\n",
    "       df1_group.T.iloc[17:44, 2].sort_values(ascending=False)[0],\n",
    "       df1_group.T.iloc[17:44, 2].sort_values(ascending=False)[1],\n",
    "       df1_group.T.iloc[17:44, 2].sort_values(ascending=False)[2],\n",
    "       df1_group.T.iloc[17:44, 2].sort_values(ascending=False)[3]]\n",
    "\n",
    "x = np.arange(12)\n",
    "width = 1\n",
    "\n",
    "ax = plt.subplot(r, c, 1)\n",
    "ax.bar(x, top, width, color=['g','g','g','g', \n",
    "                             'b','b','b','b',\n",
    "                             'y','y','y','y'], edgecolor='black')\n",
    "\n",
    "jobs = ['оператор подвижного оборудования', 'продавец', 'экономист',\n",
    "        'механик', 'оператор подвижного оборудования','механик (ремонтник)',\n",
    "        'специалист техник в области науки и техники', 'специалист в области науки и техники',\n",
    "        'учет материальных ценностей', 'специалисты в области науки и техники', \n",
    "        'сбор мусора (неквалифицированные работники)', 'продавец']\n",
    "\n",
    "ax.set_ylabel('Count')\n",
    "ax.set_xticks(x)\n",
    "ax.set_xticklabels(jobs, rotation=90)\n",
    "ax.set_title('Распределение профессий')\n",
    "ax.set_ylim(0, 0.05)\n",
    "plt.legend()\n",
    "fig.tight_layout()\n",
    "\n",
    "# ГОРОД\n",
    "labels = ['clust0', 'clust1', 'clust2']\n",
    "\n",
    "top = [df1_group.T.iloc[46:207, 0].sort_values(ascending=False)[0], #Мск\n",
    "       df1_group.T.iloc[46:207, 0].sort_values(ascending=False)[1], #Спб\n",
    "       df1_group.T.iloc[46:207, 0].sort_values(ascending=False)[2], #Екб\n",
    "       df1_group.T.iloc[46:207, 0].sort_values(ascending=False)[3], #Краснодар\n",
    "       df1_group.T.iloc[46:207, 1].sort_values(ascending=False)[0], #Мск\n",
    "       df1_group.T.iloc[46:207, 1].sort_values(ascending=False)[1], #Спб\n",
    "       df1_group.T.iloc[46:207, 1].sort_values(ascending=False)[2], #Екб\n",
    "       df1_group.T.iloc[46:207, 1].sort_values(ascending=False)[3], #Тюмень\n",
    "       df1_group.T.iloc[46:207, 2].sort_values(ascending=False)[0], #Мск\n",
    "       df1_group.T.iloc[46:207, 2].sort_values(ascending=False)[1], #Спб\n",
    "       df1_group.T.iloc[46:207, 2].sort_values(ascending=False)[2], #Воронеж\n",
    "       df1_group.T.iloc[46:207, 2].sort_values(ascending=False)[3]] #Самара\n",
    "\n",
    "city = ['Мск', 'Спб', 'Екб', 'Краснодар', \n",
    "        'Мск', 'Спб', 'Екб', 'Тюмень',\n",
    "        'Мск', 'Спб', 'Воронеж', 'Самара']\n",
    "\n",
    "x = np.arange(12)\n",
    "width = 1\n",
    "\n",
    "ax = plt.subplot(r, c, 2)\n",
    "ax.bar(x, top, width, color=['g','g','g','g', \n",
    "                             'b','b','b','b',\n",
    "                             'y','y','y','y'], edgecolor='black')\n",
    "ax.set_ylabel('Count')\n",
    "ax.set_xticks(x)\n",
    "ax.set_xticklabels(city, rotation=90)\n",
    "ax.set_title('Распределение по городам')\n",
    "ax.set_ylim(0, 0.2)\n",
    "plt.legend()\n",
    "fig.tight_layout()\n",
    "\n",
    "# СЕМЕЙНОЕ ПОЛОЖЕНИЕ\n",
    "status = [df1_group.T.iloc[207:214, 0].sort_values(ascending=False)[0],\n",
    "          df1_group.T.iloc[207:214, 0].sort_values(ascending=False)[1],\n",
    "          df1_group.T.iloc[207:214, 0].sort_values(ascending=False)[2],\n",
    "          df1_group.T.iloc[207:214, 0].sort_values(ascending=False)[3],\n",
    "          df1_group.T.iloc[207:214, 0].sort_values(ascending=False)[4],\n",
    "          df1_group.T.iloc[207:214, 0].sort_values(ascending=False)[5],\n",
    "          df1_group.T.iloc[207:214, 0].sort_values(ascending=False)[6],\n",
    "          \n",
    "          df1_group.T.iloc[207:214, 1].sort_values(ascending=False)[0],\n",
    "          df1_group.T.iloc[207:214, 1].sort_values(ascending=False)[1],\n",
    "          df1_group.T.iloc[207:214, 1].sort_values(ascending=False)[2],\n",
    "          df1_group.T.iloc[207:214, 1].sort_values(ascending=False)[3],\n",
    "          df1_group.T.iloc[207:214, 1].sort_values(ascending=False)[4],\n",
    "          df1_group.T.iloc[207:214, 1].sort_values(ascending=False)[5],\n",
    "          df1_group.T.iloc[207:214, 1].sort_values(ascending=False)[6],\n",
    "          \n",
    "          df1_group.T.iloc[207:214, 2].sort_values(ascending=False)[0],\n",
    "          df1_group.T.iloc[207:214, 2].sort_values(ascending=False)[1],\n",
    "          df1_group.T.iloc[207:214, 2].sort_values(ascending=False)[2],\n",
    "          df1_group.T.iloc[207:214, 2].sort_values(ascending=False)[3],\n",
    "          df1_group.T.iloc[207:214, 2].sort_values(ascending=False)[4],\n",
    "          df1_group.T.iloc[207:214, 2].sort_values(ascending=False)[5],\n",
    "          df1_group.T.iloc[207:214, 2].sort_values(ascending=False)[6]]\n",
    "\n",
    "labels = ['в браке', 'не состояла в браке',\n",
    "       'не состоял в браке', 'разведена',\n",
    "       'разведен', 'вдовец', 'вдова',\n",
    "       'в браке', 'не состояла в браке',\n",
    "       'не состоял в браке', 'разведена',\n",
    "       'разведен', 'вдовец', 'вдова',\n",
    "       'в браке', 'вдова', 'разведена',\n",
    "       'не состояла в браке', 'вдовец',\n",
    "       'разведен', 'не состоял в браке']\n",
    "\n",
    "x = np.arange(21)\n",
    "width = 1\n",
    "\n",
    "ax = plt.subplot(r, c, 3)\n",
    "ax.bar(x, status, width, color=['g','g','g','g','g','g','g', \n",
    "                                'b','b','b','b','b','b','b',\n",
    "                                'y','y','y','y','y','y','y'], edgecolor='black')\n",
    "ax.set_ylabel('Count')\n",
    "ax.set_xticks(x)\n",
    "ax.set_xticklabels(labels, rotation=90)\n",
    "ax.set_title('Семейное положение')\n",
    "ax.set_ylim(0, 0.25)\n",
    "plt.legend()\n",
    "fig.tight_layout()"
   ]
  },
  {
   "cell_type": "code",
   "execution_count": 8,
   "metadata": {
    "cellView": "form",
    "id": "0J5AOQxw5j9c"
   },
   "outputs": [
    {
     "name": "stderr",
     "output_type": "stream",
     "text": [
      "No handles with labels found to put in legend.\n",
      "No handles with labels found to put in legend.\n",
      "No handles with labels found to put in legend.\n"
     ]
    },
    {
     "data": {
      "image/png": "[encoded data removed]",
      "text/plain": [
       "<Figure size 1440x360 with 3 Axes>"
      ]
     },
     "metadata": {
      "needs_background": "light"
     },
     "output_type": "display_data"
    }
   ],
   "source": [
    "#@title\n",
    "fig3, ax = plt.subplots(figsize=(20,5))\n",
    "r = 1\n",
    "c = 3\n",
    "# ОБРАЗОВАНИЕ\n",
    "top = [df1_group.T.iloc[215:219, 0].sort_values(ascending=False)[0],\n",
    "       df1_group.T.iloc[215:219, 0].sort_values(ascending=False)[1],\n",
    "       df1_group.T.iloc[215:219, 0].sort_values(ascending=False)[2],\n",
    "       df1_group.T.iloc[215:219, 0].sort_values(ascending=False)[3],\n",
    "       df1_group.T.iloc[215:219, 1].sort_values(ascending=False)[0],\n",
    "       df1_group.T.iloc[215:219, 1].sort_values(ascending=False)[1],\n",
    "       df1_group.T.iloc[215:219, 1].sort_values(ascending=False)[2],\n",
    "       df1_group.T.iloc[215:219, 1].sort_values(ascending=False)[3],\n",
    "       df1_group.T.iloc[215:219, 2].sort_values(ascending=False)[0],\n",
    "       df1_group.T.iloc[215:219, 2].sort_values(ascending=False)[1],\n",
    "       df1_group.T.iloc[215:219, 2].sort_values(ascending=False)[2],\n",
    "       df1_group.T.iloc[215:219, 2].sort_values(ascending=False)[3]]\n",
    "\n",
    "labels = ['среднее профессиональное', 'высшее',\n",
    "       'среднее общее', 'неполное высшее',\n",
    "       'среднее профессиональное', 'высшее',\n",
    "       'среднее общее', 'неполное высшее',\n",
    "       'среднее профессиональное', 'высшее',\n",
    "       'среднее общее', 'неполное высшее']\n",
    "\n",
    "x = np.arange(12)\n",
    "width = 1\n",
    "\n",
    "ax = plt.subplot(r, c, 1)\n",
    "ax.bar(x, top, width, color=['g','g','g','g', \n",
    "                             'b','b','b','b',\n",
    "                             'y','y','y','y'], edgecolor='black')\n",
    "ax.set_ylabel('Count')\n",
    "ax.set_xticks(x)\n",
    "ax.set_xticklabels(labels, rotation=90)\n",
    "ax.set_title('Образование')\n",
    "ax.set_ylim(0, 0.21)\n",
    "plt.legend()\n",
    "fig.tight_layout()\n",
    "\n",
    "# ДЕТИ\n",
    "top = [df1_group.T.iloc[220:226, 0].sort_values(ascending=False)[0],\n",
    "       df1_group.T.iloc[220:226, 0].sort_values(ascending=False)[1],\n",
    "       df1_group.T.iloc[220:226, 0].sort_values(ascending=False)[2],\n",
    "       df1_group.T.iloc[220:226, 0].sort_values(ascending=False)[3],\n",
    "       df1_group.T.iloc[220:226, 0].sort_values(ascending=False)[4],\n",
    "       df1_group.T.iloc[220:226, 0].sort_values(ascending=False)[5],\n",
    "\n",
    "       df1_group.T.iloc[220:226, 1].sort_values(ascending=False)[0],\n",
    "       df1_group.T.iloc[220:226, 1].sort_values(ascending=False)[1],\n",
    "       df1_group.T.iloc[220:226, 1].sort_values(ascending=False)[2],\n",
    "       df1_group.T.iloc[220:226, 1].sort_values(ascending=False)[3],\n",
    "       df1_group.T.iloc[220:226, 1].sort_values(ascending=False)[4],\n",
    "       df1_group.T.iloc[220:226, 1].sort_values(ascending=False)[5],\n",
    "\n",
    "       df1_group.T.iloc[220:226, 2].sort_values(ascending=False)[0],\n",
    "       df1_group.T.iloc[220:226, 2].sort_values(ascending=False)[1],\n",
    "       df1_group.T.iloc[220:226, 2].sort_values(ascending=False)[2],\n",
    "       df1_group.T.iloc[220:226, 2].sort_values(ascending=False)[3],\n",
    "       df1_group.T.iloc[220:226, 2].sort_values(ascending=False)[4],\n",
    "       df1_group.T.iloc[220:226, 2].sort_values(ascending=False)[5]]\n",
    "\n",
    "labels = ['Нет', '1', '2', '4', '3', '5',\n",
    "          'Нет', '1', '2', '3', '5', '4',\n",
    "          'Нет', '1', '2', '5', '3', '4']\n",
    "\n",
    "x = np.arange(18)\n",
    "width = 1\n",
    "\n",
    "ax = plt.subplot(r, c, 2)\n",
    "ax.bar(x, top, width, color=['g','g','g','g','g','g', \n",
    "                             'b','b','b','b','b','b',\n",
    "                             'y','y','y','y','y','y'], edgecolor='black')\n",
    "ax.set_ylabel('Count')\n",
    "ax.set_xticks(x)\n",
    "ax.set_xticklabels(labels, rotation=90)\n",
    "ax.set_title('Дети')\n",
    "ax.set_ylim(0, 0.4)\n",
    "plt.legend()\n",
    "fig.tight_layout()\n",
    "\n",
    "# СОЦ.СЕТИ\n",
    "top = [df1_group.T.iloc[227:233, 0].sort_values(ascending=False)[0],\n",
    "       df1_group.T.iloc[227:233, 0].sort_values(ascending=False)[1],\n",
    "       df1_group.T.iloc[227:233, 0].sort_values(ascending=False)[2],\n",
    "       df1_group.T.iloc[227:233, 0].sort_values(ascending=False)[3],\n",
    "       df1_group.T.iloc[227:233, 0].sort_values(ascending=False)[4],\n",
    "       df1_group.T.iloc[227:233, 0].sort_values(ascending=False)[5],\n",
    "\n",
    "       df1_group.T.iloc[227:233, 1].sort_values(ascending=False)[0],\n",
    "       df1_group.T.iloc[227:233, 1].sort_values(ascending=False)[1],\n",
    "       df1_group.T.iloc[227:233, 1].sort_values(ascending=False)[2],\n",
    "       df1_group.T.iloc[227:233, 1].sort_values(ascending=False)[3],\n",
    "       df1_group.T.iloc[227:233, 1].sort_values(ascending=False)[4],\n",
    "       df1_group.T.iloc[227:233, 1].sort_values(ascending=False)[5],\n",
    "\n",
    "       df1_group.T.iloc[227:233, 2].sort_values(ascending=False)[0],\n",
    "       df1_group.T.iloc[227:233, 2].sort_values(ascending=False)[1],\n",
    "       df1_group.T.iloc[227:233, 2].sort_values(ascending=False)[2],\n",
    "       df1_group.T.iloc[227:233, 2].sort_values(ascending=False)[3],\n",
    "       df1_group.T.iloc[227:233, 2].sort_values(ascending=False)[4],\n",
    "       df1_group.T.iloc[227:233, 2].sort_values(ascending=False)[5]]\n",
    "\n",
    "labels = ['Нет', 'facebook', 'vk',\n",
    "       'instagram', 'одноклассники', 'tiktok',\n",
    "       'Нет', 'facebook', 'vk',\n",
    "       'instagram', 'одноклассники', 'tiktok',\n",
    "       'Нет', 'одноклассники', 'facebook',\n",
    "       'instagram', 'vk', 'tiktok']\n",
    "\n",
    "x = np.arange(18)\n",
    "width = 1\n",
    "\n",
    "ax = plt.subplot(r, c, 3)\n",
    "ax.bar(x, top, width, color=['g','g','g','g','g','g', \n",
    "                             'b','b','b','b','b','b',\n",
    "                             'y','y','y','y','y','y'], edgecolor='black')\n",
    "ax.set_ylabel('Count')\n",
    "ax.set_xticks(x)\n",
    "ax.set_xticklabels(labels, rotation=90)\n",
    "ax.set_title('Наличие социальных сетей')\n",
    "ax.set_ylim(0, 0.6)\n",
    "plt.legend()\n",
    "fig.tight_layout()"
   ]
  },
  {
   "cell_type": "code",
   "execution_count": 9,
   "metadata": {
    "colab": {
     "base_uri": "https://localhost:8080/",
     "height": 945
    },
    "executionInfo": {
     "elapsed": 964,
     "status": "ok",
     "timestamp": 1629958957654,
     "user": {
      "displayName": "Рустем Камильянов",
      "photoUrl": "",
      "userId": "10196996601711118977"
     },
     "user_tz": -300
    },
    "id": "Lklk7Po95n-3",
    "outputId": "246d366d-d45a-47e2-d460-108350912aee"
   },
   "outputs": [
    {
     "data": {
      "image/png": "[encoded data removed]",
      "text/plain": [
       "<Figure size 1440x936 with 7 Axes>"
      ]
     },
     "execution_count": 9,
     "metadata": {},
     "output_type": "execute_result"
    }
   ],
   "source": [
    "fig"
   ]
  },
  {
   "cell_type": "code",
   "execution_count": 10,
   "metadata": {
    "colab": {
     "base_uri": "https://localhost:8080/",
     "height": 583
    },
    "executionInfo": {
     "elapsed": 550,
     "status": "ok",
     "timestamp": 1629958958184,
     "user": {
      "displayName": "Рустем Камильянов",
      "photoUrl": "",
      "userId": "10196996601711118977"
     },
     "user_tz": -300
    },
    "id": "Hv73tZRS5akN",
    "outputId": "fd31eb45-ac95-4231-ba99-5b4a9c3aa9bd"
   },
   "outputs": [
    {
     "data": {
      "image/png": "[encoded data removed]",
      "text/plain": [
       "<Figure size 1440x360 with 3 Axes>"
      ]
     },
     "execution_count": 10,
     "metadata": {},
     "output_type": "execute_result"
    }
   ],
   "source": [
    "fig2"
   ]
  },
  {
   "cell_type": "code",
   "execution_count": 11,
   "metadata": {
    "colab": {
     "base_uri": "https://localhost:8080/",
     "height": 473
    },
    "executionInfo": {
     "elapsed": 419,
     "status": "ok",
     "timestamp": 1629958958583,
     "user": {
      "displayName": "Рустем Камильянов",
      "photoUrl": "",
      "userId": "10196996601711118977"
     },
     "user_tz": -300
    },
    "id": "WxmmlGXk5skM",
    "outputId": "b88ca3dd-f371-4ac2-ada7-c8d8dbe14adc"
   },
   "outputs": [
    {
     "data": {
      "image/png": "[encoded data removed]",
      "text/plain": [
       "<Figure size 1440x360 with 3 Axes>"
      ]
     },
     "execution_count": 11,
     "metadata": {},
     "output_type": "execute_result"
    }
   ],
   "source": [
    "fig3"
   ]
  },
  {
   "cell_type": "markdown",
   "metadata": {
    "id": "Bp6jh-Cb5wMu"
   },
   "source": [
    "### Портрет среднестатистического пассажира из кластера - 0:\n",
    "Средний возраст 36 лет - самый молодой кластер пассажиров.   \n",
    "Путешествует преимущественно на дальние расстояния, как следствие имеет самую высокую среднюю стоимость билета.  \n",
    "Пользуется преимущественно недорогим классом обслуживания (плацкарт, купе).  \n",
    "По профессии является либо рабочим на производстве (оператор подвижного состава, механик), либо имеет профессию низкой квалифифкации (продавец), реже профессию в экономической сфере (экономист).  \n",
    "Проживает в городе миллионнике (Мск, Спб, Екб), либо в крупном мегаполисе (Краснодар).  \n",
    "Семейное положение - либо в браке, либо никогда не состаял в браке.  \n",
    "Преимущественно имеет среднее профессионльное образование, реже - высшее.  \n",
    "Детей как правило нет, реже 1-2 или 4.  \n",
    "В соц.сетях не зарегисрирован, либо зарегистрирован в facebook, реже в vkontakte, instagram, крайне редко в одноклассники и tiktok.\n",
    "\n",
    "### Портрет среднестатистического пассажира из кластера - 1:\n",
    "Средний возраст 40 лет - средний по возрасту кластер пассажиров.   \n",
    "Путешествует преимущественно на коротки расстояния, -> имеет самую низкую стоимость билета.  \n",
    "Пользуется преимущественно недорогим классом обслуживания (плацкарт, купе), так же крайне редко классом СВ и люкс.    \n",
    "По профессии является специалистом в сфере науки и техники, либо рабочим на производстве (оператор подвижного состава, механик).    \n",
    "Проживает в городе миллионнике (Мск, Спб, Екб), либо в крупном мегаполисе (Тюмень).  \n",
    "Семейное положение - либо в браке, либо никогда не состаял в браке.  \n",
    "Преимущественно имеет среднее профессионльное образование, реже - высшее.  \n",
    "Детей как правило нет, реже 1-2 или 3.  \n",
    "В соц.сетях не зарегисрирован, либо зарегистрирован в facebook, реже в vkontakte, instagram, одноклассники, крайне редко в tiktok.\n",
    "\n",
    "### Портрет среднестатистического пассажира из кластера - 2:\n",
    "Средний возраст 67 лет - самый возрастной кластер пассажиров.   \n",
    "Путешествует преимущественно на средние расстояния, -> имеет среднюю стоимость билета.  \n",
    "Пользуется преимущественно недорогим классом обслуживания (плацкарт, купе), так же крайне редко классом СВ.    \n",
    "Как правило имеет низкоквалифицированную профессию, либо пенсионер.      \n",
    "Проживает в городе миллионнике (Мск, Спб), либо в относительно некрупных городах (Воронеж, Самара).  \n",
    "Семейное положение - либо в браке, либо вдова, реже разведена.  \n",
    "Преимущественно имеет среднее профессионльное образование, реже - высшее.  \n",
    "Детей как правило нет, реже 1-2 или 5.  \n",
    "В соц.сетях не зарегисрирован, либо зарегистрирован в одноклассниках, реже в facebook, крайне редко - instagram, vkontakte, tiktok."
   ]
  },
  {
   "cell_type": "markdown",
   "metadata": {
    "id": "U-OPpklYWR8S"
   },
   "source": [
    "# Рекомендация @5 по кластеру"
   ]
  },
  {
   "cell_type": "markdown",
   "metadata": {
    "id": "gCPpxvepgP3o"
   },
   "source": [
    "### Данные пользователей"
   ]
  },
  {
   "cell_type": "code",
   "execution_count": 33,
   "metadata": {
    "colab": {
     "base_uri": "https://localhost:8080/",
     "height": 206
    },
    "executionInfo": {
     "elapsed": 497,
     "status": "ok",
     "timestamp": 1629976977969,
     "user": {
      "displayName": "Рустем Камильянов",
      "photoUrl": "",
      "userId": "10196996601711118977"
     },
     "user_tz": -300
    },
    "id": "JJestRkegP3y",
    "outputId": "182c027c-2ae1-4b8e-d84f-06e15aac0a4d"
   },
   "outputs": [
    {
     "data": {
      "text/html": [
       "<div>\n",
       "<style scoped>\n",
       "    .dataframe tbody tr th:only-of-type {\n",
       "        vertical-align: middle;\n",
       "    }\n",
       "\n",
       "    .dataframe tbody tr th {\n",
       "        vertical-align: top;\n",
       "    }\n",
       "\n",
       "    .dataframe thead th {\n",
       "        text-align: right;\n",
       "    }\n",
       "</style>\n",
       "<table border=\"1\" class=\"dataframe\">\n",
       "  <thead>\n",
       "    <tr style=\"text-align: right;\">\n",
       "      <th></th>\n",
       "      <th>age</th>\n",
       "      <th>sex</th>\n",
       "      <th>price</th>\n",
       "      <th>time</th>\n",
       "      <th>classes</th>\n",
       "      <th>disability</th>\n",
       "      <th>preferential</th>\n",
       "      <th>job</th>\n",
       "      <th>city</th>\n",
       "      <th>marit_status</th>\n",
       "      <th>education</th>\n",
       "      <th>childs</th>\n",
       "      <th>networks</th>\n",
       "    </tr>\n",
       "  </thead>\n",
       "  <tbody>\n",
       "    <tr>\n",
       "      <th>0</th>\n",
       "      <td>30</td>\n",
       "      <td>М</td>\n",
       "      <td>31039.0</td>\n",
       "      <td>104.0</td>\n",
       "      <td>купе</td>\n",
       "      <td>Нет</td>\n",
       "      <td>Нет</td>\n",
       "      <td>NaN</td>\n",
       "      <td>г. Москва</td>\n",
       "      <td>в браке</td>\n",
       "      <td>NaN</td>\n",
       "      <td>Нет</td>\n",
       "      <td>vk</td>\n",
       "    </tr>\n",
       "    <tr>\n",
       "      <th>1</th>\n",
       "      <td>35</td>\n",
       "      <td>Ж</td>\n",
       "      <td>16694.0</td>\n",
       "      <td>58.0</td>\n",
       "      <td>купе</td>\n",
       "      <td>Нет</td>\n",
       "      <td>Нет</td>\n",
       "      <td>Работники сферы индивидуальных услуг</td>\n",
       "      <td>г. Златоуст</td>\n",
       "      <td>NaN</td>\n",
       "      <td>высшее</td>\n",
       "      <td>1</td>\n",
       "      <td>vk</td>\n",
       "    </tr>\n",
       "    <tr>\n",
       "      <th>2</th>\n",
       "      <td>76</td>\n",
       "      <td>Ж</td>\n",
       "      <td>21263.0</td>\n",
       "      <td>84.0</td>\n",
       "      <td>плацкарт</td>\n",
       "      <td>Нет</td>\n",
       "      <td>Нет</td>\n",
       "      <td>NaN</td>\n",
       "      <td>г. Тула</td>\n",
       "      <td>NaN</td>\n",
       "      <td>NaN</td>\n",
       "      <td>2</td>\n",
       "      <td>Нет</td>\n",
       "    </tr>\n",
       "    <tr>\n",
       "      <th>3</th>\n",
       "      <td>71</td>\n",
       "      <td>М</td>\n",
       "      <td>16374.0</td>\n",
       "      <td>55.0</td>\n",
       "      <td>купе</td>\n",
       "      <td>Нет</td>\n",
       "      <td>Нет</td>\n",
       "      <td>NaN</td>\n",
       "      <td>г. Стерлитамак</td>\n",
       "      <td>в браке</td>\n",
       "      <td>среднее профессиональное</td>\n",
       "      <td>NaN</td>\n",
       "      <td>одноклассники</td>\n",
       "    </tr>\n",
       "    <tr>\n",
       "      <th>4</th>\n",
       "      <td>48</td>\n",
       "      <td>Ж</td>\n",
       "      <td>23127.0</td>\n",
       "      <td>88.0</td>\n",
       "      <td>плацкарт</td>\n",
       "      <td>Нет</td>\n",
       "      <td>Нет</td>\n",
       "      <td>Водители и операторы подвижного оборудования</td>\n",
       "      <td>г. Электросталь</td>\n",
       "      <td>в браке</td>\n",
       "      <td>NaN</td>\n",
       "      <td>Нет</td>\n",
       "      <td>Нет</td>\n",
       "    </tr>\n",
       "  </tbody>\n",
       "</table>\n",
       "</div>"
      ],
      "text/plain": [
       "   age sex    price   time   classes disability preferential  \\\n",
       "0   30   М  31039.0  104.0      купе        Нет          Нет   \n",
       "1   35   Ж  16694.0   58.0      купе        Нет          Нет   \n",
       "2   76   Ж  21263.0   84.0  плацкарт        Нет          Нет   \n",
       "3   71   М  16374.0   55.0      купе        Нет          Нет   \n",
       "4   48   Ж  23127.0   88.0  плацкарт        Нет          Нет   \n",
       "\n",
       "                                            job             city marit_status  \\\n",
       "0                                           NaN        г. Москва      в браке   \n",
       "1          Работники сферы индивидуальных услуг      г. Златоуст          NaN   \n",
       "2                                           NaN          г. Тула          NaN   \n",
       "3                                           NaN   г. Стерлитамак      в браке   \n",
       "4  Водители и операторы подвижного оборудования  г. Электросталь      в браке   \n",
       "\n",
       "                  education childs       networks  \n",
       "0                       NaN    Нет             vk  \n",
       "1                    высшее      1             vk  \n",
       "2                       NaN      2            Нет  \n",
       "3  среднее профессиональное    NaN  одноклассники  \n",
       "4                       NaN    Нет            Нет  "
      ]
     },
     "execution_count": 33,
     "metadata": {},
     "output_type": "execute_result"
    }
   ],
   "source": [
    "df = pd.read_csv('features.csv')\n",
    "df1 = df.drop(['Unnamed: 0', 'smoking', 'name'], axis=1)\n",
    "df1.head()"
   ]
  },
  {
   "cell_type": "markdown",
   "metadata": {
    "id": "G5X2ZHnWL_F-"
   },
   "source": [
    "### Матрица User-Item"
   ]
  },
  {
   "cell_type": "code",
   "execution_count": 34,
   "metadata": {
    "colab": {
     "base_uri": "https://localhost:8080/",
     "height": 362
    },
    "executionInfo": {
     "elapsed": 533,
     "status": "ok",
     "timestamp": 1629976983743,
     "user": {
      "displayName": "Рустем Камильянов",
      "photoUrl": "",
      "userId": "10196996601711118977"
     },
     "user_tz": -300
    },
    "id": "Y2SQu3bHL5xe",
    "outputId": "3749d936-a293-4a93-9c8e-dce6889f2b00"
   },
   "outputs": [
    {
     "data": {
      "text/html": [
       "<div>\n",
       "<style scoped>\n",
       "    .dataframe tbody tr th:only-of-type {\n",
       "        vertical-align: middle;\n",
       "    }\n",
       "\n",
       "    .dataframe tbody tr th {\n",
       "        vertical-align: top;\n",
       "    }\n",
       "\n",
       "    .dataframe thead th {\n",
       "        text-align: right;\n",
       "    }\n",
       "</style>\n",
       "<table border=\"1\" class=\"dataframe\">\n",
       "  <thead>\n",
       "    <tr style=\"text-align: right;\">\n",
       "      <th></th>\n",
       "      <th>clust</th>\n",
       "      <th>powerbank</th>\n",
       "      <th>wi-fi</th>\n",
       "      <th>альбомы</th>\n",
       "      <th>аптечка</th>\n",
       "      <th>аренда планшета</th>\n",
       "      <th>багажный ремень с весами</th>\n",
       "      <th>бутылочки</th>\n",
       "      <th>вагон 3D-cinema</th>\n",
       "      <th>вагон VR-zone</th>\n",
       "      <th>...</th>\n",
       "      <th>сувениры</th>\n",
       "      <th>сумка для документов</th>\n",
       "      <th>сумка поясная</th>\n",
       "      <th>термос</th>\n",
       "      <th>фломастеры</th>\n",
       "      <th>чехол для чемодана</th>\n",
       "      <th>ширма от надоедливого соседа</th>\n",
       "      <th>комплект для пеленания</th>\n",
       "      <th>массажер для шеи</th>\n",
       "      <th>массажер для ног</th>\n",
       "    </tr>\n",
       "    <tr>\n",
       "      <th>user_id</th>\n",
       "      <th></th>\n",
       "      <th></th>\n",
       "      <th></th>\n",
       "      <th></th>\n",
       "      <th></th>\n",
       "      <th></th>\n",
       "      <th></th>\n",
       "      <th></th>\n",
       "      <th></th>\n",
       "      <th></th>\n",
       "      <th></th>\n",
       "      <th></th>\n",
       "      <th></th>\n",
       "      <th></th>\n",
       "      <th></th>\n",
       "      <th></th>\n",
       "      <th></th>\n",
       "      <th></th>\n",
       "      <th></th>\n",
       "      <th></th>\n",
       "      <th></th>\n",
       "    </tr>\n",
       "  </thead>\n",
       "  <tbody>\n",
       "    <tr>\n",
       "      <th>0</th>\n",
       "      <td>None</td>\n",
       "      <td>0.0</td>\n",
       "      <td>1.0</td>\n",
       "      <td>0.0</td>\n",
       "      <td>1.0</td>\n",
       "      <td>0.0</td>\n",
       "      <td>0.0</td>\n",
       "      <td>0.0</td>\n",
       "      <td>0.0</td>\n",
       "      <td>0.0</td>\n",
       "      <td>...</td>\n",
       "      <td>2.0</td>\n",
       "      <td>0.0</td>\n",
       "      <td>0.0</td>\n",
       "      <td>0.0</td>\n",
       "      <td>0.0</td>\n",
       "      <td>1.0</td>\n",
       "      <td>0.0</td>\n",
       "      <td>0.0</td>\n",
       "      <td>0.0</td>\n",
       "      <td>0.0</td>\n",
       "    </tr>\n",
       "    <tr>\n",
       "      <th>1</th>\n",
       "      <td>None</td>\n",
       "      <td>1.0</td>\n",
       "      <td>0.0</td>\n",
       "      <td>0.0</td>\n",
       "      <td>0.0</td>\n",
       "      <td>0.0</td>\n",
       "      <td>0.0</td>\n",
       "      <td>0.0</td>\n",
       "      <td>0.0</td>\n",
       "      <td>0.0</td>\n",
       "      <td>...</td>\n",
       "      <td>0.0</td>\n",
       "      <td>0.0</td>\n",
       "      <td>0.0</td>\n",
       "      <td>1.0</td>\n",
       "      <td>0.0</td>\n",
       "      <td>3.0</td>\n",
       "      <td>0.0</td>\n",
       "      <td>0.0</td>\n",
       "      <td>0.0</td>\n",
       "      <td>0.0</td>\n",
       "    </tr>\n",
       "    <tr>\n",
       "      <th>2</th>\n",
       "      <td>None</td>\n",
       "      <td>0.0</td>\n",
       "      <td>0.0</td>\n",
       "      <td>0.0</td>\n",
       "      <td>0.0</td>\n",
       "      <td>0.0</td>\n",
       "      <td>0.0</td>\n",
       "      <td>1.0</td>\n",
       "      <td>2.0</td>\n",
       "      <td>0.0</td>\n",
       "      <td>...</td>\n",
       "      <td>0.0</td>\n",
       "      <td>0.0</td>\n",
       "      <td>0.0</td>\n",
       "      <td>0.0</td>\n",
       "      <td>0.0</td>\n",
       "      <td>3.0</td>\n",
       "      <td>1.0</td>\n",
       "      <td>0.0</td>\n",
       "      <td>0.0</td>\n",
       "      <td>0.0</td>\n",
       "    </tr>\n",
       "    <tr>\n",
       "      <th>3</th>\n",
       "      <td>None</td>\n",
       "      <td>0.0</td>\n",
       "      <td>0.0</td>\n",
       "      <td>0.0</td>\n",
       "      <td>3.0</td>\n",
       "      <td>0.0</td>\n",
       "      <td>0.0</td>\n",
       "      <td>0.0</td>\n",
       "      <td>0.0</td>\n",
       "      <td>0.0</td>\n",
       "      <td>...</td>\n",
       "      <td>0.0</td>\n",
       "      <td>0.0</td>\n",
       "      <td>0.0</td>\n",
       "      <td>0.0</td>\n",
       "      <td>0.0</td>\n",
       "      <td>1.0</td>\n",
       "      <td>0.0</td>\n",
       "      <td>0.0</td>\n",
       "      <td>0.0</td>\n",
       "      <td>0.0</td>\n",
       "    </tr>\n",
       "    <tr>\n",
       "      <th>4</th>\n",
       "      <td>None</td>\n",
       "      <td>0.0</td>\n",
       "      <td>1.0</td>\n",
       "      <td>0.0</td>\n",
       "      <td>1.0</td>\n",
       "      <td>0.0</td>\n",
       "      <td>0.0</td>\n",
       "      <td>0.0</td>\n",
       "      <td>0.0</td>\n",
       "      <td>0.0</td>\n",
       "      <td>...</td>\n",
       "      <td>2.0</td>\n",
       "      <td>0.0</td>\n",
       "      <td>0.0</td>\n",
       "      <td>0.0</td>\n",
       "      <td>0.0</td>\n",
       "      <td>1.0</td>\n",
       "      <td>0.0</td>\n",
       "      <td>0.0</td>\n",
       "      <td>0.0</td>\n",
       "      <td>0.0</td>\n",
       "    </tr>\n",
       "  </tbody>\n",
       "</table>\n",
       "<p>5 rows × 53 columns</p>\n",
       "</div>"
      ],
      "text/plain": [
       "        clust  powerbank   wi-fi   альбомы   аптечка   аренда планшета  \\\n",
       "user_id                                                                  \n",
       "0        None        0.0     1.0       0.0       1.0               0.0   \n",
       "1        None        1.0     0.0       0.0       0.0               0.0   \n",
       "2        None        0.0     0.0       0.0       0.0               0.0   \n",
       "3        None        0.0     0.0       0.0       3.0               0.0   \n",
       "4        None        0.0     1.0       0.0       1.0               0.0   \n",
       "\n",
       "          багажный ремень с весами   бутылочки   вагон 3D-cinema  \\\n",
       "user_id                                                            \n",
       "0                              0.0         0.0               0.0   \n",
       "1                              0.0         0.0               0.0   \n",
       "2                              0.0         1.0               2.0   \n",
       "3                              0.0         0.0               0.0   \n",
       "4                              0.0         0.0               0.0   \n",
       "\n",
       "          вагон VR-zone  ...   сувениры   сумка для документов  \\\n",
       "user_id                  ...                                     \n",
       "0                   0.0  ...        2.0                    0.0   \n",
       "1                   0.0  ...        0.0                    0.0   \n",
       "2                   0.0  ...        0.0                    0.0   \n",
       "3                   0.0  ...        0.0                    0.0   \n",
       "4                   0.0  ...        2.0                    0.0   \n",
       "\n",
       "          сумка поясная   термос   фломастеры   чехол для чемодана  \\\n",
       "user_id                                                              \n",
       "0                   0.0      0.0          0.0                  1.0   \n",
       "1                   0.0      1.0          0.0                  3.0   \n",
       "2                   0.0      0.0          0.0                  3.0   \n",
       "3                   0.0      0.0          0.0                  1.0   \n",
       "4                   0.0      0.0          0.0                  1.0   \n",
       "\n",
       "          ширма от надоедливого соседа  комплект для пеленания  \\\n",
       "user_id                                                          \n",
       "0                                  0.0                     0.0   \n",
       "1                                  0.0                     0.0   \n",
       "2                                  1.0                     0.0   \n",
       "3                                  0.0                     0.0   \n",
       "4                                  0.0                     0.0   \n",
       "\n",
       "         массажер для шеи  массажер для ног  \n",
       "user_id                                      \n",
       "0                     0.0               0.0  \n",
       "1                     0.0               0.0  \n",
       "2                     0.0               0.0  \n",
       "3                     0.0               0.0  \n",
       "4                     0.0               0.0  \n",
       "\n",
       "[5 rows x 53 columns]"
      ]
     },
     "execution_count": 34,
     "metadata": {},
     "output_type": "execute_result"
    }
   ],
   "source": [
    "user_item = pd.read_csv('user_items.csv', index_col='user_id')\n",
    "user_item = user_item.drop(['age', 'childs'], axis=1)      \n",
    "user_item['clust'] = None\n",
    "user_item.head()"
   ]
  },
  {
   "cell_type": "code",
   "execution_count": 35,
   "metadata": {
    "executionInfo": {
     "elapsed": 611,
     "status": "ok",
     "timestamp": 1629976991241,
     "user": {
      "displayName": "Рустем Камильянов",
      "photoUrl": "",
      "userId": "10196996601711118977"
     },
     "user_tz": -300
    },
    "id": "Ze8pEoSwsOH_"
   },
   "outputs": [],
   "source": [
    "class Clust_top:\n",
    "\n",
    "      def __init__(self, user_item, df1_norm2):\n",
    "          self.user_item = user_item\n",
    "          self.users = df1_norm2\n",
    "\n",
    "          self.train, self.test = train_test_split(self.users, test_size=0.2, random_state=14)\n",
    "          self.model = KMeans(n_clusters=3, random_state=14,\n",
    "                              n_jobs =-1, max_iter=10000, n_init=100)\n",
    "          self.model.fit(self.train)        \n",
    "\n",
    "      def predict(self, user, top_k=5):\n",
    "        id_new = user.name\n",
    "        self.user_item['clust'].iloc[self.train.index] = self.model.labels_\n",
    "        clust_label = self.model.predict(np.array(user).reshape(1, -1))\n",
    "        predict = list(self.user_item.groupby('clust').agg('mean').iloc[clust_label, :].T.sort_values(by=clust_label[0], ascending=False)[0:top_k].index)\n",
    "        \n",
    "        # Расстояния до центров кластеров\n",
    "        c0 = self.model.cluster_centers_[0]\n",
    "        c1 = self.model.cluster_centers_[1]\n",
    "        c2 = self.model.cluster_centers_[2]\n",
    "        print(' Расстояние до центра кластера 0: ', distance.euclidean(c0, user), '\\n',\n",
    "              'Расстояние до центра кластера 1: ', distance.euclidean(c1, user), '\\n',\n",
    "              'Расстояние до центра кластера 2: ', distance.euclidean(c2, user), '\\n',\n",
    "              '\\n',\n",
    "              'Отнесен к кластеру: ', clust_label[0], '\\n',\n",
    "              '\\n',\n",
    "              \" Топ \"+str(top_k)+\" товаров/услуг по кластеру \"+str(clust_label[0])+\": \" + '\\n',\n",
    "              predict)\n"
   ]
  },
  {
   "cell_type": "code",
   "execution_count": 36,
   "metadata": {
    "colab": {
     "base_uri": "https://localhost:8080/"
    },
    "executionInfo": {
     "elapsed": 5673,
     "status": "ok",
     "timestamp": 1629977004423,
     "user": {
      "displayName": "Рустем Камильянов",
      "photoUrl": "",
      "userId": "10196996601711118977"
     },
     "user_tz": -300
    },
    "id": "Z8_6TywVv58O",
    "outputId": "43e38803-ae98-4d05-94b6-4cbf04a9b515"
   },
   "outputs": [
    {
     "name": "stderr",
     "output_type": "stream",
     "text": [
      "C:\\Users\\rustem.kamilyanov\\Anaconda3\\lib\\site-packages\\sklearn\\cluster\\_kmeans.py:792: FutureWarning: 'n_jobs' was deprecated in version 0.23 and will be removed in 1.0 (renaming of 0.25).\n",
      "  warnings.warn(\"'n_jobs' was deprecated in version 0.23 and will be\"\n"
     ]
    },
    {
     "name": "stdout",
     "output_type": "stream",
     "text": [
      " Расстояние до центра кластера 0:  3.76823841774272 \n",
      " Расстояние до центра кластера 1:  2.9770890896781492 \n",
      " Расстояние до центра кластера 2:  2.5001374330511714 \n",
      " \n",
      " Отнесен к кластеру:  2 \n",
      " \n",
      "  Топ 5 товаров/услуг по кластеру 2: \n",
      " [' дорожный набор емкостей для косметики', ' влажные салфетки', 'массажер для шеи', ' сувениры', ' питание на выбор']\n"
     ]
    }
   ],
   "source": [
    "train, test = train_test_split(df1_norm2, test_size=0.2, random_state=14)\n",
    "new_user = test.iloc[random.randint(0, 100)]\n",
    "\n",
    "model = Clust_top(user_item, df1_norm2)\n",
    "model.predict(new_user)"
   ]
  },
  {
   "cell_type": "code",
   "execution_count": 37,
   "metadata": {
    "executionInfo": {
     "elapsed": 364,
     "status": "ok",
     "timestamp": 1629977017850,
     "user": {
      "displayName": "Рустем Камильянов",
      "photoUrl": "",
      "userId": "10196996601711118977"
     },
     "user_tz": -300
    },
    "id": "9qbu0017sZrl"
   },
   "outputs": [],
   "source": [
    "def hit(actual_items, pred_items):\n",
    "    hits =[]\n",
    "    for h in pred_items:\n",
    "        if h in actual_items:\n",
    "            hits.append(1)\n",
    "        else:\n",
    "            hits.append(0)\n",
    "    return np.mean(hits)"
   ]
  },
  {
   "cell_type": "code",
   "execution_count": 38,
   "metadata": {
    "executionInfo": {
     "elapsed": 10941,
     "status": "ok",
     "timestamp": 1629977033387,
     "user": {
      "displayName": "Рустем Камильянов",
      "photoUrl": "",
      "userId": "10196996601711118977"
     },
     "user_tz": -300
    },
    "id": "tsiqevk0HbDx"
   },
   "outputs": [
    {
     "name": "stderr",
     "output_type": "stream",
     "text": [
      "C:\\Users\\rustem.kamilyanov\\Anaconda3\\lib\\site-packages\\sklearn\\cluster\\_kmeans.py:792: FutureWarning: 'n_jobs' was deprecated in version 0.23 and will be removed in 1.0 (renaming of 0.25).\n",
      "  warnings.warn(\"'n_jobs' was deprecated in version 0.23 and will be\"\n"
     ]
    }
   ],
   "source": [
    "# модель\n",
    "m = KMeans(n_clusters=3, random_state=14,\n",
    "           n_jobs =-1, max_iter=10000, n_init=100)\n",
    "m.fit(train)\n",
    "\n",
    "# присваиваем метки для train\n",
    "user_item['clust'].iloc[train.index] = m.labels_\n",
    "\n",
    "top_k = 10\n",
    "metric = []\n",
    "for i in range(len(test)):\n",
    "    actual = []\n",
    "    id_user = test.iloc[i, :].name\n",
    "    clust_label = m.predict(np.array(test.iloc[i, :]).reshape(1, -1))\n",
    "    predict = list(user_item.groupby('clust').agg('mean').iloc[clust_label, :].T.sort_values(by=clust_label[0], ascending=False)[0:top_k].index)\n",
    "\n",
    "    for item in user_item.columns:\n",
    "        if (user_item[user_item.index == id_user].loc[:, item] > 0).bool():\n",
    "            actual.append(item)\n",
    "    metric.append(hit(actual, predict))"
   ]
  },
  {
   "cell_type": "code",
   "execution_count": 39,
   "metadata": {
    "colab": {
     "base_uri": "https://localhost:8080/"
    },
    "executionInfo": {
     "elapsed": 65,
     "status": "ok",
     "timestamp": 1629977033401,
     "user": {
      "displayName": "Рустем Камильянов",
      "photoUrl": "",
      "userId": "10196996601711118977"
     },
     "user_tz": -300
    },
    "id": "QBVPJ3MZTb7D",
    "outputId": "4f701afb-7bc9-4345-8bf9-79d64ff55b6d"
   },
   "outputs": [
    {
     "name": "stdout",
     "output_type": "stream",
     "text": [
      "HR@5:  0.20450000000000002\n"
     ]
    }
   ],
   "source": [
    "print('HR@5: ', np.mean(metric))"
   ]
  },
  {
   "cell_type": "markdown",
   "metadata": {
    "id": "gr6rHlkdWreD"
   },
   "source": [
    "# ALS разложение User-Item"
   ]
  },
  {
   "cell_type": "code",
   "execution_count": 40,
   "metadata": {
    "colab": {
     "base_uri": "https://localhost:8080/",
     "height": 362
    },
    "executionInfo": {
     "elapsed": 696,
     "status": "ok",
     "timestamp": 1629977307639,
     "user": {
      "displayName": "Рустем Камильянов",
      "photoUrl": "",
      "userId": "10196996601711118977"
     },
     "user_tz": -300
    },
    "id": "pkLexbJ03MWX",
    "outputId": "e7e15643-64d9-4fa8-defa-91c6cc693ddc"
   },
   "outputs": [
    {
     "data": {
      "text/html": [
       "<div>\n",
       "<style scoped>\n",
       "    .dataframe tbody tr th:only-of-type {\n",
       "        vertical-align: middle;\n",
       "    }\n",
       "\n",
       "    .dataframe tbody tr th {\n",
       "        vertical-align: top;\n",
       "    }\n",
       "\n",
       "    .dataframe thead th {\n",
       "        text-align: right;\n",
       "    }\n",
       "</style>\n",
       "<table border=\"1\" class=\"dataframe\">\n",
       "  <thead>\n",
       "    <tr style=\"text-align: right;\">\n",
       "      <th></th>\n",
       "      <th>powerbank</th>\n",
       "      <th>wi-fi</th>\n",
       "      <th>альбомы</th>\n",
       "      <th>аптечка</th>\n",
       "      <th>аренда планшета</th>\n",
       "      <th>багажный ремень с весами</th>\n",
       "      <th>бутылочки</th>\n",
       "      <th>вагон 3D-cinema</th>\n",
       "      <th>вагон VR-zone</th>\n",
       "      <th>вагон lounge-bar</th>\n",
       "      <th>...</th>\n",
       "      <th>сувениры</th>\n",
       "      <th>сумка для документов</th>\n",
       "      <th>сумка поясная</th>\n",
       "      <th>термос</th>\n",
       "      <th>фломастеры</th>\n",
       "      <th>чехол для чемодана</th>\n",
       "      <th>ширма от надоедливого соседа</th>\n",
       "      <th>комплект для пеленания</th>\n",
       "      <th>массажер для шеи</th>\n",
       "      <th>массажер для ног</th>\n",
       "    </tr>\n",
       "    <tr>\n",
       "      <th>user_id</th>\n",
       "      <th></th>\n",
       "      <th></th>\n",
       "      <th></th>\n",
       "      <th></th>\n",
       "      <th></th>\n",
       "      <th></th>\n",
       "      <th></th>\n",
       "      <th></th>\n",
       "      <th></th>\n",
       "      <th></th>\n",
       "      <th></th>\n",
       "      <th></th>\n",
       "      <th></th>\n",
       "      <th></th>\n",
       "      <th></th>\n",
       "      <th></th>\n",
       "      <th></th>\n",
       "      <th></th>\n",
       "      <th></th>\n",
       "      <th></th>\n",
       "      <th></th>\n",
       "    </tr>\n",
       "  </thead>\n",
       "  <tbody>\n",
       "    <tr>\n",
       "      <th>0</th>\n",
       "      <td>0.0</td>\n",
       "      <td>1.0</td>\n",
       "      <td>0.0</td>\n",
       "      <td>1.0</td>\n",
       "      <td>0.0</td>\n",
       "      <td>0.0</td>\n",
       "      <td>0.0</td>\n",
       "      <td>0.0</td>\n",
       "      <td>0.0</td>\n",
       "      <td>0.0</td>\n",
       "      <td>...</td>\n",
       "      <td>2.0</td>\n",
       "      <td>0.0</td>\n",
       "      <td>0.0</td>\n",
       "      <td>0.0</td>\n",
       "      <td>0.0</td>\n",
       "      <td>1.0</td>\n",
       "      <td>0.0</td>\n",
       "      <td>0.0</td>\n",
       "      <td>0.0</td>\n",
       "      <td>0.0</td>\n",
       "    </tr>\n",
       "    <tr>\n",
       "      <th>1</th>\n",
       "      <td>1.0</td>\n",
       "      <td>0.0</td>\n",
       "      <td>0.0</td>\n",
       "      <td>0.0</td>\n",
       "      <td>0.0</td>\n",
       "      <td>0.0</td>\n",
       "      <td>0.0</td>\n",
       "      <td>0.0</td>\n",
       "      <td>0.0</td>\n",
       "      <td>0.0</td>\n",
       "      <td>...</td>\n",
       "      <td>0.0</td>\n",
       "      <td>0.0</td>\n",
       "      <td>0.0</td>\n",
       "      <td>1.0</td>\n",
       "      <td>0.0</td>\n",
       "      <td>3.0</td>\n",
       "      <td>0.0</td>\n",
       "      <td>0.0</td>\n",
       "      <td>0.0</td>\n",
       "      <td>0.0</td>\n",
       "    </tr>\n",
       "    <tr>\n",
       "      <th>2</th>\n",
       "      <td>0.0</td>\n",
       "      <td>0.0</td>\n",
       "      <td>0.0</td>\n",
       "      <td>0.0</td>\n",
       "      <td>0.0</td>\n",
       "      <td>0.0</td>\n",
       "      <td>1.0</td>\n",
       "      <td>2.0</td>\n",
       "      <td>0.0</td>\n",
       "      <td>0.0</td>\n",
       "      <td>...</td>\n",
       "      <td>0.0</td>\n",
       "      <td>0.0</td>\n",
       "      <td>0.0</td>\n",
       "      <td>0.0</td>\n",
       "      <td>0.0</td>\n",
       "      <td>3.0</td>\n",
       "      <td>1.0</td>\n",
       "      <td>0.0</td>\n",
       "      <td>0.0</td>\n",
       "      <td>0.0</td>\n",
       "    </tr>\n",
       "    <tr>\n",
       "      <th>3</th>\n",
       "      <td>0.0</td>\n",
       "      <td>0.0</td>\n",
       "      <td>0.0</td>\n",
       "      <td>3.0</td>\n",
       "      <td>0.0</td>\n",
       "      <td>0.0</td>\n",
       "      <td>0.0</td>\n",
       "      <td>0.0</td>\n",
       "      <td>0.0</td>\n",
       "      <td>0.0</td>\n",
       "      <td>...</td>\n",
       "      <td>0.0</td>\n",
       "      <td>0.0</td>\n",
       "      <td>0.0</td>\n",
       "      <td>0.0</td>\n",
       "      <td>0.0</td>\n",
       "      <td>1.0</td>\n",
       "      <td>0.0</td>\n",
       "      <td>0.0</td>\n",
       "      <td>0.0</td>\n",
       "      <td>0.0</td>\n",
       "    </tr>\n",
       "    <tr>\n",
       "      <th>4</th>\n",
       "      <td>0.0</td>\n",
       "      <td>1.0</td>\n",
       "      <td>0.0</td>\n",
       "      <td>1.0</td>\n",
       "      <td>0.0</td>\n",
       "      <td>0.0</td>\n",
       "      <td>0.0</td>\n",
       "      <td>0.0</td>\n",
       "      <td>0.0</td>\n",
       "      <td>0.0</td>\n",
       "      <td>...</td>\n",
       "      <td>2.0</td>\n",
       "      <td>0.0</td>\n",
       "      <td>0.0</td>\n",
       "      <td>0.0</td>\n",
       "      <td>0.0</td>\n",
       "      <td>1.0</td>\n",
       "      <td>0.0</td>\n",
       "      <td>0.0</td>\n",
       "      <td>0.0</td>\n",
       "      <td>0.0</td>\n",
       "    </tr>\n",
       "  </tbody>\n",
       "</table>\n",
       "<p>5 rows × 52 columns</p>\n",
       "</div>"
      ],
      "text/plain": [
       "         powerbank   wi-fi   альбомы   аптечка   аренда планшета  \\\n",
       "user_id                                                            \n",
       "0              0.0     1.0       0.0       1.0               0.0   \n",
       "1              1.0     0.0       0.0       0.0               0.0   \n",
       "2              0.0     0.0       0.0       0.0               0.0   \n",
       "3              0.0     0.0       0.0       3.0               0.0   \n",
       "4              0.0     1.0       0.0       1.0               0.0   \n",
       "\n",
       "          багажный ремень с весами   бутылочки   вагон 3D-cinema  \\\n",
       "user_id                                                            \n",
       "0                              0.0         0.0               0.0   \n",
       "1                              0.0         0.0               0.0   \n",
       "2                              0.0         1.0               2.0   \n",
       "3                              0.0         0.0               0.0   \n",
       "4                              0.0         0.0               0.0   \n",
       "\n",
       "          вагон VR-zone   вагон lounge-bar  ...   сувениры  \\\n",
       "user_id                                     ...              \n",
       "0                   0.0                0.0  ...        2.0   \n",
       "1                   0.0                0.0  ...        0.0   \n",
       "2                   0.0                0.0  ...        0.0   \n",
       "3                   0.0                0.0  ...        0.0   \n",
       "4                   0.0                0.0  ...        2.0   \n",
       "\n",
       "          сумка для документов   сумка поясная   термос   фломастеры  \\\n",
       "user_id                                                                \n",
       "0                          0.0             0.0      0.0          0.0   \n",
       "1                          0.0             0.0      1.0          0.0   \n",
       "2                          0.0             0.0      0.0          0.0   \n",
       "3                          0.0             0.0      0.0          0.0   \n",
       "4                          0.0             0.0      0.0          0.0   \n",
       "\n",
       "          чехол для чемодана   ширма от надоедливого соседа  \\\n",
       "user_id                                                       \n",
       "0                        1.0                            0.0   \n",
       "1                        3.0                            0.0   \n",
       "2                        3.0                            1.0   \n",
       "3                        1.0                            0.0   \n",
       "4                        1.0                            0.0   \n",
       "\n",
       "         комплект для пеленания  массажер для шеи  массажер для ног  \n",
       "user_id                                                              \n",
       "0                           0.0               0.0               0.0  \n",
       "1                           0.0               0.0               0.0  \n",
       "2                           0.0               0.0               0.0  \n",
       "3                           0.0               0.0               0.0  \n",
       "4                           0.0               0.0               0.0  \n",
       "\n",
       "[5 rows x 52 columns]"
      ]
     },
     "execution_count": 40,
     "metadata": {},
     "output_type": "execute_result"
    }
   ],
   "source": [
    "user_item = pd.read_csv('user_items.csv', index_col='user_id')\n",
    "user_item = user_item.drop(['age', 'childs', 'clust'], axis=1)\n",
    "user_item.head()"
   ]
  },
  {
   "cell_type": "code",
   "execution_count": 41,
   "metadata": {
    "executionInfo": {
     "elapsed": 306,
     "status": "ok",
     "timestamp": 1629973819449,
     "user": {
      "displayName": "Рустем Камильянов",
      "photoUrl": "",
      "userId": "10196996601711118977"
     },
     "user_tz": -300
    },
    "id": "GkzyhJm_25AU"
   },
   "outputs": [],
   "source": [
    "class ALS_rec:\n",
    "    def __init__(self, user_item):\n",
    "        self.train, self.test = train_test_split(user_item, test_size=0.2, random_state=14)\n",
    "\n",
    "        self.train_csr = csr_matrix(self.train).tocsr()\n",
    "        self.test_csr = csr_matrix(self.test).tocsr()\n",
    "\n",
    "        self.model = AlternatingLeastSquares(factors = 10, iterations = 8, use_gpu=False, )\n",
    "        self.model.fit(self.train_csr.T)\n",
    "    \n",
    "    def predict(self, user, top_k=5):\n",
    "        rec = self.model.recommend(0, user, N=top_k, filter_already_liked_items=False)\n",
    "        predict = list( map(lambda x: x[0], rec) )\n",
    "        recs = list(user_item.columns[predict])\n",
    "        return print(recs)\n",
    "        \n"
   ]
  },
  {
   "cell_type": "code",
   "execution_count": 42,
   "metadata": {
    "colab": {
     "base_uri": "https://localhost:8080/",
     "height": 66,
     "referenced_widgets": [
      "bd47db31ea724916814207037f2b3122",
      "1742c57b5305498d9a39b6ff02f68257",
      "9618317c8ed84b5f982fc76a76f2e5ef",
      "e4fc3fa6ef6941f49217838938d8df7f",
      "28dd5154b8b541e9834ac0ae56150a1d",
      "18e5b306718b4288bde2e9a8c2cc9919",
      "e158b4c210854885bd82f210ffb06996",
      "0636428917e445d0ac42f01e3736ea49",
      "1924e338bb604ff3aeb0b0a18d088336",
      "1405a29c31d54fcba318b8978c2ac356",
      "f47cdd55c2644ef388343ec5d0e7cf9e"
     ]
    },
    "executionInfo": {
     "elapsed": 471,
     "status": "ok",
     "timestamp": 1629977377717,
     "user": {
      "displayName": "Рустем Камильянов",
      "photoUrl": "",
      "userId": "10196996601711118977"
     },
     "user_tz": -300
    },
    "id": "_lufA2tu49Wa",
    "outputId": "fc0b991e-ab7e-4400-fbc6-588e087449f8"
   },
   "outputs": [
    {
     "name": "stderr",
     "output_type": "stream",
     "text": [
      "WARNING:root:Intel MKL BLAS detected. Its highly recommend to set the environment variable 'export MKL_NUM_THREADS=1' to disable its internal multithreading\n"
     ]
    },
    {
     "data": {
      "application/vnd.jupyter.widget-view+json": {
       "model_id": "96a7085e3da049f0868960ebc1fb5d8e",
       "version_major": 2,
       "version_minor": 0
      },
      "text/plain": [
       "  0%|          | 0/8 [00:00<?, ?it/s]"
      ]
     },
     "metadata": {},
     "output_type": "display_data"
    },
    {
     "name": "stdout",
     "output_type": "stream",
     "text": [
      "[' аптечка', ' wi-fi', ' набор для чистки обуви', 'массажер для ног', ' аренда планшета']\n"
     ]
    }
   ],
   "source": [
    "train, test = train_test_split(user_item, test_size=0.2, random_state=14)\n",
    "model = ALS_rec(user_item)\n",
    "model.predict(test.iloc[random.randint(0, 100)])"
   ]
  },
  {
   "cell_type": "code",
   "execution_count": 43,
   "metadata": {
    "colab": {
     "base_uri": "https://localhost:8080/",
     "height": 49,
     "referenced_widgets": [
      "618d994a77be45868ac8b1c832507659",
      "b0f73e82669c47c392f97e6ce56f256c",
      "c591c19bcfe04c318ef9b43eccdfec12",
      "eea5065697db4d17bc51864cea1fd29d",
      "725c209b903a46f4a7d62c9252edea73",
      "677c72cc1f9d473d8b869190978cec5d",
      "d112af64d0eb468c8e4b097e7ebd227b",
      "2040e118297e466f9319430e0f3d9444",
      "4cc8cb83169a4afe973264ae47e7125e",
      "1db273efacb14050822dab39c1dd4b93",
      "7f34e5262a8741a58c991e26fc62093d"
     ]
    },
    "executionInfo": {
     "elapsed": 7827,
     "status": "ok",
     "timestamp": 1629968414487,
     "user": {
      "displayName": "Рустем Камильянов",
      "photoUrl": "",
      "userId": "10196996601711118977"
     },
     "user_tz": -300
    },
    "id": "fJikHCHMXB76",
    "outputId": "72749f3b-6719-4e55-9f75-c01286215388"
   },
   "outputs": [
    {
     "data": {
      "application/vnd.jupyter.widget-view+json": {
       "model_id": "89bd284b59674c4bb8f60c38b6c4d3f7",
       "version_major": 2,
       "version_minor": 0
      },
      "text/plain": [
       "  0%|          | 0/8 [00:00<?, ?it/s]"
      ]
     },
     "metadata": {},
     "output_type": "display_data"
    }
   ],
   "source": [
    "user_item = pd.read_csv('user_items.csv', index_col='user_id')\n",
    "user_item = user_item.drop(['age', 'childs', 'clust'], axis=1)\n",
    "\n",
    "train, test = train_test_split(user_item, test_size=0.2)\n",
    "\n",
    "# преобразуем данные\n",
    "train_csr = csr_matrix(train.values).tocsr()\n",
    "test_csr = csr_matrix(test.values).tocsr()\n",
    "\n",
    "# учим модель\n",
    "m_als = AlternatingLeastSquares(factors = 10,\n",
    "                               iterations = 8,\n",
    "                                use_gpu=False)\n",
    "m_als.fit(train_csr.T)\n",
    "\n",
    "# считаем метрику\n",
    "top_k = 10\n",
    "metric = []\n",
    "\n",
    "for i in range(test.shape[0]):\n",
    "    actual = []\n",
    "    id_user = test.iloc[i, :].name\n",
    "    rec = m_als.recommend(0, \n",
    "                          test_csr[i], \n",
    "                          N=top_k, \n",
    "                          filter_already_liked_items=False)\n",
    "    predict = list( map(lambda x: x[0], rec) )\n",
    "\n",
    "    for item_id in range(len(user_item.columns)):\n",
    "        if (user_item[user_item.index == id_user].iloc[:, item_id] > 0).bool():\n",
    "            actual.append(item_id)\n",
    "    metric.append(hit(actual, predict))"
   ]
  },
  {
   "cell_type": "code",
   "execution_count": 44,
   "metadata": {
    "colab": {
     "base_uri": "https://localhost:8080/"
    },
    "executionInfo": {
     "elapsed": 377,
     "status": "ok",
     "timestamp": 1629968417307,
     "user": {
      "displayName": "Рустем Камильянов",
      "photoUrl": "",
      "userId": "10196996601711118977"
     },
     "user_tz": -300
    },
    "id": "yMJtFNRKbIkK",
    "outputId": "ae57b8f5-6827-4e92-c033-dc54f75beb91"
   },
   "outputs": [
    {
     "name": "stdout",
     "output_type": "stream",
     "text": [
      "HR@5:  0.18400000000000002\n"
     ]
    }
   ],
   "source": [
    "print('HR@5: ', np.mean(metric))"
   ]
  },
  {
   "cell_type": "markdown",
   "metadata": {
    "id": "qq5ufvf3aI_8"
   },
   "source": [
    "# Neural Matrix Factorization"
   ]
  },
  {
   "cell_type": "code",
   "execution_count": 45,
   "metadata": {
    "colab": {
     "base_uri": "https://localhost:8080/",
     "height": 362
    },
    "executionInfo": {
     "elapsed": 507,
     "status": "ok",
     "timestamp": 1629977470399,
     "user": {
      "displayName": "Рустем Камильянов",
      "photoUrl": "",
      "userId": "10196996601711118977"
     },
     "user_tz": -300
    },
    "id": "UC8xjhv1DJfc",
    "outputId": "dd7dde93-61f8-4423-82fe-fc87415834df"
   },
   "outputs": [
    {
     "data": {
      "text/html": [
       "<div>\n",
       "<style scoped>\n",
       "    .dataframe tbody tr th:only-of-type {\n",
       "        vertical-align: middle;\n",
       "    }\n",
       "\n",
       "    .dataframe tbody tr th {\n",
       "        vertical-align: top;\n",
       "    }\n",
       "\n",
       "    .dataframe thead th {\n",
       "        text-align: right;\n",
       "    }\n",
       "</style>\n",
       "<table border=\"1\" class=\"dataframe\">\n",
       "  <thead>\n",
       "    <tr style=\"text-align: right;\">\n",
       "      <th></th>\n",
       "      <th>clust</th>\n",
       "      <th>powerbank</th>\n",
       "      <th>wi-fi</th>\n",
       "      <th>альбомы</th>\n",
       "      <th>аптечка</th>\n",
       "      <th>аренда планшета</th>\n",
       "      <th>багажный ремень с весами</th>\n",
       "      <th>бутылочки</th>\n",
       "      <th>вагон 3D-cinema</th>\n",
       "      <th>вагон VR-zone</th>\n",
       "      <th>...</th>\n",
       "      <th>сувениры</th>\n",
       "      <th>сумка для документов</th>\n",
       "      <th>сумка поясная</th>\n",
       "      <th>термос</th>\n",
       "      <th>фломастеры</th>\n",
       "      <th>чехол для чемодана</th>\n",
       "      <th>ширма от надоедливого соседа</th>\n",
       "      <th>комплект для пеленания</th>\n",
       "      <th>массажер для шеи</th>\n",
       "      <th>массажер для ног</th>\n",
       "    </tr>\n",
       "    <tr>\n",
       "      <th>user_id</th>\n",
       "      <th></th>\n",
       "      <th></th>\n",
       "      <th></th>\n",
       "      <th></th>\n",
       "      <th></th>\n",
       "      <th></th>\n",
       "      <th></th>\n",
       "      <th></th>\n",
       "      <th></th>\n",
       "      <th></th>\n",
       "      <th></th>\n",
       "      <th></th>\n",
       "      <th></th>\n",
       "      <th></th>\n",
       "      <th></th>\n",
       "      <th></th>\n",
       "      <th></th>\n",
       "      <th></th>\n",
       "      <th></th>\n",
       "      <th></th>\n",
       "      <th></th>\n",
       "    </tr>\n",
       "  </thead>\n",
       "  <tbody>\n",
       "    <tr>\n",
       "      <th>0</th>\n",
       "      <td>0</td>\n",
       "      <td>0.0</td>\n",
       "      <td>1.0</td>\n",
       "      <td>0.0</td>\n",
       "      <td>1.0</td>\n",
       "      <td>0.0</td>\n",
       "      <td>0.0</td>\n",
       "      <td>0.0</td>\n",
       "      <td>0.0</td>\n",
       "      <td>0.0</td>\n",
       "      <td>...</td>\n",
       "      <td>2.0</td>\n",
       "      <td>0.0</td>\n",
       "      <td>0.0</td>\n",
       "      <td>0.0</td>\n",
       "      <td>0.0</td>\n",
       "      <td>1.0</td>\n",
       "      <td>0.0</td>\n",
       "      <td>0.0</td>\n",
       "      <td>0.0</td>\n",
       "      <td>0.0</td>\n",
       "    </tr>\n",
       "    <tr>\n",
       "      <th>1</th>\n",
       "      <td>1</td>\n",
       "      <td>1.0</td>\n",
       "      <td>0.0</td>\n",
       "      <td>0.0</td>\n",
       "      <td>0.0</td>\n",
       "      <td>0.0</td>\n",
       "      <td>0.0</td>\n",
       "      <td>0.0</td>\n",
       "      <td>0.0</td>\n",
       "      <td>0.0</td>\n",
       "      <td>...</td>\n",
       "      <td>0.0</td>\n",
       "      <td>0.0</td>\n",
       "      <td>0.0</td>\n",
       "      <td>1.0</td>\n",
       "      <td>0.0</td>\n",
       "      <td>3.0</td>\n",
       "      <td>0.0</td>\n",
       "      <td>0.0</td>\n",
       "      <td>0.0</td>\n",
       "      <td>0.0</td>\n",
       "    </tr>\n",
       "    <tr>\n",
       "      <th>2</th>\n",
       "      <td>2</td>\n",
       "      <td>0.0</td>\n",
       "      <td>0.0</td>\n",
       "      <td>0.0</td>\n",
       "      <td>0.0</td>\n",
       "      <td>0.0</td>\n",
       "      <td>0.0</td>\n",
       "      <td>1.0</td>\n",
       "      <td>2.0</td>\n",
       "      <td>0.0</td>\n",
       "      <td>...</td>\n",
       "      <td>0.0</td>\n",
       "      <td>0.0</td>\n",
       "      <td>0.0</td>\n",
       "      <td>0.0</td>\n",
       "      <td>0.0</td>\n",
       "      <td>3.0</td>\n",
       "      <td>1.0</td>\n",
       "      <td>0.0</td>\n",
       "      <td>0.0</td>\n",
       "      <td>0.0</td>\n",
       "    </tr>\n",
       "    <tr>\n",
       "      <th>3</th>\n",
       "      <td>2</td>\n",
       "      <td>0.0</td>\n",
       "      <td>0.0</td>\n",
       "      <td>0.0</td>\n",
       "      <td>3.0</td>\n",
       "      <td>0.0</td>\n",
       "      <td>0.0</td>\n",
       "      <td>0.0</td>\n",
       "      <td>0.0</td>\n",
       "      <td>0.0</td>\n",
       "      <td>...</td>\n",
       "      <td>0.0</td>\n",
       "      <td>0.0</td>\n",
       "      <td>0.0</td>\n",
       "      <td>0.0</td>\n",
       "      <td>0.0</td>\n",
       "      <td>1.0</td>\n",
       "      <td>0.0</td>\n",
       "      <td>0.0</td>\n",
       "      <td>0.0</td>\n",
       "      <td>0.0</td>\n",
       "    </tr>\n",
       "    <tr>\n",
       "      <th>4</th>\n",
       "      <td>0</td>\n",
       "      <td>0.0</td>\n",
       "      <td>1.0</td>\n",
       "      <td>0.0</td>\n",
       "      <td>1.0</td>\n",
       "      <td>0.0</td>\n",
       "      <td>0.0</td>\n",
       "      <td>0.0</td>\n",
       "      <td>0.0</td>\n",
       "      <td>0.0</td>\n",
       "      <td>...</td>\n",
       "      <td>2.0</td>\n",
       "      <td>0.0</td>\n",
       "      <td>0.0</td>\n",
       "      <td>0.0</td>\n",
       "      <td>0.0</td>\n",
       "      <td>1.0</td>\n",
       "      <td>0.0</td>\n",
       "      <td>0.0</td>\n",
       "      <td>0.0</td>\n",
       "      <td>0.0</td>\n",
       "    </tr>\n",
       "  </tbody>\n",
       "</table>\n",
       "<p>5 rows × 53 columns</p>\n",
       "</div>"
      ],
      "text/plain": [
       "         clust  powerbank   wi-fi   альбомы   аптечка   аренда планшета  \\\n",
       "user_id                                                                   \n",
       "0            0        0.0     1.0       0.0       1.0               0.0   \n",
       "1            1        1.0     0.0       0.0       0.0               0.0   \n",
       "2            2        0.0     0.0       0.0       0.0               0.0   \n",
       "3            2        0.0     0.0       0.0       3.0               0.0   \n",
       "4            0        0.0     1.0       0.0       1.0               0.0   \n",
       "\n",
       "          багажный ремень с весами   бутылочки   вагон 3D-cinema  \\\n",
       "user_id                                                            \n",
       "0                              0.0         0.0               0.0   \n",
       "1                              0.0         0.0               0.0   \n",
       "2                              0.0         1.0               2.0   \n",
       "3                              0.0         0.0               0.0   \n",
       "4                              0.0         0.0               0.0   \n",
       "\n",
       "          вагон VR-zone  ...   сувениры   сумка для документов  \\\n",
       "user_id                  ...                                     \n",
       "0                   0.0  ...        2.0                    0.0   \n",
       "1                   0.0  ...        0.0                    0.0   \n",
       "2                   0.0  ...        0.0                    0.0   \n",
       "3                   0.0  ...        0.0                    0.0   \n",
       "4                   0.0  ...        2.0                    0.0   \n",
       "\n",
       "          сумка поясная   термос   фломастеры   чехол для чемодана  \\\n",
       "user_id                                                              \n",
       "0                   0.0      0.0          0.0                  1.0   \n",
       "1                   0.0      1.0          0.0                  3.0   \n",
       "2                   0.0      0.0          0.0                  3.0   \n",
       "3                   0.0      0.0          0.0                  1.0   \n",
       "4                   0.0      0.0          0.0                  1.0   \n",
       "\n",
       "          ширма от надоедливого соседа  комплект для пеленания  \\\n",
       "user_id                                                          \n",
       "0                                  0.0                     0.0   \n",
       "1                                  0.0                     0.0   \n",
       "2                                  1.0                     0.0   \n",
       "3                                  0.0                     0.0   \n",
       "4                                  0.0                     0.0   \n",
       "\n",
       "         массажер для шеи  массажер для ног  \n",
       "user_id                                      \n",
       "0                     0.0               0.0  \n",
       "1                     0.0               0.0  \n",
       "2                     0.0               0.0  \n",
       "3                     0.0               0.0  \n",
       "4                     0.0               0.0  \n",
       "\n",
       "[5 rows x 53 columns]"
      ]
     },
     "execution_count": 45,
     "metadata": {},
     "output_type": "execute_result"
    }
   ],
   "source": [
    "user_item = pd.read_csv('user_items.csv', index_col='user_id')\n",
    "user_item = user_item.drop(['age', 'childs'], axis=1)\n",
    "user_item.head()"
   ]
  },
  {
   "cell_type": "markdown",
   "metadata": {
    "id": "25_MTEuxTYqi"
   },
   "source": [
    "#### Evaluating"
   ]
  },
  {
   "cell_type": "code",
   "execution_count": 46,
   "metadata": {
    "executionInfo": {
     "elapsed": 50,
     "status": "ok",
     "timestamp": 1629958978216,
     "user": {
      "displayName": "Рустем Камильянов",
      "photoUrl": "",
      "userId": "10196996601711118977"
     },
     "user_tz": -300
    },
    "id": "AFOubjOHTYrC"
   },
   "outputs": [],
   "source": [
    "def hit(actual_items, pred_items):\n",
    "    hits =[]\n",
    "    for h in pred_items:\n",
    "        if h in actual_items:\n",
    "            hits.append(1)\n",
    "        else:\n",
    "            hits.append(0)\n",
    "    return np.mean(hits)\n",
    "\n",
    "@torch.no_grad()\n",
    "def metrics(model, test_loader, top_k, device):\n",
    "    _hr = []\n",
    "\n",
    "    for user, item, label in test_loader:\n",
    "\n",
    "        user=user.to(device)\n",
    "        item=item.to(device)  \n",
    "\n",
    "        predictions = model(user, item)\n",
    "        predictions = predictions.view(-1)\n",
    "        _, indices = torch.topk(predictions, top_k)\n",
    "        recommends = torch.take(item, indices).cpu().numpy().tolist()\n",
    "        \n",
    "        actual = []\n",
    "        for m in range(len(item)):\n",
    "            if label[m] == 1:\n",
    "                actual.append(item[m].item())\n",
    "            else:\n",
    "                pass\n",
    "         \n",
    "        _hr.append(hit(actual, recommends))\n",
    "\n",
    "    return np.mean(_hr)"
   ]
  },
  {
   "cell_type": "code",
   "execution_count": 47,
   "metadata": {
    "executionInfo": {
     "elapsed": 324,
     "status": "ok",
     "timestamp": 1629959555788,
     "user": {
      "displayName": "Рустем Камильянов",
      "photoUrl": "",
      "userId": "10196996601711118977"
     },
     "user_tz": -300
    },
    "id": "hGbEK_FeIWxv"
   },
   "outputs": [],
   "source": [
    "from torch.utils.data import Dataset\n",
    "class UserItemRatingDatset(Dataset):\n",
    "    def __init__(self, user_list, item_list, interaction):\n",
    "        super(UserItemRatingDatset, self).__init__()\n",
    "        self.user_tensor = torch.tensor(user_list, dtype=torch.long)\n",
    "        self.item_tensor = torch.tensor(item_list, dtype=torch.long)\n",
    "        self.interaction_tensor = torch.tensor(interaction, dtype=torch.float)\n",
    "    \n",
    "    def __len__(self):\n",
    "        return len(self.interaction_tensor)\n",
    "    \n",
    "    def __getitem__(self, idx):\n",
    "        return self.user_tensor[idx], self.item_tensor[idx], self.interaction_tensor[idx]\n"
   ]
  },
  {
   "cell_type": "code",
   "execution_count": 48,
   "metadata": {
    "executionInfo": {
     "elapsed": 425,
     "status": "ok",
     "timestamp": 1629959557835,
     "user": {
      "displayName": "Рустем Камильянов",
      "photoUrl": "",
      "userId": "10196996601711118977"
     },
     "user_tz": -300
    },
    "id": "feSy0S08IWxy"
   },
   "outputs": [],
   "source": [
    "from torch.utils.data import DataLoader\n",
    "\n",
    "class NCFData(object):\n",
    "\n",
    "    def __init__(self, user_item, batch_size):\n",
    "        \n",
    "        self.batch_size = batch_size\n",
    "        self.train, self.test = train_test_split(user_item, test_size=0.2, \n",
    "                                                 random_state=14)\n",
    "\n",
    "\n",
    "    def get_train(self):\n",
    "        users, items, interaction = [], [], []\n",
    "\n",
    "        for u in range(len(self.train.index)):\n",
    "            for i in range(len(self.train.columns)):\n",
    "                users.append(self.train.iloc[u, :].name)\n",
    "                items.append(i)\n",
    "                interaction.append(1 if self.train.iloc[u, i] > 0 else 0)\n",
    "        \n",
    "        dataset = UserItemRatingDatset(user_list=users, \n",
    "                                       item_list=items, \n",
    "                                       interaction=interaction)\n",
    "        return DataLoader(dataset, batch_size=self.batch_size, \n",
    "                          shuffle=True)\n",
    "\n",
    "    def get_test(self):\n",
    "        users, items, interaction = [], [], []\n",
    "\n",
    "        for u in range(len(self.test.index)):\n",
    "            for i in range(len(self.test.columns)):\n",
    "                users.append(self.test.iloc[u, :].name)\n",
    "                items.append(i)\n",
    "                interaction.append(1 if self.test.iloc[u, i] > 0 else 0)\n",
    "        \n",
    "        dataset = UserItemRatingDatset(user_list=users, \n",
    "                                       item_list=items, \n",
    "                                       interaction=interaction)\n",
    "        return DataLoader(dataset, batch_size=self.batch_size, \n",
    "                          shuffle=False)        "
   ]
  },
  {
   "cell_type": "code",
   "execution_count": 49,
   "metadata": {
    "executionInfo": {
     "elapsed": 317,
     "status": "ok",
     "timestamp": 1629959565707,
     "user": {
      "displayName": "Рустем Камильянов",
      "photoUrl": "",
      "userId": "10196996601711118977"
     },
     "user_tz": -300
    },
    "id": "9ChovLjREPcs"
   },
   "outputs": [],
   "source": [
    "class NeuMF(nn.Module):\n",
    "    def __init__(self, num_users, num_items, embedding_dim, layers, dropout_rate):\n",
    "        super(NeuMF, self).__init__()\n",
    "        \n",
    "        self.num_users = num_users\n",
    "        self.num_items = num_items\n",
    "        self.embedding_dim = embedding_dim\n",
    "        self.layers = layers\n",
    "        self.dropout = dropout_rate\n",
    "\n",
    "        #mf part\n",
    "        self.embedding_user_mf = nn.Embedding(num_embeddings=self.num_users, \n",
    "                                              embedding_dim=self.embedding_dim)\n",
    "        self.embedding_item_mf = nn.Embedding(num_embeddings=self.num_items, \n",
    "                                              embedding_dim=self.embedding_dim)\n",
    "        \n",
    "        #mlp part\n",
    "        self.embedding_user_mlp = nn.Embedding(num_embeddings=self.num_users, \n",
    "                                               embedding_dim=self.embedding_dim)\n",
    "        self.embedding_item_mlp = nn.Embedding(num_embeddings=self.num_items, \n",
    "                                               embedding_dim=self.embedding_dim)\n",
    "        \n",
    "        self.fc_layers = nn.ModuleList()\n",
    "        for idx, (in_size, out_size) in enumerate(zip(self.layers[:-1], self.layers[1:])):\n",
    "            self.fc_layers.append(nn.Linear(in_size, out_size))\n",
    "\n",
    "        self.logits = nn.Linear(in_features=self.layers[-1] + self.embedding_dim, out_features=1)\n",
    "        self.sigmoid = nn.Sigmoid()\n",
    "        self.mf_linear = nn.Linear(self.embedding_dim, self.embedding_dim)\n",
    "\n",
    "    def forward(self, user_indices, item_indices):\n",
    "        user_embedding_mlp = self.embedding_user_mlp(user_indices)\n",
    "        item_embedding_mlp = self.embedding_item_mlp(item_indices)\n",
    "        user_embedding_mf = self.embedding_user_mf(user_indices)\n",
    "        item_embedding_mf = self.embedding_item_mf(item_indices)\n",
    "\n",
    "        #### mf part\n",
    "        mf_vector =torch.mul(user_embedding_mf, item_embedding_mf)\n",
    "        mf_vector = self.mf_linear(mf_vector)\n",
    "        mf_vector = self.mf_linear(mf_vector)\n",
    "        mf_vector = torch.nn.Dropout(p=self.dropout)(mf_vector)\n",
    "\n",
    "        #### mlp part        \n",
    "        mlp_vector = torch.cat([user_embedding_mlp, item_embedding_mlp], dim=-1)  # the concat latent vector\n",
    "        \n",
    "        for idx, _ in enumerate(range(len(self.fc_layers))):\n",
    "            mlp_vector = self.fc_layers[idx](mlp_vector)\n",
    "            mlp_vector = torch.nn.ReLU()(mlp_vector)\n",
    "        mlp_vector = torch.nn.Dropout(p=self.dropout)(mlp_vector)\n",
    "\n",
    "        vector = torch.cat([mlp_vector, mf_vector], dim=-1)\n",
    "        logits = self.logits(vector)\n",
    "        output = self.sigmoid(logits)\n",
    "        return output"
   ]
  },
  {
   "cell_type": "code",
   "execution_count": 50,
   "metadata": {
    "executionInfo": {
     "elapsed": 287,
     "status": "ok",
     "timestamp": 1629959570318,
     "user": {
      "displayName": "Рустем Камильянов",
      "photoUrl": "",
      "userId": "10196996601711118977"
     },
     "user_tz": -300
    },
    "id": "7pSbny-HaL_R"
   },
   "outputs": [],
   "source": [
    "def train_pipeline(model, optimizer, criterion, data, num_epochs):\n",
    "    loss_history = []\n",
    "    metric_history = {'HR@5': []}\n",
    "    test_loader = data.get_test()\n",
    "\n",
    "    for epoch in range(1, num_epochs+1):\n",
    "        model.train()\n",
    "\n",
    "        train_loader = data.get_train()\n",
    "\n",
    "        for user, item, label in tqdm.tqdm(train_loader, desc=f'[Epoch #{epoch}]',\n",
    "                                           total=len(train_loader)):\n",
    "            user = user.to(DEVICE)\n",
    "            item = item.to(DEVICE)\n",
    "            label = label.to(DEVICE)\n",
    "\n",
    "            optimizer.zero_grad()\n",
    "            prediction = model(user, item)\n",
    "\n",
    "            loss = criterion(prediction.view(-1), label.view(-1))\n",
    "            loss.backward()\n",
    "            optimizer.step()\n",
    "\n",
    "            loss_history.append(loss.item())\n",
    "        \n",
    "        # Eval\n",
    "        model.eval()\n",
    "        hr_i = metrics(model=model, \n",
    "                       test_loader=test_loader, \n",
    "                       top_k=TOP_K, \n",
    "                       device=DEVICE)\n",
    "        metric_history['HR@5'].append(hr_i)\n",
    "\n",
    "        print(f'[Epoch #{epoch}] HR: {hr_i:.3f}')\n",
    "    \n",
    "    return loss_history, metric_history"
   ]
  },
  {
   "cell_type": "code",
   "execution_count": 51,
   "metadata": {
    "colab": {
     "base_uri": "https://localhost:8080/"
    },
    "executionInfo": {
     "elapsed": 74499,
     "status": "ok",
     "timestamp": 1629966186410,
     "user": {
      "displayName": "Рустем Камильянов",
      "photoUrl": "",
      "userId": "10196996601711118977"
     },
     "user_tz": -300
    },
    "id": "PsgYBgdGa9fe",
    "outputId": "34e74102-e535-4aa2-dd4b-df7334d88a5d"
   },
   "outputs": [
    {
     "name": "stderr",
     "output_type": "stream",
     "text": [
      "[Epoch #1]: 100%|███████████████████████████████████████████████████████████████████| 408/408 [00:01<00:00, 334.86it/s]\n"
     ]
    },
    {
     "name": "stdout",
     "output_type": "stream",
     "text": [
      "[Epoch #1] HR: 0.316\n"
     ]
    },
    {
     "name": "stderr",
     "output_type": "stream",
     "text": [
      "[Epoch #2]: 100%|███████████████████████████████████████████████████████████████████| 408/408 [00:01<00:00, 348.09it/s]\n"
     ]
    },
    {
     "name": "stdout",
     "output_type": "stream",
     "text": [
      "[Epoch #2] HR: 0.314\n"
     ]
    },
    {
     "name": "stderr",
     "output_type": "stream",
     "text": [
      "[Epoch #3]: 100%|███████████████████████████████████████████████████████████████████| 408/408 [00:01<00:00, 348.15it/s]\n"
     ]
    },
    {
     "name": "stdout",
     "output_type": "stream",
     "text": [
      "[Epoch #3] HR: 0.312\n"
     ]
    },
    {
     "name": "stderr",
     "output_type": "stream",
     "text": [
      "[Epoch #4]: 100%|███████████████████████████████████████████████████████████████████| 408/408 [00:01<00:00, 347.57it/s]\n"
     ]
    },
    {
     "name": "stdout",
     "output_type": "stream",
     "text": [
      "[Epoch #4] HR: 0.312\n"
     ]
    },
    {
     "name": "stderr",
     "output_type": "stream",
     "text": [
      "[Epoch #5]: 100%|███████████████████████████████████████████████████████████████████| 408/408 [00:01<00:00, 341.56it/s]\n"
     ]
    },
    {
     "name": "stdout",
     "output_type": "stream",
     "text": [
      "[Epoch #5] HR: 0.292\n"
     ]
    },
    {
     "name": "stderr",
     "output_type": "stream",
     "text": [
      "[Epoch #6]: 100%|███████████████████████████████████████████████████████████████████| 408/408 [00:01<00:00, 323.59it/s]\n"
     ]
    },
    {
     "name": "stdout",
     "output_type": "stream",
     "text": [
      "[Epoch #6] HR: 0.294\n"
     ]
    },
    {
     "name": "stderr",
     "output_type": "stream",
     "text": [
      "[Epoch #7]: 100%|███████████████████████████████████████████████████████████████████| 408/408 [00:01<00:00, 312.05it/s]\n"
     ]
    },
    {
     "name": "stdout",
     "output_type": "stream",
     "text": [
      "[Epoch #7] HR: 0.288\n"
     ]
    },
    {
     "name": "stderr",
     "output_type": "stream",
     "text": [
      "[Epoch #8]: 100%|███████████████████████████████████████████████████████████████████| 408/408 [00:01<00:00, 305.64it/s]\n"
     ]
    },
    {
     "name": "stdout",
     "output_type": "stream",
     "text": [
      "[Epoch #8] HR: 0.286\n"
     ]
    },
    {
     "name": "stderr",
     "output_type": "stream",
     "text": [
      "[Epoch #9]: 100%|███████████████████████████████████████████████████████████████████| 408/408 [00:01<00:00, 293.76it/s]\n"
     ]
    },
    {
     "name": "stdout",
     "output_type": "stream",
     "text": [
      "[Epoch #9] HR: 0.300\n"
     ]
    },
    {
     "name": "stderr",
     "output_type": "stream",
     "text": [
      "[Epoch #10]: 100%|██████████████████████████████████████████████████████████████████| 408/408 [00:01<00:00, 290.00it/s]\n"
     ]
    },
    {
     "name": "stdout",
     "output_type": "stream",
     "text": [
      "[Epoch #10] HR: 0.292\n"
     ]
    },
    {
     "name": "stderr",
     "output_type": "stream",
     "text": [
      "[Epoch #11]: 100%|██████████████████████████████████████████████████████████████████| 408/408 [00:01<00:00, 283.19it/s]\n"
     ]
    },
    {
     "name": "stdout",
     "output_type": "stream",
     "text": [
      "[Epoch #11] HR: 0.298\n"
     ]
    },
    {
     "name": "stderr",
     "output_type": "stream",
     "text": [
      "[Epoch #12]: 100%|██████████████████████████████████████████████████████████████████| 408/408 [00:01<00:00, 277.60it/s]\n"
     ]
    },
    {
     "name": "stdout",
     "output_type": "stream",
     "text": [
      "[Epoch #12] HR: 0.304\n"
     ]
    },
    {
     "name": "stderr",
     "output_type": "stream",
     "text": [
      "[Epoch #13]: 100%|██████████████████████████████████████████████████████████████████| 408/408 [00:01<00:00, 277.99it/s]\n"
     ]
    },
    {
     "name": "stdout",
     "output_type": "stream",
     "text": [
      "[Epoch #13] HR: 0.312\n"
     ]
    },
    {
     "name": "stderr",
     "output_type": "stream",
     "text": [
      "[Epoch #14]: 100%|██████████████████████████████████████████████████████████████████| 408/408 [00:01<00:00, 248.28it/s]\n"
     ]
    },
    {
     "name": "stdout",
     "output_type": "stream",
     "text": [
      "[Epoch #14] HR: 0.302\n"
     ]
    },
    {
     "name": "stderr",
     "output_type": "stream",
     "text": [
      "[Epoch #15]: 100%|██████████████████████████████████████████████████████████████████| 408/408 [00:01<00:00, 272.03it/s]\n"
     ]
    },
    {
     "name": "stdout",
     "output_type": "stream",
     "text": [
      "[Epoch #15] HR: 0.302\n"
     ]
    },
    {
     "name": "stderr",
     "output_type": "stream",
     "text": [
      "[Epoch #16]: 100%|██████████████████████████████████████████████████████████████████| 408/408 [00:01<00:00, 272.09it/s]\n"
     ]
    },
    {
     "name": "stdout",
     "output_type": "stream",
     "text": [
      "[Epoch #16] HR: 0.302\n"
     ]
    },
    {
     "name": "stderr",
     "output_type": "stream",
     "text": [
      "[Epoch #17]: 100%|██████████████████████████████████████████████████████████████████| 408/408 [00:01<00:00, 269.99it/s]\n"
     ]
    },
    {
     "name": "stdout",
     "output_type": "stream",
     "text": [
      "[Epoch #17] HR: 0.306\n"
     ]
    },
    {
     "name": "stderr",
     "output_type": "stream",
     "text": [
      "[Epoch #18]: 100%|██████████████████████████████████████████████████████████████████| 408/408 [00:01<00:00, 269.59it/s]\n"
     ]
    },
    {
     "name": "stdout",
     "output_type": "stream",
     "text": [
      "[Epoch #18] HR: 0.302\n"
     ]
    },
    {
     "name": "stderr",
     "output_type": "stream",
     "text": [
      "[Epoch #19]: 100%|██████████████████████████████████████████████████████████████████| 408/408 [00:01<00:00, 270.64it/s]\n"
     ]
    },
    {
     "name": "stdout",
     "output_type": "stream",
     "text": [
      "[Epoch #19] HR: 0.304\n"
     ]
    },
    {
     "name": "stderr",
     "output_type": "stream",
     "text": [
      "[Epoch #20]: 100%|██████████████████████████████████████████████████████████████████| 408/408 [00:01<00:00, 272.01it/s]\n"
     ]
    },
    {
     "name": "stdout",
     "output_type": "stream",
     "text": [
      "[Epoch #20] HR: 0.312\n"
     ]
    },
    {
     "ename": "KeyboardInterrupt",
     "evalue": "",
     "output_type": "error",
     "traceback": [
      "\u001b[1;31m---------------------------------------------------------------------------\u001b[0m",
      "\u001b[1;31mKeyboardInterrupt\u001b[0m                         Traceback (most recent call last)",
      "\u001b[1;32m<ipython-input-51-38cc5105671e>\u001b[0m in \u001b[0;36m<module>\u001b[1;34m\u001b[0m\n\u001b[0;32m     23\u001b[0m \u001b[0moptimizer\u001b[0m \u001b[1;33m=\u001b[0m \u001b[0mtorch\u001b[0m\u001b[1;33m.\u001b[0m\u001b[0moptim\u001b[0m\u001b[1;33m.\u001b[0m\u001b[0mAdam\u001b[0m\u001b[1;33m(\u001b[0m\u001b[0mmodel\u001b[0m\u001b[1;33m.\u001b[0m\u001b[0mparameters\u001b[0m\u001b[1;33m(\u001b[0m\u001b[1;33m)\u001b[0m\u001b[1;33m,\u001b[0m \u001b[0mlr\u001b[0m\u001b[1;33m=\u001b[0m\u001b[1;36m1e-5\u001b[0m\u001b[1;33m)\u001b[0m\u001b[1;33m\u001b[0m\u001b[1;33m\u001b[0m\u001b[0m\n\u001b[0;32m     24\u001b[0m \u001b[1;33m\u001b[0m\u001b[0m\n\u001b[1;32m---> 25\u001b[1;33m loss_history, metric_history = train_pipeline(model=model,\n\u001b[0m\u001b[0;32m     26\u001b[0m                                               \u001b[0moptimizer\u001b[0m\u001b[1;33m=\u001b[0m\u001b[0moptimizer\u001b[0m\u001b[1;33m,\u001b[0m\u001b[1;33m\u001b[0m\u001b[1;33m\u001b[0m\u001b[0m\n\u001b[0;32m     27\u001b[0m                                               \u001b[0mcriterion\u001b[0m\u001b[1;33m=\u001b[0m\u001b[0mcriterion\u001b[0m\u001b[1;33m,\u001b[0m\u001b[1;33m\u001b[0m\u001b[1;33m\u001b[0m\u001b[0m\n",
      "\u001b[1;32m<ipython-input-50-3b5a78aafb4b>\u001b[0m in \u001b[0;36mtrain_pipeline\u001b[1;34m(model, optimizer, criterion, data, num_epochs)\u001b[0m\n\u001b[0;32m      7\u001b[0m         \u001b[0mmodel\u001b[0m\u001b[1;33m.\u001b[0m\u001b[0mtrain\u001b[0m\u001b[1;33m(\u001b[0m\u001b[1;33m)\u001b[0m\u001b[1;33m\u001b[0m\u001b[1;33m\u001b[0m\u001b[0m\n\u001b[0;32m      8\u001b[0m \u001b[1;33m\u001b[0m\u001b[0m\n\u001b[1;32m----> 9\u001b[1;33m         \u001b[0mtrain_loader\u001b[0m \u001b[1;33m=\u001b[0m \u001b[0mdata\u001b[0m\u001b[1;33m.\u001b[0m\u001b[0mget_train\u001b[0m\u001b[1;33m(\u001b[0m\u001b[1;33m)\u001b[0m\u001b[1;33m\u001b[0m\u001b[1;33m\u001b[0m\u001b[0m\n\u001b[0m\u001b[0;32m     10\u001b[0m \u001b[1;33m\u001b[0m\u001b[0m\n\u001b[0;32m     11\u001b[0m         for user, item, label in tqdm.tqdm(train_loader, desc=f'[Epoch #{epoch}]',\n",
      "\u001b[1;32m<ipython-input-48-8a37f2741652>\u001b[0m in \u001b[0;36mget_train\u001b[1;34m(self)\u001b[0m\n\u001b[0;32m     15\u001b[0m         \u001b[1;32mfor\u001b[0m \u001b[0mu\u001b[0m \u001b[1;32min\u001b[0m \u001b[0mrange\u001b[0m\u001b[1;33m(\u001b[0m\u001b[0mlen\u001b[0m\u001b[1;33m(\u001b[0m\u001b[0mself\u001b[0m\u001b[1;33m.\u001b[0m\u001b[0mtrain\u001b[0m\u001b[1;33m.\u001b[0m\u001b[0mindex\u001b[0m\u001b[1;33m)\u001b[0m\u001b[1;33m)\u001b[0m\u001b[1;33m:\u001b[0m\u001b[1;33m\u001b[0m\u001b[1;33m\u001b[0m\u001b[0m\n\u001b[0;32m     16\u001b[0m             \u001b[1;32mfor\u001b[0m \u001b[0mi\u001b[0m \u001b[1;32min\u001b[0m \u001b[0mrange\u001b[0m\u001b[1;33m(\u001b[0m\u001b[0mlen\u001b[0m\u001b[1;33m(\u001b[0m\u001b[0mself\u001b[0m\u001b[1;33m.\u001b[0m\u001b[0mtrain\u001b[0m\u001b[1;33m.\u001b[0m\u001b[0mcolumns\u001b[0m\u001b[1;33m)\u001b[0m\u001b[1;33m)\u001b[0m\u001b[1;33m:\u001b[0m\u001b[1;33m\u001b[0m\u001b[1;33m\u001b[0m\u001b[0m\n\u001b[1;32m---> 17\u001b[1;33m                 \u001b[0musers\u001b[0m\u001b[1;33m.\u001b[0m\u001b[0mappend\u001b[0m\u001b[1;33m(\u001b[0m\u001b[0mself\u001b[0m\u001b[1;33m.\u001b[0m\u001b[0mtrain\u001b[0m\u001b[1;33m.\u001b[0m\u001b[0miloc\u001b[0m\u001b[1;33m[\u001b[0m\u001b[0mu\u001b[0m\u001b[1;33m,\u001b[0m \u001b[1;33m:\u001b[0m\u001b[1;33m]\u001b[0m\u001b[1;33m.\u001b[0m\u001b[0mname\u001b[0m\u001b[1;33m)\u001b[0m\u001b[1;33m\u001b[0m\u001b[1;33m\u001b[0m\u001b[0m\n\u001b[0m\u001b[0;32m     18\u001b[0m                 \u001b[0mitems\u001b[0m\u001b[1;33m.\u001b[0m\u001b[0mappend\u001b[0m\u001b[1;33m(\u001b[0m\u001b[0mi\u001b[0m\u001b[1;33m)\u001b[0m\u001b[1;33m\u001b[0m\u001b[1;33m\u001b[0m\u001b[0m\n\u001b[0;32m     19\u001b[0m                 \u001b[0minteraction\u001b[0m\u001b[1;33m.\u001b[0m\u001b[0mappend\u001b[0m\u001b[1;33m(\u001b[0m\u001b[1;36m1\u001b[0m \u001b[1;32mif\u001b[0m \u001b[0mself\u001b[0m\u001b[1;33m.\u001b[0m\u001b[0mtrain\u001b[0m\u001b[1;33m.\u001b[0m\u001b[0miloc\u001b[0m\u001b[1;33m[\u001b[0m\u001b[0mu\u001b[0m\u001b[1;33m,\u001b[0m \u001b[0mi\u001b[0m\u001b[1;33m]\u001b[0m \u001b[1;33m>\u001b[0m \u001b[1;36m0\u001b[0m \u001b[1;32melse\u001b[0m \u001b[1;36m0\u001b[0m\u001b[1;33m)\u001b[0m\u001b[1;33m\u001b[0m\u001b[1;33m\u001b[0m\u001b[0m\n",
      "\u001b[1;32m~\\Anaconda3\\lib\\site-packages\\pandas\\core\\indexing.py\u001b[0m in \u001b[0;36m__getitem__\u001b[1;34m(self, key)\u001b[0m\n\u001b[0;32m    887\u001b[0m                     \u001b[1;31m# AttributeError for IntervalTree get_value\u001b[0m\u001b[1;33m\u001b[0m\u001b[1;33m\u001b[0m\u001b[1;33m\u001b[0m\u001b[0m\n\u001b[0;32m    888\u001b[0m                     \u001b[1;32mreturn\u001b[0m \u001b[0mself\u001b[0m\u001b[1;33m.\u001b[0m\u001b[0mobj\u001b[0m\u001b[1;33m.\u001b[0m\u001b[0m_get_value\u001b[0m\u001b[1;33m(\u001b[0m\u001b[1;33m*\u001b[0m\u001b[0mkey\u001b[0m\u001b[1;33m,\u001b[0m \u001b[0mtakeable\u001b[0m\u001b[1;33m=\u001b[0m\u001b[0mself\u001b[0m\u001b[1;33m.\u001b[0m\u001b[0m_takeable\u001b[0m\u001b[1;33m)\u001b[0m\u001b[1;33m\u001b[0m\u001b[1;33m\u001b[0m\u001b[0m\n\u001b[1;32m--> 889\u001b[1;33m             \u001b[1;32mreturn\u001b[0m \u001b[0mself\u001b[0m\u001b[1;33m.\u001b[0m\u001b[0m_getitem_tuple\u001b[0m\u001b[1;33m(\u001b[0m\u001b[0mkey\u001b[0m\u001b[1;33m)\u001b[0m\u001b[1;33m\u001b[0m\u001b[1;33m\u001b[0m\u001b[0m\n\u001b[0m\u001b[0;32m    890\u001b[0m         \u001b[1;32melse\u001b[0m\u001b[1;33m:\u001b[0m\u001b[1;33m\u001b[0m\u001b[1;33m\u001b[0m\u001b[0m\n\u001b[0;32m    891\u001b[0m             \u001b[1;31m# we by definition only have the 0th axis\u001b[0m\u001b[1;33m\u001b[0m\u001b[1;33m\u001b[0m\u001b[1;33m\u001b[0m\u001b[0m\n",
      "\u001b[1;32m~\\Anaconda3\\lib\\site-packages\\pandas\\core\\indexing.py\u001b[0m in \u001b[0;36m_getitem_tuple\u001b[1;34m(self, tup)\u001b[0m\n\u001b[0;32m   1450\u001b[0m         \u001b[0mself\u001b[0m\u001b[1;33m.\u001b[0m\u001b[0m_has_valid_tuple\u001b[0m\u001b[1;33m(\u001b[0m\u001b[0mtup\u001b[0m\u001b[1;33m)\u001b[0m\u001b[1;33m\u001b[0m\u001b[1;33m\u001b[0m\u001b[0m\n\u001b[0;32m   1451\u001b[0m         \u001b[1;32mwith\u001b[0m \u001b[0msuppress\u001b[0m\u001b[1;33m(\u001b[0m\u001b[0mIndexingError\u001b[0m\u001b[1;33m)\u001b[0m\u001b[1;33m:\u001b[0m\u001b[1;33m\u001b[0m\u001b[1;33m\u001b[0m\u001b[0m\n\u001b[1;32m-> 1452\u001b[1;33m             \u001b[1;32mreturn\u001b[0m \u001b[0mself\u001b[0m\u001b[1;33m.\u001b[0m\u001b[0m_getitem_lowerdim\u001b[0m\u001b[1;33m(\u001b[0m\u001b[0mtup\u001b[0m\u001b[1;33m)\u001b[0m\u001b[1;33m\u001b[0m\u001b[1;33m\u001b[0m\u001b[0m\n\u001b[0m\u001b[0;32m   1453\u001b[0m \u001b[1;33m\u001b[0m\u001b[0m\n\u001b[0;32m   1454\u001b[0m         \u001b[1;32mreturn\u001b[0m \u001b[0mself\u001b[0m\u001b[1;33m.\u001b[0m\u001b[0m_getitem_tuple_same_dim\u001b[0m\u001b[1;33m(\u001b[0m\u001b[0mtup\u001b[0m\u001b[1;33m)\u001b[0m\u001b[1;33m\u001b[0m\u001b[1;33m\u001b[0m\u001b[0m\n",
      "\u001b[1;32m~\\Anaconda3\\lib\\site-packages\\pandas\\core\\indexing.py\u001b[0m in \u001b[0;36m_getitem_lowerdim\u001b[1;34m(self, tup)\u001b[0m\n\u001b[0;32m    805\u001b[0m                 \u001b[1;31m# We don't need to check for tuples here because those are\u001b[0m\u001b[1;33m\u001b[0m\u001b[1;33m\u001b[0m\u001b[1;33m\u001b[0m\u001b[0m\n\u001b[0;32m    806\u001b[0m                 \u001b[1;31m#  caught by the _is_nested_tuple_indexer check above.\u001b[0m\u001b[1;33m\u001b[0m\u001b[1;33m\u001b[0m\u001b[1;33m\u001b[0m\u001b[0m\n\u001b[1;32m--> 807\u001b[1;33m                 \u001b[0msection\u001b[0m \u001b[1;33m=\u001b[0m \u001b[0mself\u001b[0m\u001b[1;33m.\u001b[0m\u001b[0m_getitem_axis\u001b[0m\u001b[1;33m(\u001b[0m\u001b[0mkey\u001b[0m\u001b[1;33m,\u001b[0m \u001b[0maxis\u001b[0m\u001b[1;33m=\u001b[0m\u001b[0mi\u001b[0m\u001b[1;33m)\u001b[0m\u001b[1;33m\u001b[0m\u001b[1;33m\u001b[0m\u001b[0m\n\u001b[0m\u001b[0;32m    808\u001b[0m \u001b[1;33m\u001b[0m\u001b[0m\n\u001b[0;32m    809\u001b[0m                 \u001b[1;31m# We should never have a scalar section here, because\u001b[0m\u001b[1;33m\u001b[0m\u001b[1;33m\u001b[0m\u001b[1;33m\u001b[0m\u001b[0m\n",
      "\u001b[1;32m~\\Anaconda3\\lib\\site-packages\\pandas\\core\\indexing.py\u001b[0m in \u001b[0;36m_getitem_axis\u001b[1;34m(self, key, axis)\u001b[0m\n\u001b[0;32m   1501\u001b[0m             \u001b[0mself\u001b[0m\u001b[1;33m.\u001b[0m\u001b[0m_validate_integer\u001b[0m\u001b[1;33m(\u001b[0m\u001b[0mkey\u001b[0m\u001b[1;33m,\u001b[0m \u001b[0maxis\u001b[0m\u001b[1;33m)\u001b[0m\u001b[1;33m\u001b[0m\u001b[1;33m\u001b[0m\u001b[0m\n\u001b[0;32m   1502\u001b[0m \u001b[1;33m\u001b[0m\u001b[0m\n\u001b[1;32m-> 1503\u001b[1;33m             \u001b[1;32mreturn\u001b[0m \u001b[0mself\u001b[0m\u001b[1;33m.\u001b[0m\u001b[0mobj\u001b[0m\u001b[1;33m.\u001b[0m\u001b[0m_ixs\u001b[0m\u001b[1;33m(\u001b[0m\u001b[0mkey\u001b[0m\u001b[1;33m,\u001b[0m \u001b[0maxis\u001b[0m\u001b[1;33m=\u001b[0m\u001b[0maxis\u001b[0m\u001b[1;33m)\u001b[0m\u001b[1;33m\u001b[0m\u001b[1;33m\u001b[0m\u001b[0m\n\u001b[0m\u001b[0;32m   1504\u001b[0m \u001b[1;33m\u001b[0m\u001b[0m\n\u001b[0;32m   1505\u001b[0m     \u001b[1;32mdef\u001b[0m \u001b[0m_get_slice_axis\u001b[0m\u001b[1;33m(\u001b[0m\u001b[0mself\u001b[0m\u001b[1;33m,\u001b[0m \u001b[0mslice_obj\u001b[0m\u001b[1;33m:\u001b[0m \u001b[0mslice\u001b[0m\u001b[1;33m,\u001b[0m \u001b[0maxis\u001b[0m\u001b[1;33m:\u001b[0m \u001b[0mint\u001b[0m\u001b[1;33m)\u001b[0m\u001b[1;33m:\u001b[0m\u001b[1;33m\u001b[0m\u001b[1;33m\u001b[0m\u001b[0m\n",
      "\u001b[1;32m~\\Anaconda3\\lib\\site-packages\\pandas\\core\\frame.py\u001b[0m in \u001b[0;36m_ixs\u001b[1;34m(self, i, axis)\u001b[0m\n\u001b[0;32m   2949\u001b[0m             \u001b[1;31m# if we are a copy, mark as such\u001b[0m\u001b[1;33m\u001b[0m\u001b[1;33m\u001b[0m\u001b[1;33m\u001b[0m\u001b[0m\n\u001b[0;32m   2950\u001b[0m             \u001b[0mcopy\u001b[0m \u001b[1;33m=\u001b[0m \u001b[0misinstance\u001b[0m\u001b[1;33m(\u001b[0m\u001b[0mnew_values\u001b[0m\u001b[1;33m,\u001b[0m \u001b[0mnp\u001b[0m\u001b[1;33m.\u001b[0m\u001b[0mndarray\u001b[0m\u001b[1;33m)\u001b[0m \u001b[1;32mand\u001b[0m \u001b[0mnew_values\u001b[0m\u001b[1;33m.\u001b[0m\u001b[0mbase\u001b[0m \u001b[1;32mis\u001b[0m \u001b[1;32mNone\u001b[0m\u001b[1;33m\u001b[0m\u001b[1;33m\u001b[0m\u001b[0m\n\u001b[1;32m-> 2951\u001b[1;33m             result = self._constructor_sliced(\n\u001b[0m\u001b[0;32m   2952\u001b[0m                 \u001b[0mnew_values\u001b[0m\u001b[1;33m,\u001b[0m\u001b[1;33m\u001b[0m\u001b[1;33m\u001b[0m\u001b[0m\n\u001b[0;32m   2953\u001b[0m                 \u001b[0mindex\u001b[0m\u001b[1;33m=\u001b[0m\u001b[0mself\u001b[0m\u001b[1;33m.\u001b[0m\u001b[0mcolumns\u001b[0m\u001b[1;33m,\u001b[0m\u001b[1;33m\u001b[0m\u001b[1;33m\u001b[0m\u001b[0m\n",
      "\u001b[1;32m~\\Anaconda3\\lib\\site-packages\\pandas\\core\\series.py\u001b[0m in \u001b[0;36m__init__\u001b[1;34m(self, data, index, dtype, name, copy, fastpath)\u001b[0m\n\u001b[0;32m    364\u001b[0m                 \u001b[0mdata\u001b[0m \u001b[1;33m=\u001b[0m \u001b[0msanitize_array\u001b[0m\u001b[1;33m(\u001b[0m\u001b[0mdata\u001b[0m\u001b[1;33m,\u001b[0m \u001b[0mindex\u001b[0m\u001b[1;33m,\u001b[0m \u001b[0mdtype\u001b[0m\u001b[1;33m,\u001b[0m \u001b[0mcopy\u001b[0m\u001b[1;33m,\u001b[0m \u001b[0mraise_cast_failure\u001b[0m\u001b[1;33m=\u001b[0m\u001b[1;32mTrue\u001b[0m\u001b[1;33m)\u001b[0m\u001b[1;33m\u001b[0m\u001b[1;33m\u001b[0m\u001b[0m\n\u001b[0;32m    365\u001b[0m \u001b[1;33m\u001b[0m\u001b[0m\n\u001b[1;32m--> 366\u001b[1;33m                 \u001b[0mdata\u001b[0m \u001b[1;33m=\u001b[0m \u001b[0mSingleBlockManager\u001b[0m\u001b[1;33m.\u001b[0m\u001b[0mfrom_array\u001b[0m\u001b[1;33m(\u001b[0m\u001b[0mdata\u001b[0m\u001b[1;33m,\u001b[0m \u001b[0mindex\u001b[0m\u001b[1;33m)\u001b[0m\u001b[1;33m\u001b[0m\u001b[1;33m\u001b[0m\u001b[0m\n\u001b[0m\u001b[0;32m    367\u001b[0m \u001b[1;33m\u001b[0m\u001b[0m\n\u001b[0;32m    368\u001b[0m         \u001b[0mgeneric\u001b[0m\u001b[1;33m.\u001b[0m\u001b[0mNDFrame\u001b[0m\u001b[1;33m.\u001b[0m\u001b[0m__init__\u001b[0m\u001b[1;33m(\u001b[0m\u001b[0mself\u001b[0m\u001b[1;33m,\u001b[0m \u001b[0mdata\u001b[0m\u001b[1;33m)\u001b[0m\u001b[1;33m\u001b[0m\u001b[1;33m\u001b[0m\u001b[0m\n",
      "\u001b[1;32m~\\Anaconda3\\lib\\site-packages\\pandas\\core\\internals\\managers.py\u001b[0m in \u001b[0;36mfrom_array\u001b[1;34m(cls, array, index)\u001b[0m\n\u001b[0;32m   1580\u001b[0m         \u001b[0mConstructor\u001b[0m \u001b[1;32mfor\u001b[0m \u001b[1;32mif\u001b[0m \u001b[0mwe\u001b[0m \u001b[0mhave\u001b[0m \u001b[0man\u001b[0m \u001b[0marray\u001b[0m \u001b[0mthat\u001b[0m \u001b[1;32mis\u001b[0m \u001b[1;32mnot\u001b[0m \u001b[0myet\u001b[0m \u001b[0ma\u001b[0m \u001b[0mBlock\u001b[0m\u001b[1;33m.\u001b[0m\u001b[1;33m\u001b[0m\u001b[1;33m\u001b[0m\u001b[0m\n\u001b[0;32m   1581\u001b[0m         \"\"\"\n\u001b[1;32m-> 1582\u001b[1;33m         \u001b[0mblock\u001b[0m \u001b[1;33m=\u001b[0m \u001b[0mmake_block\u001b[0m\u001b[1;33m(\u001b[0m\u001b[0marray\u001b[0m\u001b[1;33m,\u001b[0m \u001b[0mplacement\u001b[0m\u001b[1;33m=\u001b[0m\u001b[0mslice\u001b[0m\u001b[1;33m(\u001b[0m\u001b[1;36m0\u001b[0m\u001b[1;33m,\u001b[0m \u001b[0mlen\u001b[0m\u001b[1;33m(\u001b[0m\u001b[0mindex\u001b[0m\u001b[1;33m)\u001b[0m\u001b[1;33m)\u001b[0m\u001b[1;33m,\u001b[0m \u001b[0mndim\u001b[0m\u001b[1;33m=\u001b[0m\u001b[1;36m1\u001b[0m\u001b[1;33m)\u001b[0m\u001b[1;33m\u001b[0m\u001b[1;33m\u001b[0m\u001b[0m\n\u001b[0m\u001b[0;32m   1583\u001b[0m         \u001b[1;32mreturn\u001b[0m \u001b[0mcls\u001b[0m\u001b[1;33m(\u001b[0m\u001b[0mblock\u001b[0m\u001b[1;33m,\u001b[0m \u001b[0mindex\u001b[0m\u001b[1;33m)\u001b[0m\u001b[1;33m\u001b[0m\u001b[1;33m\u001b[0m\u001b[0m\n\u001b[0;32m   1584\u001b[0m \u001b[1;33m\u001b[0m\u001b[0m\n",
      "\u001b[1;32m~\\Anaconda3\\lib\\site-packages\\pandas\\core\\internals\\blocks.py\u001b[0m in \u001b[0;36mmake_block\u001b[1;34m(values, placement, klass, ndim, dtype)\u001b[0m\n\u001b[0;32m   2740\u001b[0m         \u001b[0mvalues\u001b[0m \u001b[1;33m=\u001b[0m \u001b[0mDatetimeArray\u001b[0m\u001b[1;33m.\u001b[0m\u001b[0m_simple_new\u001b[0m\u001b[1;33m(\u001b[0m\u001b[0mvalues\u001b[0m\u001b[1;33m,\u001b[0m \u001b[0mdtype\u001b[0m\u001b[1;33m=\u001b[0m\u001b[0mdtype\u001b[0m\u001b[1;33m)\u001b[0m\u001b[1;33m\u001b[0m\u001b[1;33m\u001b[0m\u001b[0m\n\u001b[0;32m   2741\u001b[0m \u001b[1;33m\u001b[0m\u001b[0m\n\u001b[1;32m-> 2742\u001b[1;33m     \u001b[1;32mreturn\u001b[0m \u001b[0mklass\u001b[0m\u001b[1;33m(\u001b[0m\u001b[0mvalues\u001b[0m\u001b[1;33m,\u001b[0m \u001b[0mndim\u001b[0m\u001b[1;33m=\u001b[0m\u001b[0mndim\u001b[0m\u001b[1;33m,\u001b[0m \u001b[0mplacement\u001b[0m\u001b[1;33m=\u001b[0m\u001b[0mplacement\u001b[0m\u001b[1;33m)\u001b[0m\u001b[1;33m\u001b[0m\u001b[1;33m\u001b[0m\u001b[0m\n\u001b[0m\u001b[0;32m   2743\u001b[0m \u001b[1;33m\u001b[0m\u001b[0m\n\u001b[0;32m   2744\u001b[0m \u001b[1;33m\u001b[0m\u001b[0m\n",
      "\u001b[1;32m~\\Anaconda3\\lib\\site-packages\\pandas\\core\\internals\\blocks.py\u001b[0m in \u001b[0;36m__init__\u001b[1;34m(self, values, placement, ndim)\u001b[0m\n\u001b[0;32m    135\u001b[0m         \"\"\"\n\u001b[0;32m    136\u001b[0m         \u001b[1;31m# TODO(EA2D): ndim will be unnecessary with 2D EAs\u001b[0m\u001b[1;33m\u001b[0m\u001b[1;33m\u001b[0m\u001b[1;33m\u001b[0m\u001b[0m\n\u001b[1;32m--> 137\u001b[1;33m         \u001b[0mself\u001b[0m\u001b[1;33m.\u001b[0m\u001b[0mndim\u001b[0m \u001b[1;33m=\u001b[0m \u001b[0mself\u001b[0m\u001b[1;33m.\u001b[0m\u001b[0m_check_ndim\u001b[0m\u001b[1;33m(\u001b[0m\u001b[0mvalues\u001b[0m\u001b[1;33m,\u001b[0m \u001b[0mndim\u001b[0m\u001b[1;33m)\u001b[0m\u001b[1;33m\u001b[0m\u001b[1;33m\u001b[0m\u001b[0m\n\u001b[0m\u001b[0;32m    138\u001b[0m         \u001b[0mself\u001b[0m\u001b[1;33m.\u001b[0m\u001b[0mmgr_locs\u001b[0m \u001b[1;33m=\u001b[0m \u001b[0mplacement\u001b[0m\u001b[1;33m\u001b[0m\u001b[1;33m\u001b[0m\u001b[0m\n\u001b[0;32m    139\u001b[0m         \u001b[0mself\u001b[0m\u001b[1;33m.\u001b[0m\u001b[0mvalues\u001b[0m \u001b[1;33m=\u001b[0m \u001b[0mself\u001b[0m\u001b[1;33m.\u001b[0m\u001b[0m_maybe_coerce_values\u001b[0m\u001b[1;33m(\u001b[0m\u001b[0mvalues\u001b[0m\u001b[1;33m)\u001b[0m\u001b[1;33m\u001b[0m\u001b[1;33m\u001b[0m\u001b[0m\n",
      "\u001b[1;31mKeyboardInterrupt\u001b[0m: "
     ]
    }
   ],
   "source": [
    "# params \n",
    "\n",
    "TOP_K = 5\n",
    "num_epoch = 50\n",
    "num_users = len(user_item)\n",
    "num_items = len(user_item.columns)\n",
    "embedding_dim = 32\n",
    "layers = [embedding_dim*2, 32, 32, 1]\n",
    "dropout = 0\n",
    "batch_size=104\n",
    "DEVICE='cpu'\n",
    "\n",
    "data = NCFData(user_item=user_item, batch_size=batch_size)\n",
    "\n",
    "model = NeuMF(num_users=num_users,\n",
    "            num_items=num_items,\n",
    "            embedding_dim=embedding_dim,\n",
    "            layers=layers,\n",
    "            dropout_rate=dropout)\n",
    "model = model.to(DEVICE)\n",
    "\n",
    "criterion = nn.BCELoss()\n",
    "optimizer = torch.optim.Adam(model.parameters(), lr=1e-5)\n",
    "\n",
    "loss_history, metric_history = train_pipeline(model=model,\n",
    "                                              optimizer=optimizer,\n",
    "                                              criterion=criterion,\n",
    "                                              data=data,\n",
    "                                              num_epochs = num_epoch)"
   ]
  },
  {
   "cell_type": "code",
   "execution_count": 31,
   "metadata": {
    "colab": {
     "base_uri": "https://localhost:8080/",
     "height": 609
    },
    "executionInfo": {
     "elapsed": 987,
     "status": "ok",
     "timestamp": 1629974256446,
     "user": {
      "displayName": "Рустем Камильянов",
      "photoUrl": "",
      "userId": "10196996601711118977"
     },
     "user_tz": -300
    },
    "id": "HqJeZv4xBSVF",
    "outputId": "bdc9e9ba-732b-4551-8488-81fcbfd43b5a"
   },
   "outputs": [
    {
     "data": {
      "text/plain": [
       "[<matplotlib.lines.Line2D at 0x7f2900164eb0>]"
      ]
     },
     "execution_count": 31,
     "metadata": {},
     "output_type": "execute_result"
    },
    {
     "data": {
      "image/png": "[encoded data removed]",
      "text/plain": [
       "<Figure size 1440x720 with 1 Axes>"
      ]
     },
     "metadata": {
      "needs_background": "light"
     },
     "output_type": "display_data"
    }
   ],
   "source": [
    "plt.figure(figsize=(20,10))\n",
    "plt.plot(loss_history)"
   ]
  }
 ],
 "metadata": {
  "colab": {
   "authorship_tag": "ABX9TyNcNND1IcxawWPkzZvJ+2MY",
   "collapsed_sections": [],
   "mount_file_id": "1-_T8cLT0nUbuYRz4TidhTf0UtK63FCV6",
   "name": "rec.ipynb",
   "provenance": []
  },
  "interpreter": {
   "hash": "5d9c5e6e7abddc8bc312449be263fa6ffbfb9d41e4a4080fc199c56df0e071f7"
  },
  "kernelspec": {
   "display_name": "Python 3",
   "language": "python",
   "name": "python3"
  },
  "language_info": {
   "codemirror_mode": {
    "name": "ipython",
    "version": 3
   },
   "file_extension": ".py",
   "mimetype": "text/x-python",
   "name": "python",
   "nbconvert_exporter": "python",
   "pygments_lexer": "ipython3",
   "version": "3.8.8"
  },
  "widgets": {
   "application/vnd.jupyter.widget-state+json": {
    "0636428917e445d0ac42f01e3736ea49": {
     "model_module": "@jupyter-widgets/controls",
     "model_module_version": "1.5.0",
     "model_name": "ProgressStyleModel",
     "state": {
      "_model_module": "@jupyter-widgets/controls",
      "_model_module_version": "1.5.0",
      "_model_name": "ProgressStyleModel",
      "_view_count": null,
      "_view_module": "@jupyter-widgets/base",
      "_view_module_version": "1.2.0",
      "_view_name": "StyleView",
      "bar_color": null,
      "description_width": ""
     }
    },
    "1405a29c31d54fcba318b8978c2ac356": {
     "model_module": "@jupyter-widgets/controls",
     "model_module_version": "1.5.0",
     "model_name": "DescriptionStyleModel",
     "state": {
      "_model_module": "@jupyter-widgets/controls",
      "_model_module_version": "1.5.0",
      "_model_name": "DescriptionStyleModel",
      "_view_count": null,
      "_view_module": "@jupyter-widgets/base",
      "_view_module_version": "1.2.0",
      "_view_name": "StyleView",
      "description_width": ""
     }
    },
    "1742c57b5305498d9a39b6ff02f68257": {
     "model_module": "@jupyter-widgets/base",
     "model_module_version": "1.2.0",
     "model_name": "LayoutModel",
     "state": {
      "_model_module": "@jupyter-widgets/base",
      "_model_module_version": "1.2.0",
      "_model_name": "LayoutModel",
      "_view_count": null,
      "_view_module": "@jupyter-widgets/base",
      "_view_module_version": "1.2.0",
      "_view_name": "LayoutView",
      "align_content": null,
      "align_items": null,
      "align_self": null,
      "border": null,
      "bottom": null,
      "display": null,
      "flex": null,
      "flex_flow": null,
      "grid_area": null,
      "grid_auto_columns": null,
      "grid_auto_flow": null,
      "grid_auto_rows": null,
      "grid_column": null,
      "grid_gap": null,
      "grid_row": null,
      "grid_template_areas": null,
      "grid_template_columns": null,
      "grid_template_rows": null,
      "height": null,
      "justify_content": null,
      "justify_items": null,
      "left": null,
      "margin": null,
      "max_height": null,
      "max_width": null,
      "min_height": null,
      "min_width": null,
      "object_fit": null,
      "object_position": null,
      "order": null,
      "overflow": null,
      "overflow_x": null,
      "overflow_y": null,
      "padding": null,
      "right": null,
      "top": null,
      "visibility": null,
      "width": null
     }
    },
    "18e5b306718b4288bde2e9a8c2cc9919": {
     "model_module": "@jupyter-widgets/controls",
     "model_module_version": "1.5.0",
     "model_name": "DescriptionStyleModel",
     "state": {
      "_model_module": "@jupyter-widgets/controls",
      "_model_module_version": "1.5.0",
      "_model_name": "DescriptionStyleModel",
      "_view_count": null,
      "_view_module": "@jupyter-widgets/base",
      "_view_module_version": "1.2.0",
      "_view_name": "StyleView",
      "description_width": ""
     }
    },
    "1924e338bb604ff3aeb0b0a18d088336": {
     "model_module": "@jupyter-widgets/base",
     "model_module_version": "1.2.0",
     "model_name": "LayoutModel",
     "state": {
      "_model_module": "@jupyter-widgets/base",
      "_model_module_version": "1.2.0",
      "_model_name": "LayoutModel",
      "_view_count": null,
      "_view_module": "@jupyter-widgets/base",
      "_view_module_version": "1.2.0",
      "_view_name": "LayoutView",
      "align_content": null,
      "align_items": null,
      "align_self": null,
      "border": null,
      "bottom": null,
      "display": null,
      "flex": null,
      "flex_flow": null,
      "grid_area": null,
      "grid_auto_columns": null,
      "grid_auto_flow": null,
      "grid_auto_rows": null,
      "grid_column": null,
      "grid_gap": null,
      "grid_row": null,
      "grid_template_areas": null,
      "grid_template_columns": null,
      "grid_template_rows": null,
      "height": null,
      "justify_content": null,
      "justify_items": null,
      "left": null,
      "margin": null,
      "max_height": null,
      "max_width": null,
      "min_height": null,
      "min_width": null,
      "object_fit": null,
      "object_position": null,
      "order": null,
      "overflow": null,
      "overflow_x": null,
      "overflow_y": null,
      "padding": null,
      "right": null,
      "top": null,
      "visibility": null,
      "width": null
     }
    },
    "1db273efacb14050822dab39c1dd4b93": {
     "model_module": "@jupyter-widgets/controls",
     "model_module_version": "1.5.0",
     "model_name": "DescriptionStyleModel",
     "state": {
      "_model_module": "@jupyter-widgets/controls",
      "_model_module_version": "1.5.0",
      "_model_name": "DescriptionStyleModel",
      "_view_count": null,
      "_view_module": "@jupyter-widgets/base",
      "_view_module_version": "1.2.0",
      "_view_name": "StyleView",
      "description_width": ""
     }
    },
    "2040e118297e466f9319430e0f3d9444": {
     "model_module": "@jupyter-widgets/controls",
     "model_module_version": "1.5.0",
     "model_name": "ProgressStyleModel",
     "state": {
      "_model_module": "@jupyter-widgets/controls",
      "_model_module_version": "1.5.0",
      "_model_name": "ProgressStyleModel",
      "_view_count": null,
      "_view_module": "@jupyter-widgets/base",
      "_view_module_version": "1.2.0",
      "_view_name": "StyleView",
      "bar_color": null,
      "description_width": ""
     }
    },
    "28dd5154b8b541e9834ac0ae56150a1d": {
     "model_module": "@jupyter-widgets/controls",
     "model_module_version": "1.5.0",
     "model_name": "HTMLModel",
     "state": {
      "_dom_classes": [],
      "_model_module": "@jupyter-widgets/controls",
      "_model_module_version": "1.5.0",
      "_model_name": "HTMLModel",
      "_view_count": null,
      "_view_module": "@jupyter-widgets/controls",
      "_view_module_version": "1.5.0",
      "_view_name": "HTMLView",
      "description": "",
      "description_tooltip": null,
      "layout": "IPY_MODEL_f47cdd55c2644ef388343ec5d0e7cf9e",
      "placeholder": "​",
      "style": "IPY_MODEL_1405a29c31d54fcba318b8978c2ac356",
      "value": " 8/8 [00:00&lt;00:00, 33.10it/s]"
     }
    },
    "4cc8cb83169a4afe973264ae47e7125e": {
     "model_module": "@jupyter-widgets/base",
     "model_module_version": "1.2.0",
     "model_name": "LayoutModel",
     "state": {
      "_model_module": "@jupyter-widgets/base",
      "_model_module_version": "1.2.0",
      "_model_name": "LayoutModel",
      "_view_count": null,
      "_view_module": "@jupyter-widgets/base",
      "_view_module_version": "1.2.0",
      "_view_name": "LayoutView",
      "align_content": null,
      "align_items": null,
      "align_self": null,
      "border": null,
      "bottom": null,
      "display": null,
      "flex": null,
      "flex_flow": null,
      "grid_area": null,
      "grid_auto_columns": null,
      "grid_auto_flow": null,
      "grid_auto_rows": null,
      "grid_column": null,
      "grid_gap": null,
      "grid_row": null,
      "grid_template_areas": null,
      "grid_template_columns": null,
      "grid_template_rows": null,
      "height": null,
      "justify_content": null,
      "justify_items": null,
      "left": null,
      "margin": null,
      "max_height": null,
      "max_width": null,
      "min_height": null,
      "min_width": null,
      "object_fit": null,
      "object_position": null,
      "order": null,
      "overflow": null,
      "overflow_x": null,
      "overflow_y": null,
      "padding": null,
      "right": null,
      "top": null,
      "visibility": null,
      "width": null
     }
    },
    "618d994a77be45868ac8b1c832507659": {
     "model_module": "@jupyter-widgets/controls",
     "model_module_version": "1.5.0",
     "model_name": "HBoxModel",
     "state": {
      "_dom_classes": [],
      "_model_module": "@jupyter-widgets/controls",
      "_model_module_version": "1.5.0",
      "_model_name": "HBoxModel",
      "_view_count": null,
      "_view_module": "@jupyter-widgets/controls",
      "_view_module_version": "1.5.0",
      "_view_name": "HBoxView",
      "box_style": "",
      "children": [
       "IPY_MODEL_c591c19bcfe04c318ef9b43eccdfec12",
       "IPY_MODEL_eea5065697db4d17bc51864cea1fd29d",
       "IPY_MODEL_725c209b903a46f4a7d62c9252edea73"
      ],
      "layout": "IPY_MODEL_b0f73e82669c47c392f97e6ce56f256c"
     }
    },
    "677c72cc1f9d473d8b869190978cec5d": {
     "model_module": "@jupyter-widgets/controls",
     "model_module_version": "1.5.0",
     "model_name": "DescriptionStyleModel",
     "state": {
      "_model_module": "@jupyter-widgets/controls",
      "_model_module_version": "1.5.0",
      "_model_name": "DescriptionStyleModel",
      "_view_count": null,
      "_view_module": "@jupyter-widgets/base",
      "_view_module_version": "1.2.0",
      "_view_name": "StyleView",
      "description_width": ""
     }
    },
    "725c209b903a46f4a7d62c9252edea73": {
     "model_module": "@jupyter-widgets/controls",
     "model_module_version": "1.5.0",
     "model_name": "HTMLModel",
     "state": {
      "_dom_classes": [],
      "_model_module": "@jupyter-widgets/controls",
      "_model_module_version": "1.5.0",
      "_model_name": "HTMLModel",
      "_view_count": null,
      "_view_module": "@jupyter-widgets/controls",
      "_view_module_version": "1.5.0",
      "_view_name": "HTMLView",
      "description": "",
      "description_tooltip": null,
      "layout": "IPY_MODEL_7f34e5262a8741a58c991e26fc62093d",
      "placeholder": "​",
      "style": "IPY_MODEL_1db273efacb14050822dab39c1dd4b93",
      "value": " 8/8 [00:00&lt;00:00, 37.76it/s]"
     }
    },
    "7f34e5262a8741a58c991e26fc62093d": {
     "model_module": "@jupyter-widgets/base",
     "model_module_version": "1.2.0",
     "model_name": "LayoutModel",
     "state": {
      "_model_module": "@jupyter-widgets/base",
      "_model_module_version": "1.2.0",
      "_model_name": "LayoutModel",
      "_view_count": null,
      "_view_module": "@jupyter-widgets/base",
      "_view_module_version": "1.2.0",
      "_view_name": "LayoutView",
      "align_content": null,
      "align_items": null,
      "align_self": null,
      "border": null,
      "bottom": null,
      "display": null,
      "flex": null,
      "flex_flow": null,
      "grid_area": null,
      "grid_auto_columns": null,
      "grid_auto_flow": null,
      "grid_auto_rows": null,
      "grid_column": null,
      "grid_gap": null,
      "grid_row": null,
      "grid_template_areas": null,
      "grid_template_columns": null,
      "grid_template_rows": null,
      "height": null,
      "justify_content": null,
      "justify_items": null,
      "left": null,
      "margin": null,
      "max_height": null,
      "max_width": null,
      "min_height": null,
      "min_width": null,
      "object_fit": null,
      "object_position": null,
      "order": null,
      "overflow": null,
      "overflow_x": null,
      "overflow_y": null,
      "padding": null,
      "right": null,
      "top": null,
      "visibility": null,
      "width": null
     }
    },
    "9618317c8ed84b5f982fc76a76f2e5ef": {
     "model_module": "@jupyter-widgets/controls",
     "model_module_version": "1.5.0",
     "model_name": "HTMLModel",
     "state": {
      "_dom_classes": [],
      "_model_module": "@jupyter-widgets/controls",
      "_model_module_version": "1.5.0",
      "_model_name": "HTMLModel",
      "_view_count": null,
      "_view_module": "@jupyter-widgets/controls",
      "_view_module_version": "1.5.0",
      "_view_name": "HTMLView",
      "description": "",
      "description_tooltip": null,
      "layout": "IPY_MODEL_e158b4c210854885bd82f210ffb06996",
      "placeholder": "​",
      "style": "IPY_MODEL_18e5b306718b4288bde2e9a8c2cc9919",
      "value": "100%"
     }
    },
    "b0f73e82669c47c392f97e6ce56f256c": {
     "model_module": "@jupyter-widgets/base",
     "model_module_version": "1.2.0",
     "model_name": "LayoutModel",
     "state": {
      "_model_module": "@jupyter-widgets/base",
      "_model_module_version": "1.2.0",
      "_model_name": "LayoutModel",
      "_view_count": null,
      "_view_module": "@jupyter-widgets/base",
      "_view_module_version": "1.2.0",
      "_view_name": "LayoutView",
      "align_content": null,
      "align_items": null,
      "align_self": null,
      "border": null,
      "bottom": null,
      "display": null,
      "flex": null,
      "flex_flow": null,
      "grid_area": null,
      "grid_auto_columns": null,
      "grid_auto_flow": null,
      "grid_auto_rows": null,
      "grid_column": null,
      "grid_gap": null,
      "grid_row": null,
      "grid_template_areas": null,
      "grid_template_columns": null,
      "grid_template_rows": null,
      "height": null,
      "justify_content": null,
      "justify_items": null,
      "left": null,
      "margin": null,
      "max_height": null,
      "max_width": null,
      "min_height": null,
      "min_width": null,
      "object_fit": null,
      "object_position": null,
      "order": null,
      "overflow": null,
      "overflow_x": null,
      "overflow_y": null,
      "padding": null,
      "right": null,
      "top": null,
      "visibility": null,
      "width": null
     }
    },
    "bd47db31ea724916814207037f2b3122": {
     "model_module": "@jupyter-widgets/controls",
     "model_module_version": "1.5.0",
     "model_name": "HBoxModel",
     "state": {
      "_dom_classes": [],
      "_model_module": "@jupyter-widgets/controls",
      "_model_module_version": "1.5.0",
      "_model_name": "HBoxModel",
      "_view_count": null,
      "_view_module": "@jupyter-widgets/controls",
      "_view_module_version": "1.5.0",
      "_view_name": "HBoxView",
      "box_style": "",
      "children": [
       "IPY_MODEL_9618317c8ed84b5f982fc76a76f2e5ef",
       "IPY_MODEL_e4fc3fa6ef6941f49217838938d8df7f",
       "IPY_MODEL_28dd5154b8b541e9834ac0ae56150a1d"
      ],
      "layout": "IPY_MODEL_1742c57b5305498d9a39b6ff02f68257"
     }
    },
    "c591c19bcfe04c318ef9b43eccdfec12": {
     "model_module": "@jupyter-widgets/controls",
     "model_module_version": "1.5.0",
     "model_name": "HTMLModel",
     "state": {
      "_dom_classes": [],
      "_model_module": "@jupyter-widgets/controls",
      "_model_module_version": "1.5.0",
      "_model_name": "HTMLModel",
      "_view_count": null,
      "_view_module": "@jupyter-widgets/controls",
      "_view_module_version": "1.5.0",
      "_view_name": "HTMLView",
      "description": "",
      "description_tooltip": null,
      "layout": "IPY_MODEL_d112af64d0eb468c8e4b097e7ebd227b",
      "placeholder": "​",
      "style": "IPY_MODEL_677c72cc1f9d473d8b869190978cec5d",
      "value": "100%"
     }
    },
    "d112af64d0eb468c8e4b097e7ebd227b": {
     "model_module": "@jupyter-widgets/base",
     "model_module_version": "1.2.0",
     "model_name": "LayoutModel",
     "state": {
      "_model_module": "@jupyter-widgets/base",
      "_model_module_version": "1.2.0",
      "_model_name": "LayoutModel",
      "_view_count": null,
      "_view_module": "@jupyter-widgets/base",
      "_view_module_version": "1.2.0",
      "_view_name": "LayoutView",
      "align_content": null,
      "align_items": null,
      "align_self": null,
      "border": null,
      "bottom": null,
      "display": null,
      "flex": null,
      "flex_flow": null,
      "grid_area": null,
      "grid_auto_columns": null,
      "grid_auto_flow": null,
      "grid_auto_rows": null,
      "grid_column": null,
      "grid_gap": null,
      "grid_row": null,
      "grid_template_areas": null,
      "grid_template_columns": null,
      "grid_template_rows": null,
      "height": null,
      "justify_content": null,
      "justify_items": null,
      "left": null,
      "margin": null,
      "max_height": null,
      "max_width": null,
      "min_height": null,
      "min_width": null,
      "object_fit": null,
      "object_position": null,
      "order": null,
      "overflow": null,
      "overflow_x": null,
      "overflow_y": null,
      "padding": null,
      "right": null,
      "top": null,
      "visibility": null,
      "width": null
     }
    },
    "e158b4c210854885bd82f210ffb06996": {
     "model_module": "@jupyter-widgets/base",
     "model_module_version": "1.2.0",
     "model_name": "LayoutModel",
     "state": {
      "_model_module": "@jupyter-widgets/base",
      "_model_module_version": "1.2.0",
      "_model_name": "LayoutModel",
      "_view_count": null,
      "_view_module": "@jupyter-widgets/base",
      "_view_module_version": "1.2.0",
      "_view_name": "LayoutView",
      "align_content": null,
      "align_items": null,
      "align_self": null,
      "border": null,
      "bottom": null,
      "display": null,
      "flex": null,
      "flex_flow": null,
      "grid_area": null,
      "grid_auto_columns": null,
      "grid_auto_flow": null,
      "grid_auto_rows": null,
      "grid_column": null,
      "grid_gap": null,
      "grid_row": null,
      "grid_template_areas": null,
      "grid_template_columns": null,
      "grid_template_rows": null,
      "height": null,
      "justify_content": null,
      "justify_items": null,
      "left": null,
      "margin": null,
      "max_height": null,
      "max_width": null,
      "min_height": null,
      "min_width": null,
      "object_fit": null,
      "object_position": null,
      "order": null,
      "overflow": null,
      "overflow_x": null,
      "overflow_y": null,
      "padding": null,
      "right": null,
      "top": null,
      "visibility": null,
      "width": null
     }
    },
    "e4fc3fa6ef6941f49217838938d8df7f": {
     "model_module": "@jupyter-widgets/controls",
     "model_module_version": "1.5.0",
     "model_name": "FloatProgressModel",
     "state": {
      "_dom_classes": [],
      "_model_module": "@jupyter-widgets/controls",
      "_model_module_version": "1.5.0",
      "_model_name": "FloatProgressModel",
      "_view_count": null,
      "_view_module": "@jupyter-widgets/controls",
      "_view_module_version": "1.5.0",
      "_view_name": "ProgressView",
      "bar_style": "success",
      "description": "",
      "description_tooltip": null,
      "layout": "IPY_MODEL_1924e338bb604ff3aeb0b0a18d088336",
      "max": 8,
      "min": 0,
      "orientation": "horizontal",
      "style": "IPY_MODEL_0636428917e445d0ac42f01e3736ea49",
      "value": 8
     }
    },
    "eea5065697db4d17bc51864cea1fd29d": {
     "model_module": "@jupyter-widgets/controls",
     "model_module_version": "1.5.0",
     "model_name": "FloatProgressModel",
     "state": {
      "_dom_classes": [],
      "_model_module": "@jupyter-widgets/controls",
      "_model_module_version": "1.5.0",
      "_model_name": "FloatProgressModel",
      "_view_count": null,
      "_view_module": "@jupyter-widgets/controls",
      "_view_module_version": "1.5.0",
      "_view_name": "ProgressView",
      "bar_style": "success",
      "description": "",
      "description_tooltip": null,
      "layout": "IPY_MODEL_4cc8cb83169a4afe973264ae47e7125e",
      "max": 8,
      "min": 0,
      "orientation": "horizontal",
      "style": "IPY_MODEL_2040e118297e466f9319430e0f3d9444",
      "value": 8
     }
    },
    "f47cdd55c2644ef388343ec5d0e7cf9e": {
     "model_module": "@jupyter-widgets/base",
     "model_module_version": "1.2.0",
     "model_name": "LayoutModel",
     "state": {
      "_model_module": "@jupyter-widgets/base",
      "_model_module_version": "1.2.0",
      "_model_name": "LayoutModel",
      "_view_count": null,
      "_view_module": "@jupyter-widgets/base",
      "_view_module_version": "1.2.0",
      "_view_name": "LayoutView",
      "align_content": null,
      "align_items": null,
      "align_self": null,
      "border": null,
      "bottom": null,
      "display": null,
      "flex": null,
      "flex_flow": null,
      "grid_area": null,
      "grid_auto_columns": null,
      "grid_auto_flow": null,
      "grid_auto_rows": null,
      "grid_column": null,
      "grid_gap": null,
      "grid_row": null,
      "grid_template_areas": null,
      "grid_template_columns": null,
      "grid_template_rows": null,
      "height": null,
      "justify_content": null,
      "justify_items": null,
      "left": null,
      "margin": null,
      "max_height": null,
      "max_width": null,
      "min_height": null,
      "min_width": null,
      "object_fit": null,
      "object_position": null,
      "order": null,
      "overflow": null,
      "overflow_x": null,
      "overflow_y": null,
      "padding": null,
      "right": null,
      "top": null,
      "visibility": null,
      "width": null
     }
    }
   }
  }
 },
 "nbformat": 4,
 "nbformat_minor": 1
}
